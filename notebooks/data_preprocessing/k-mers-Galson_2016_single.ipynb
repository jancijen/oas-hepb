{
 "cells": [
  {
   "cell_type": "markdown",
   "metadata": {
    "papermill": {
     "duration": 0.043238,
     "end_time": "2020-07-24T16:54:22.378570",
     "exception": false,
     "start_time": "2020-07-24T16:54:22.335332",
     "status": "completed"
    },
    "tags": []
   },
   "source": [
    "# Construct k-mers for given sequences"
   ]
  },
  {
   "cell_type": "code",
   "execution_count": 1,
   "metadata": {
    "execution": {
     "iopub.execute_input": "2020-07-24T16:54:22.457429Z",
     "iopub.status.busy": "2020-07-24T16:54:22.456228Z",
     "iopub.status.idle": "2020-07-24T16:54:22.461698Z",
     "shell.execute_reply": "2020-07-24T16:54:22.460396Z"
    },
    "papermill": {
     "duration": 0.048725,
     "end_time": "2020-07-24T16:54:22.461913",
     "exception": false,
     "start_time": "2020-07-24T16:54:22.413188",
     "status": "completed"
    },
    "tags": [
     "parameters"
    ]
   },
   "outputs": [],
   "source": [
    "SEQUENCES_DATAFRAME_PATH = '../../data/combined/clustered/final/consensus_seq/Galson_2016.parquet'\n",
    "KMERS_DATAFRAME_OUTPUT_PATH = '../../data/features_data/kmers/Galson_2016.parquet'\n",
    "SEQ_COL_IDX = 0\n",
    "K = 3"
   ]
  },
  {
   "cell_type": "code",
   "execution_count": 2,
   "metadata": {
    "execution": {
     "iopub.execute_input": "2020-07-24T16:54:22.540448Z",
     "iopub.status.busy": "2020-07-24T16:54:22.539290Z",
     "iopub.status.idle": "2020-07-24T16:54:22.544635Z",
     "shell.execute_reply": "2020-07-24T16:54:22.543451Z"
    },
    "papermill": {
     "duration": 0.048266,
     "end_time": "2020-07-24T16:54:22.544837",
     "exception": false,
     "start_time": "2020-07-24T16:54:22.496571",
     "status": "completed"
    },
    "tags": [
     "injected-parameters"
    ]
   },
   "outputs": [],
   "source": [
    "# Parameters\n",
    "SEQUENCES_DATAFRAME_PATH = (\n",
    "    \"data/combined/clustered/final/mode_seq/Galson_2016_single.parquet\"\n",
    ")\n",
    "KMERS_DATAFRAME_OUTPUT_PATH = (\n",
    "    \"data/features_data_g2016/kmers_cdr3/Galson_2016_single.parquet\"\n",
    ")\n",
    "K = 3\n",
    "SEQ_COL_IDX = 5\n"
   ]
  },
  {
   "cell_type": "markdown",
   "metadata": {
    "papermill": {
     "duration": 0.035402,
     "end_time": "2020-07-24T16:54:22.614944",
     "exception": false,
     "start_time": "2020-07-24T16:54:22.579542",
     "status": "completed"
    },
    "tags": []
   },
   "source": [
    "## Load data"
   ]
  },
  {
   "cell_type": "code",
   "execution_count": 3,
   "metadata": {
    "execution": {
     "iopub.execute_input": "2020-07-24T16:54:22.694194Z",
     "iopub.status.busy": "2020-07-24T16:54:22.693056Z",
     "iopub.status.idle": "2020-07-24T16:54:47.342296Z",
     "shell.execute_reply": "2020-07-24T16:54:47.341640Z"
    },
    "papermill": {
     "duration": 24.692938,
     "end_time": "2020-07-24T16:54:47.342446",
     "exception": false,
     "start_time": "2020-07-24T16:54:22.649508",
     "status": "completed"
    },
    "tags": []
   },
   "outputs": [
    {
     "name": "stdout",
     "output_type": "stream",
     "text": [
      "<class 'pandas.core.frame.DataFrame'>\n",
      "RangeIndex: 1682432 entries, 0 to 1682431\n",
      "Data columns (total 26 columns):\n",
      " #   Column         Non-Null Count    Dtype \n",
      "---  ------         --------------    ----- \n",
      " 0   num_errors     1682432 non-null  object\n",
      " 1   redundancy     1682432 non-null  int64 \n",
      " 2   name           1682432 non-null  int64 \n",
      " 3   seq            1682432 non-null  object\n",
      " 4   v              1682432 non-null  object\n",
      " 5   cdr3           1682432 non-null  object\n",
      " 6   original_name  1682432 non-null  object\n",
      " 7   errors         1682432 non-null  object\n",
      " 8   j              1682432 non-null  object\n",
      " 9   data           1682432 non-null  object\n",
      " 10  Longitudinal   1682432 non-null  object\n",
      " 11  Chain          1682432 non-null  object\n",
      " 12  Author         1682432 non-null  object\n",
      " 13  Isotype        1682432 non-null  object\n",
      " 14  Age            1682432 non-null  object\n",
      " 15  Size_igblastn  1682432 non-null  int64 \n",
      " 16  Disease        1682432 non-null  object\n",
      " 17  Link           1682432 non-null  object\n",
      " 18  BSource        1682432 non-null  object\n",
      " 19  BType          1682432 non-null  object\n",
      " 20  Subject        1682432 non-null  object\n",
      " 21  Species        1682432 non-null  object\n",
      " 22  Vaccine        1682432 non-null  object\n",
      " 23  Size           1682432 non-null  int64 \n",
      " 24  cdr3_len       1682432 non-null  int64 \n",
      " 25  Cluster_ID     1682432 non-null  int64 \n",
      "dtypes: int64(6), object(20)\n",
      "memory usage: 333.7+ MB\n"
     ]
    },
    {
     "data": {
      "text/html": [
       "<div>\n",
       "<style scoped>\n",
       "    .dataframe tbody tr th:only-of-type {\n",
       "        vertical-align: middle;\n",
       "    }\n",
       "\n",
       "    .dataframe tbody tr th {\n",
       "        vertical-align: top;\n",
       "    }\n",
       "\n",
       "    .dataframe thead th {\n",
       "        text-align: right;\n",
       "    }\n",
       "</style>\n",
       "<table border=\"1\" class=\"dataframe\">\n",
       "  <thead>\n",
       "    <tr style=\"text-align: right;\">\n",
       "      <th></th>\n",
       "      <th>num_errors</th>\n",
       "      <th>redundancy</th>\n",
       "      <th>name</th>\n",
       "      <th>seq</th>\n",
       "      <th>v</th>\n",
       "      <th>cdr3</th>\n",
       "      <th>original_name</th>\n",
       "      <th>errors</th>\n",
       "      <th>j</th>\n",
       "      <th>data</th>\n",
       "      <th>...</th>\n",
       "      <th>Disease</th>\n",
       "      <th>Link</th>\n",
       "      <th>BSource</th>\n",
       "      <th>BType</th>\n",
       "      <th>Subject</th>\n",
       "      <th>Species</th>\n",
       "      <th>Vaccine</th>\n",
       "      <th>Size</th>\n",
       "      <th>cdr3_len</th>\n",
       "      <th>Cluster_ID</th>\n",
       "    </tr>\n",
       "  </thead>\n",
       "  <tbody>\n",
       "    <tr>\n",
       "      <th>0</th>\n",
       "      <td>0</td>\n",
       "      <td>1</td>\n",
       "      <td>63311</td>\n",
       "      <td>SLRLSCAASGFIFSSYVMSWVRQAPGKGLEWVSAIIGSGGTTFYAD...</td>\n",
       "      <td>IGHV3-23*01</td>\n",
       "      <td>AKDPVEVATLFPHQDDVTNWFDP</td>\n",
       "      <td>108143</td>\n",
       "      <td>[None]</td>\n",
       "      <td>IGHJ5*02</td>\n",
       "      <td>{\"fwh1\": {\"24\": \"A\", \"25\": \"A\", \"26\": \"S\", \"20...</td>\n",
       "      <td>...</td>\n",
       "      <td>None</td>\n",
       "      <td>https://genomemedicine.biomedcentral.com/artic...</td>\n",
       "      <td>PBMC</td>\n",
       "      <td>HepB+B-cells</td>\n",
       "      <td>Subject-2492</td>\n",
       "      <td>human</td>\n",
       "      <td>HepB</td>\n",
       "      <td>231143</td>\n",
       "      <td>23</td>\n",
       "      <td>0</td>\n",
       "    </tr>\n",
       "    <tr>\n",
       "      <th>1</th>\n",
       "      <td>1</td>\n",
       "      <td>1</td>\n",
       "      <td>105558</td>\n",
       "      <td>SLRLSCAASEFTFSSYAVSWVRQAPGKGLEWVSAGSGTGGIKYYAD...</td>\n",
       "      <td>IGHV3-23*01</td>\n",
       "      <td>ARGPWGYCGGGDCPFPSYNWFDP</td>\n",
       "      <td>105427</td>\n",
       "      <td>[('56', 'G')]</td>\n",
       "      <td>IGHJ5*02</td>\n",
       "      <td>{\"fwh1\": {\"24\": \"A\", \"25\": \"A\", \"26\": \"S\", \"20...</td>\n",
       "      <td>...</td>\n",
       "      <td>None</td>\n",
       "      <td>https://genomemedicine.biomedcentral.com/artic...</td>\n",
       "      <td>PBMC</td>\n",
       "      <td>Unsorted-B-Cells</td>\n",
       "      <td>Subject-2277</td>\n",
       "      <td>human</td>\n",
       "      <td>HepB</td>\n",
       "      <td>198956</td>\n",
       "      <td>23</td>\n",
       "      <td>1</td>\n",
       "    </tr>\n",
       "    <tr>\n",
       "      <th>2</th>\n",
       "      <td>0</td>\n",
       "      <td>1</td>\n",
       "      <td>89152</td>\n",
       "      <td>SLRLSCAASGFTFSGFAMGWVRQAPGKGLEWVSSLSDSGANRYYAD...</td>\n",
       "      <td>IGHV3-23*01</td>\n",
       "      <td>AKELGGGWFFGEVVSPRHNWFDP</td>\n",
       "      <td>121789</td>\n",
       "      <td>[None]</td>\n",
       "      <td>IGHJ5*02</td>\n",
       "      <td>{\"fwh1\": {\"24\": \"A\", \"25\": \"A\", \"26\": \"S\", \"20...</td>\n",
       "      <td>...</td>\n",
       "      <td>None</td>\n",
       "      <td>https://genomemedicine.biomedcentral.com/artic...</td>\n",
       "      <td>PBMC</td>\n",
       "      <td>Unsorted-B-Cells</td>\n",
       "      <td>Subject-2335</td>\n",
       "      <td>human</td>\n",
       "      <td>HepB</td>\n",
       "      <td>168255</td>\n",
       "      <td>23</td>\n",
       "      <td>2</td>\n",
       "    </tr>\n",
       "    <tr>\n",
       "      <th>3</th>\n",
       "      <td>1</td>\n",
       "      <td>1</td>\n",
       "      <td>641</td>\n",
       "      <td>SLRLSCAAFGFTFSNHAMNWVRQAPGKGLEWVSGIRGGGQSSFYAD...</td>\n",
       "      <td>IGHV3-23*01</td>\n",
       "      <td>AREIGYCTVSGPNPKKRGCWFDP</td>\n",
       "      <td>98214</td>\n",
       "      <td>[('63', 'Q')]</td>\n",
       "      <td>IGHJ5*02</td>\n",
       "      <td>{\"fwh1\": {\"24\": \"A\", \"25\": \"A\", \"26\": \"F\", \"20...</td>\n",
       "      <td>...</td>\n",
       "      <td>None</td>\n",
       "      <td>https://genomemedicine.biomedcentral.com/artic...</td>\n",
       "      <td>PBMC</td>\n",
       "      <td>Unsorted-B-Cells</td>\n",
       "      <td>Subject-2752</td>\n",
       "      <td>human</td>\n",
       "      <td>HepB</td>\n",
       "      <td>171405</td>\n",
       "      <td>23</td>\n",
       "      <td>3</td>\n",
       "    </tr>\n",
       "    <tr>\n",
       "      <th>4</th>\n",
       "      <td>0</td>\n",
       "      <td>1</td>\n",
       "      <td>25941</td>\n",
       "      <td>SLRLSCAGSGFTFSSFAMSWVRQAPGKGLEWVSAISASGASTYYAD...</td>\n",
       "      <td>IGHV3-23*01</td>\n",
       "      <td>AKDMRREGILRTMIRGVSCWFDP</td>\n",
       "      <td>86341</td>\n",
       "      <td>[None]</td>\n",
       "      <td>IGHJ5*02</td>\n",
       "      <td>{\"fwh1\": {\"24\": \"A\", \"25\": \"G\", \"26\": \"S\", \"20...</td>\n",
       "      <td>...</td>\n",
       "      <td>None</td>\n",
       "      <td>https://genomemedicine.biomedcentral.com/artic...</td>\n",
       "      <td>PBMC</td>\n",
       "      <td>HepB+B-cells</td>\n",
       "      <td>Subject-2277</td>\n",
       "      <td>human</td>\n",
       "      <td>HepB</td>\n",
       "      <td>121330</td>\n",
       "      <td>23</td>\n",
       "      <td>4</td>\n",
       "    </tr>\n",
       "  </tbody>\n",
       "</table>\n",
       "<p>5 rows × 26 columns</p>\n",
       "</div>"
      ],
      "text/plain": [
       "  num_errors  redundancy    name  \\\n",
       "0          0           1   63311   \n",
       "1          1           1  105558   \n",
       "2          0           1   89152   \n",
       "3          1           1     641   \n",
       "4          0           1   25941   \n",
       "\n",
       "                                                 seq            v  \\\n",
       "0  SLRLSCAASGFIFSSYVMSWVRQAPGKGLEWVSAIIGSGGTTFYAD...  IGHV3-23*01   \n",
       "1  SLRLSCAASEFTFSSYAVSWVRQAPGKGLEWVSAGSGTGGIKYYAD...  IGHV3-23*01   \n",
       "2  SLRLSCAASGFTFSGFAMGWVRQAPGKGLEWVSSLSDSGANRYYAD...  IGHV3-23*01   \n",
       "3  SLRLSCAAFGFTFSNHAMNWVRQAPGKGLEWVSGIRGGGQSSFYAD...  IGHV3-23*01   \n",
       "4  SLRLSCAGSGFTFSSFAMSWVRQAPGKGLEWVSAISASGASTYYAD...  IGHV3-23*01   \n",
       "\n",
       "                      cdr3 original_name         errors         j  \\\n",
       "0  AKDPVEVATLFPHQDDVTNWFDP        108143         [None]  IGHJ5*02   \n",
       "1  ARGPWGYCGGGDCPFPSYNWFDP        105427  [('56', 'G')]  IGHJ5*02   \n",
       "2  AKELGGGWFFGEVVSPRHNWFDP        121789         [None]  IGHJ5*02   \n",
       "3  AREIGYCTVSGPNPKKRGCWFDP         98214  [('63', 'Q')]  IGHJ5*02   \n",
       "4  AKDMRREGILRTMIRGVSCWFDP         86341         [None]  IGHJ5*02   \n",
       "\n",
       "                                                data  ... Disease  \\\n",
       "0  {\"fwh1\": {\"24\": \"A\", \"25\": \"A\", \"26\": \"S\", \"20...  ...    None   \n",
       "1  {\"fwh1\": {\"24\": \"A\", \"25\": \"A\", \"26\": \"S\", \"20...  ...    None   \n",
       "2  {\"fwh1\": {\"24\": \"A\", \"25\": \"A\", \"26\": \"S\", \"20...  ...    None   \n",
       "3  {\"fwh1\": {\"24\": \"A\", \"25\": \"A\", \"26\": \"F\", \"20...  ...    None   \n",
       "4  {\"fwh1\": {\"24\": \"A\", \"25\": \"G\", \"26\": \"S\", \"20...  ...    None   \n",
       "\n",
       "                                                Link BSource  \\\n",
       "0  https://genomemedicine.biomedcentral.com/artic...    PBMC   \n",
       "1  https://genomemedicine.biomedcentral.com/artic...    PBMC   \n",
       "2  https://genomemedicine.biomedcentral.com/artic...    PBMC   \n",
       "3  https://genomemedicine.biomedcentral.com/artic...    PBMC   \n",
       "4  https://genomemedicine.biomedcentral.com/artic...    PBMC   \n",
       "\n",
       "              BType       Subject  Species Vaccine    Size cdr3_len Cluster_ID  \n",
       "0      HepB+B-cells  Subject-2492    human    HepB  231143       23          0  \n",
       "1  Unsorted-B-Cells  Subject-2277    human    HepB  198956       23          1  \n",
       "2  Unsorted-B-Cells  Subject-2335    human    HepB  168255       23          2  \n",
       "3  Unsorted-B-Cells  Subject-2752    human    HepB  171405       23          3  \n",
       "4      HepB+B-cells  Subject-2277    human    HepB  121330       23          4  \n",
       "\n",
       "[5 rows x 26 columns]"
      ]
     },
     "execution_count": 3,
     "metadata": {},
     "output_type": "execute_result"
    }
   ],
   "source": [
    "import pandas as pd\n",
    "\n",
    "sequences_df = pd.read_parquet(SEQUENCES_DATAFRAME_PATH)\n",
    "\n",
    "sequences_df.info()\n",
    "sequences_df.head()"
   ]
  },
  {
   "cell_type": "code",
   "execution_count": 4,
   "metadata": {
    "execution": {
     "iopub.execute_input": "2020-07-24T16:54:47.422396Z",
     "iopub.status.busy": "2020-07-24T16:54:47.421682Z",
     "iopub.status.idle": "2020-07-24T16:54:47.426329Z",
     "shell.execute_reply": "2020-07-24T16:54:47.426922Z"
    },
    "papermill": {
     "duration": 0.040413,
     "end_time": "2020-07-24T16:54:47.427076",
     "exception": false,
     "start_time": "2020-07-24T16:54:47.386663",
     "status": "completed"
    },
    "tags": []
   },
   "outputs": [
    {
     "data": {
      "text/plain": [
       "array(['AKDPVEVATLFPHQDDVTNWFDP', 'ARGPWGYCGGGDCPFPSYNWFDP',\n",
       "       'AKELGGGWFFGEVVSPRHNWFDP', ..., 'APPGEYGMDV', 'VRENRWGYDD',\n",
       "       'VKDNWNYDSV'], dtype=object)"
      ]
     },
     "execution_count": 4,
     "metadata": {},
     "output_type": "execute_result"
    }
   ],
   "source": [
    "sequences = sequences_df.iloc[:,SEQ_COL_IDX].values\n",
    "sequences"
   ]
  },
  {
   "cell_type": "markdown",
   "metadata": {
    "papermill": {
     "duration": 0.030225,
     "end_time": "2020-07-24T16:54:47.488468",
     "exception": false,
     "start_time": "2020-07-24T16:54:47.458243",
     "status": "completed"
    },
    "tags": []
   },
   "source": [
    "## Construct k-mers"
   ]
  },
  {
   "cell_type": "code",
   "execution_count": 5,
   "metadata": {
    "execution": {
     "iopub.execute_input": "2020-07-24T16:54:47.561774Z",
     "iopub.status.busy": "2020-07-24T16:54:47.561022Z",
     "iopub.status.idle": "2020-07-24T16:54:47.565303Z",
     "shell.execute_reply": "2020-07-24T16:54:47.566016Z"
    },
    "papermill": {
     "duration": 0.047089,
     "end_time": "2020-07-24T16:54:47.566165",
     "exception": false,
     "start_time": "2020-07-24T16:54:47.519076",
     "status": "completed"
    },
    "tags": []
   },
   "outputs": [
    {
     "name": "stdout",
     "output_type": "stream",
     "text": [
      "There is 8000 possible 3-mers when considering 20 possible amino acids.\n"
     ]
    }
   ],
   "source": [
    "import itertools\n",
    "\n",
    "AMINO_ACIDS = ['A', 'C', 'D', 'E', 'F', 'G', 'H', 'I', 'K', 'L',\n",
    "               'M', 'N', 'P', 'Q', 'R', 'S', 'T', 'V', 'W', 'Y']\n",
    "KMER_VOCABULARY = [''.join(kmer_tuple) for kmer_tuple in itertools.product(AMINO_ACIDS, repeat=K)]\n",
    "\n",
    "print(f'There is {len(KMER_VOCABULARY)} possible {K}-mers when considering {len(AMINO_ACIDS)} possible amino acids.')"
   ]
  },
  {
   "cell_type": "code",
   "execution_count": 6,
   "metadata": {
    "execution": {
     "iopub.execute_input": "2020-07-24T16:54:47.634043Z",
     "iopub.status.busy": "2020-07-24T16:54:47.633313Z",
     "iopub.status.idle": "2020-07-24T16:55:26.726030Z",
     "shell.execute_reply": "2020-07-24T16:55:26.727075Z"
    },
    "papermill": {
     "duration": 39.131144,
     "end_time": "2020-07-24T16:55:26.727373",
     "exception": false,
     "start_time": "2020-07-24T16:54:47.596229",
     "status": "completed"
    },
    "tags": []
   },
   "outputs": [
    {
     "name": "stdout",
     "output_type": "stream",
     "text": [
      "Constructed 3-mers data shape: (1682432, 8000)\n"
     ]
    }
   ],
   "source": [
    "from sklearn.feature_extraction.text import CountVectorizer\n",
    "import numpy as np\n",
    "\n",
    "vectorizer = CountVectorizer(vocabulary=KMER_VOCABULARY, analyzer='char', ngram_range=(K,K), lowercase=False)\n",
    "kmer_data = vectorizer.transform(sequences).astype(np.uint16)\n",
    "\n",
    "print(f'Constructed {K}-mers data shape: {kmer_data.shape}')"
   ]
  },
  {
   "cell_type": "markdown",
   "metadata": {
    "papermill": {
     "duration": 0.041329,
     "end_time": "2020-07-24T16:55:26.811563",
     "exception": false,
     "start_time": "2020-07-24T16:55:26.770234",
     "status": "completed"
    },
    "tags": []
   },
   "source": [
    "## Save k-mers data"
   ]
  },
  {
   "cell_type": "code",
   "execution_count": 7,
   "metadata": {
    "execution": {
     "iopub.execute_input": "2020-07-24T16:55:26.900498Z",
     "iopub.status.busy": "2020-07-24T16:55:26.899583Z",
     "iopub.status.idle": "2020-07-24T16:55:32.852774Z",
     "shell.execute_reply": "2020-07-24T16:55:32.853859Z"
    },
    "papermill": {
     "duration": 6.003275,
     "end_time": "2020-07-24T16:55:32.854131",
     "exception": false,
     "start_time": "2020-07-24T16:55:26.850856",
     "status": "completed"
    },
    "tags": []
   },
   "outputs": [
    {
     "name": "stdout",
     "output_type": "stream",
     "text": [
      "<class 'pandas.core.frame.DataFrame'>\n",
      "RangeIndex: 1682432 entries, 0 to 1682431\n",
      "Columns: 8000 entries, AAA to YYY\n",
      "dtypes: uint16(8000)\n",
      "memory usage: 25.1 GB\n"
     ]
    },
    {
     "data": {
      "text/html": [
       "<div>\n",
       "<style scoped>\n",
       "    .dataframe tbody tr th:only-of-type {\n",
       "        vertical-align: middle;\n",
       "    }\n",
       "\n",
       "    .dataframe tbody tr th {\n",
       "        vertical-align: top;\n",
       "    }\n",
       "\n",
       "    .dataframe thead th {\n",
       "        text-align: right;\n",
       "    }\n",
       "</style>\n",
       "<table border=\"1\" class=\"dataframe\">\n",
       "  <thead>\n",
       "    <tr style=\"text-align: right;\">\n",
       "      <th></th>\n",
       "      <th>AAA</th>\n",
       "      <th>AAC</th>\n",
       "      <th>AAD</th>\n",
       "      <th>AAE</th>\n",
       "      <th>AAF</th>\n",
       "      <th>AAG</th>\n",
       "      <th>AAH</th>\n",
       "      <th>AAI</th>\n",
       "      <th>AAK</th>\n",
       "      <th>AAL</th>\n",
       "      <th>...</th>\n",
       "      <th>YYM</th>\n",
       "      <th>YYN</th>\n",
       "      <th>YYP</th>\n",
       "      <th>YYQ</th>\n",
       "      <th>YYR</th>\n",
       "      <th>YYS</th>\n",
       "      <th>YYT</th>\n",
       "      <th>YYV</th>\n",
       "      <th>YYW</th>\n",
       "      <th>YYY</th>\n",
       "    </tr>\n",
       "  </thead>\n",
       "  <tbody>\n",
       "    <tr>\n",
       "      <th>0</th>\n",
       "      <td>0</td>\n",
       "      <td>0</td>\n",
       "      <td>0</td>\n",
       "      <td>0</td>\n",
       "      <td>0</td>\n",
       "      <td>0</td>\n",
       "      <td>0</td>\n",
       "      <td>0</td>\n",
       "      <td>0</td>\n",
       "      <td>0</td>\n",
       "      <td>...</td>\n",
       "      <td>0</td>\n",
       "      <td>0</td>\n",
       "      <td>0</td>\n",
       "      <td>0</td>\n",
       "      <td>0</td>\n",
       "      <td>0</td>\n",
       "      <td>0</td>\n",
       "      <td>0</td>\n",
       "      <td>0</td>\n",
       "      <td>0</td>\n",
       "    </tr>\n",
       "    <tr>\n",
       "      <th>1</th>\n",
       "      <td>0</td>\n",
       "      <td>0</td>\n",
       "      <td>0</td>\n",
       "      <td>0</td>\n",
       "      <td>0</td>\n",
       "      <td>0</td>\n",
       "      <td>0</td>\n",
       "      <td>0</td>\n",
       "      <td>0</td>\n",
       "      <td>0</td>\n",
       "      <td>...</td>\n",
       "      <td>0</td>\n",
       "      <td>0</td>\n",
       "      <td>0</td>\n",
       "      <td>0</td>\n",
       "      <td>0</td>\n",
       "      <td>0</td>\n",
       "      <td>0</td>\n",
       "      <td>0</td>\n",
       "      <td>0</td>\n",
       "      <td>0</td>\n",
       "    </tr>\n",
       "    <tr>\n",
       "      <th>2</th>\n",
       "      <td>0</td>\n",
       "      <td>0</td>\n",
       "      <td>0</td>\n",
       "      <td>0</td>\n",
       "      <td>0</td>\n",
       "      <td>0</td>\n",
       "      <td>0</td>\n",
       "      <td>0</td>\n",
       "      <td>0</td>\n",
       "      <td>0</td>\n",
       "      <td>...</td>\n",
       "      <td>0</td>\n",
       "      <td>0</td>\n",
       "      <td>0</td>\n",
       "      <td>0</td>\n",
       "      <td>0</td>\n",
       "      <td>0</td>\n",
       "      <td>0</td>\n",
       "      <td>0</td>\n",
       "      <td>0</td>\n",
       "      <td>0</td>\n",
       "    </tr>\n",
       "    <tr>\n",
       "      <th>3</th>\n",
       "      <td>0</td>\n",
       "      <td>0</td>\n",
       "      <td>0</td>\n",
       "      <td>0</td>\n",
       "      <td>0</td>\n",
       "      <td>0</td>\n",
       "      <td>0</td>\n",
       "      <td>0</td>\n",
       "      <td>0</td>\n",
       "      <td>0</td>\n",
       "      <td>...</td>\n",
       "      <td>0</td>\n",
       "      <td>0</td>\n",
       "      <td>0</td>\n",
       "      <td>0</td>\n",
       "      <td>0</td>\n",
       "      <td>0</td>\n",
       "      <td>0</td>\n",
       "      <td>0</td>\n",
       "      <td>0</td>\n",
       "      <td>0</td>\n",
       "    </tr>\n",
       "    <tr>\n",
       "      <th>4</th>\n",
       "      <td>0</td>\n",
       "      <td>0</td>\n",
       "      <td>0</td>\n",
       "      <td>0</td>\n",
       "      <td>0</td>\n",
       "      <td>0</td>\n",
       "      <td>0</td>\n",
       "      <td>0</td>\n",
       "      <td>0</td>\n",
       "      <td>0</td>\n",
       "      <td>...</td>\n",
       "      <td>0</td>\n",
       "      <td>0</td>\n",
       "      <td>0</td>\n",
       "      <td>0</td>\n",
       "      <td>0</td>\n",
       "      <td>0</td>\n",
       "      <td>0</td>\n",
       "      <td>0</td>\n",
       "      <td>0</td>\n",
       "      <td>0</td>\n",
       "    </tr>\n",
       "  </tbody>\n",
       "</table>\n",
       "<p>5 rows × 8000 columns</p>\n",
       "</div>"
      ],
      "text/plain": [
       "   AAA  AAC  AAD  AAE  AAF  AAG  AAH  AAI  AAK  AAL  ...  YYM  YYN  YYP  YYQ  \\\n",
       "0    0    0    0    0    0    0    0    0    0    0  ...    0    0    0    0   \n",
       "1    0    0    0    0    0    0    0    0    0    0  ...    0    0    0    0   \n",
       "2    0    0    0    0    0    0    0    0    0    0  ...    0    0    0    0   \n",
       "3    0    0    0    0    0    0    0    0    0    0  ...    0    0    0    0   \n",
       "4    0    0    0    0    0    0    0    0    0    0  ...    0    0    0    0   \n",
       "\n",
       "   YYR  YYS  YYT  YYV  YYW  YYY  \n",
       "0    0    0    0    0    0    0  \n",
       "1    0    0    0    0    0    0  \n",
       "2    0    0    0    0    0    0  \n",
       "3    0    0    0    0    0    0  \n",
       "4    0    0    0    0    0    0  \n",
       "\n",
       "[5 rows x 8000 columns]"
      ]
     },
     "execution_count": 7,
     "metadata": {},
     "output_type": "execute_result"
    }
   ],
   "source": [
    "features_names = [''.join(feature_tuple) for feature_tuple in vectorizer.get_feature_names()]\n",
    "res_df = pd.DataFrame(data=kmer_data.toarray(), index=sequences_df.index, columns=vectorizer.get_feature_names())\n",
    "\n",
    "res_df.info()\n",
    "res_df.head()"
   ]
  },
  {
   "cell_type": "code",
   "execution_count": 8,
   "metadata": {
    "execution": {
     "iopub.execute_input": "2020-07-24T16:55:33.051405Z",
     "iopub.status.busy": "2020-07-24T16:55:33.033278Z",
     "iopub.status.idle": "2020-07-24T16:59:09.051792Z",
     "shell.execute_reply": "2020-07-24T16:59:09.050182Z"
    },
    "papermill": {
     "duration": 216.102673,
     "end_time": "2020-07-24T16:59:09.052090",
     "exception": false,
     "start_time": "2020-07-24T16:55:32.949417",
     "status": "completed"
    },
    "tags": []
   },
   "outputs": [],
   "source": [
    "res_df.to_parquet(KMERS_DATAFRAME_OUTPUT_PATH)"
   ]
  },
  {
   "cell_type": "markdown",
   "metadata": {
    "papermill": {
     "duration": 0.04968,
     "end_time": "2020-07-24T16:59:09.182456",
     "exception": false,
     "start_time": "2020-07-24T16:59:09.132776",
     "status": "completed"
    },
    "tags": []
   },
   "source": [
    "## Basic k-mers overview"
   ]
  },
  {
   "cell_type": "code",
   "execution_count": 9,
   "metadata": {
    "execution": {
     "iopub.execute_input": "2020-07-24T16:59:09.289374Z",
     "iopub.status.busy": "2020-07-24T16:59:09.288070Z",
     "iopub.status.idle": "2020-07-24T16:59:26.781591Z",
     "shell.execute_reply": "2020-07-24T16:59:26.780042Z"
    },
    "papermill": {
     "duration": 17.551798,
     "end_time": "2020-07-24T16:59:26.781910",
     "exception": false,
     "start_time": "2020-07-24T16:59:09.230112",
     "status": "completed"
    },
    "tags": []
   },
   "outputs": [
    {
     "data": {
      "text/plain": [
       "ARD    241775\n",
       "FDY    230037\n",
       "MDV    214355\n",
       "YYY    212891\n",
       "ARG    187222\n",
       "dtype: int64"
      ]
     },
     "execution_count": 9,
     "metadata": {},
     "output_type": "execute_result"
    }
   ],
   "source": [
    "res_df.sum().sort_values(ascending=False).head()"
   ]
  },
  {
   "cell_type": "code",
   "execution_count": 10,
   "metadata": {
    "execution": {
     "iopub.execute_input": "2020-07-24T16:59:26.891479Z",
     "iopub.status.busy": "2020-07-24T16:59:26.890269Z",
     "iopub.status.idle": "2020-07-24T16:59:38.102919Z",
     "shell.execute_reply": "2020-07-24T16:59:38.101500Z"
    },
    "papermill": {
     "duration": 11.26487,
     "end_time": "2020-07-24T16:59:38.103191",
     "exception": false,
     "start_time": "2020-07-24T16:59:26.838321",
     "status": "completed"
    },
    "tags": []
   },
   "outputs": [
    {
     "data": {
      "text/plain": [
       "ARD    0.143706\n",
       "FDY    0.136729\n",
       "MDV    0.127408\n",
       "YYY    0.126538\n",
       "ARG    0.111281\n",
       "dtype: float64"
      ]
     },
     "execution_count": 10,
     "metadata": {},
     "output_type": "execute_result"
    }
   ],
   "source": [
    "res_df.mean().sort_values(ascending=False).head()"
   ]
  },
  {
   "cell_type": "code",
   "execution_count": null,
   "metadata": {
    "papermill": {
     "duration": 0.04944,
     "end_time": "2020-07-24T16:59:38.247092",
     "exception": false,
     "start_time": "2020-07-24T16:59:38.197652",
     "status": "completed"
    },
    "tags": []
   },
   "outputs": [],
   "source": []
  }
 ],
 "metadata": {
  "kernelspec": {
   "display_name": "Python 3",
   "language": "python",
   "name": "python3"
  },
  "language_info": {
   "codemirror_mode": {
    "name": "ipython",
    "version": 3
   },
   "file_extension": ".py",
   "mimetype": "text/x-python",
   "name": "python",
   "nbconvert_exporter": "python",
   "pygments_lexer": "ipython3",
   "version": "3.7.6"
  },
  "papermill": {
   "duration": 343.588173,
   "end_time": "2020-07-24T16:59:40.772242",
   "environment_variables": {},
   "exception": null,
   "input_path": "notebooks/data_preprocessing/k-mers.ipynb",
   "output_path": "notebooks/data_preprocessing/k-mers-Galson_2016_single.ipynb",
   "parameters": {
    "K": 3,
    "KMERS_DATAFRAME_OUTPUT_PATH": "data/features_data_g2016/kmers_cdr3/Galson_2016_single.parquet",
    "SEQUENCES_DATAFRAME_PATH": "data/combined/clustered/final/mode_seq/Galson_2016_single.parquet",
    "SEQ_COL_IDX": 5
   },
   "start_time": "2020-07-24T16:53:57.184069",
   "version": "2.1.0"
  }
 },
 "nbformat": 4,
 "nbformat_minor": 4
}