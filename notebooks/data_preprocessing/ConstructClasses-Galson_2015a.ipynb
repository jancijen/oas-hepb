{
 "cells": [
  {
   "cell_type": "markdown",
   "metadata": {
    "papermill": {
     "duration": 0.012423,
     "end_time": "2020-07-08T08:00:03.391730",
     "exception": false,
     "start_time": "2020-07-08T08:00:03.379307",
     "status": "completed"
    },
    "tags": []
   },
   "source": [
    "# Construct classes for given data"
   ]
  },
  {
   "cell_type": "code",
   "execution_count": 1,
   "metadata": {
    "execution": {
     "iopub.execute_input": "2020-07-08T08:00:03.417240Z",
     "iopub.status.busy": "2020-07-08T08:00:03.416619Z",
     "iopub.status.idle": "2020-07-08T08:00:03.419384Z",
     "shell.execute_reply": "2020-07-08T08:00:03.418715Z"
    },
    "papermill": {
     "duration": 0.017061,
     "end_time": "2020-07-08T08:00:03.419502",
     "exception": false,
     "start_time": "2020-07-08T08:00:03.402441",
     "status": "completed"
    },
    "tags": [
     "parameters"
    ]
   },
   "outputs": [],
   "source": [
    "INPUT_PATH = '../../data/combined/clustered/final/all.parquet'\n",
    "OUTPUT_PATH = '../../data/targets_data/clusters/all.parquet'\n",
    "HEPB_SPECIF_THRESHOLD = 0.5"
   ]
  },
  {
   "cell_type": "code",
   "execution_count": 2,
   "metadata": {
    "execution": {
     "iopub.execute_input": "2020-07-08T08:00:03.443810Z",
     "iopub.status.busy": "2020-07-08T08:00:03.443196Z",
     "iopub.status.idle": "2020-07-08T08:00:03.445967Z",
     "shell.execute_reply": "2020-07-08T08:00:03.445349Z"
    },
    "papermill": {
     "duration": 0.015883,
     "end_time": "2020-07-08T08:00:03.446084",
     "exception": false,
     "start_time": "2020-07-08T08:00:03.430201",
     "status": "completed"
    },
    "tags": [
     "injected-parameters"
    ]
   },
   "outputs": [],
   "source": [
    "# Parameters\n",
    "INPUT_PATH = \"data/combined/clustered/final/Galson_2015a.parquet\"\n",
    "OUTPUT_PATH = \"data/targets_data/clusters/Galson_2015a.parquet\"\n",
    "HEPB_SPECIF_THRESHOLD = 0.5\n"
   ]
  },
  {
   "cell_type": "markdown",
   "metadata": {
    "papermill": {
     "duration": 0.009887,
     "end_time": "2020-07-08T08:00:03.466164",
     "exception": false,
     "start_time": "2020-07-08T08:00:03.456277",
     "status": "completed"
    },
    "tags": []
   },
   "source": [
    "## Load data"
   ]
  },
  {
   "cell_type": "code",
   "execution_count": 3,
   "metadata": {
    "execution": {
     "iopub.execute_input": "2020-07-08T08:00:03.490048Z",
     "iopub.status.busy": "2020-07-08T08:00:03.489458Z",
     "iopub.status.idle": "2020-07-08T08:01:32.140322Z",
     "shell.execute_reply": "2020-07-08T08:01:32.139762Z"
    },
    "papermill": {
     "duration": 88.664306,
     "end_time": "2020-07-08T08:01:32.140441",
     "exception": false,
     "start_time": "2020-07-08T08:00:03.476135",
     "status": "completed"
    },
    "tags": []
   },
   "outputs": [
    {
     "name": "stdout",
     "output_type": "stream",
     "text": [
      "<class 'pandas.core.frame.DataFrame'>\n",
      "Int64Index: 14738476 entries, 0 to 24\n",
      "Data columns (total 26 columns):\n",
      " #   Column         Dtype \n",
      "---  ------         ----- \n",
      " 0   num_errors     object\n",
      " 1   redundancy     int64 \n",
      " 2   name           int64 \n",
      " 3   seq            object\n",
      " 4   v              object\n",
      " 5   cdr3           object\n",
      " 6   original_name  object\n",
      " 7   errors         object\n",
      " 8   j              object\n",
      " 9   data           object\n",
      " 10  Longitudinal   object\n",
      " 11  Chain          object\n",
      " 12  Author         object\n",
      " 13  Isotype        object\n",
      " 14  Age            object\n",
      " 15  Size_igblastn  int64 \n",
      " 16  Disease        object\n",
      " 17  Link           object\n",
      " 18  BSource        object\n",
      " 19  BType          object\n",
      " 20  Size           int64 \n",
      " 21  Species        object\n",
      " 22  Vaccine        object\n",
      " 23  Subject        object\n",
      " 24  cdr3_len       int64 \n",
      " 25  Cluster_ID     int64 \n",
      "dtypes: int64(6), object(20)\n",
      "memory usage: 3.0+ GB\n"
     ]
    },
    {
     "data": {
      "text/html": [
       "<div>\n",
       "<style scoped>\n",
       "    .dataframe tbody tr th:only-of-type {\n",
       "        vertical-align: middle;\n",
       "    }\n",
       "\n",
       "    .dataframe tbody tr th {\n",
       "        vertical-align: top;\n",
       "    }\n",
       "\n",
       "    .dataframe thead th {\n",
       "        text-align: right;\n",
       "    }\n",
       "</style>\n",
       "<table border=\"1\" class=\"dataframe\">\n",
       "  <thead>\n",
       "    <tr style=\"text-align: right;\">\n",
       "      <th></th>\n",
       "      <th>num_errors</th>\n",
       "      <th>redundancy</th>\n",
       "      <th>name</th>\n",
       "      <th>seq</th>\n",
       "      <th>v</th>\n",
       "      <th>cdr3</th>\n",
       "      <th>original_name</th>\n",
       "      <th>errors</th>\n",
       "      <th>j</th>\n",
       "      <th>data</th>\n",
       "      <th>...</th>\n",
       "      <th>Disease</th>\n",
       "      <th>Link</th>\n",
       "      <th>BSource</th>\n",
       "      <th>BType</th>\n",
       "      <th>Size</th>\n",
       "      <th>Species</th>\n",
       "      <th>Vaccine</th>\n",
       "      <th>Subject</th>\n",
       "      <th>cdr3_len</th>\n",
       "      <th>Cluster_ID</th>\n",
       "    </tr>\n",
       "  </thead>\n",
       "  <tbody>\n",
       "    <tr>\n",
       "      <th>0</th>\n",
       "      <td>2</td>\n",
       "      <td>1</td>\n",
       "      <td>25814</td>\n",
       "      <td>SVKVSCKASGYNSATFGLCWVRQAPGEGLEWIGWISGYNGNTYYVP...</td>\n",
       "      <td>IGHV1-18*03</td>\n",
       "      <td>ARRAPFGFDH</td>\n",
       "      <td>127395</td>\n",
       "      <td>[('70', 'Q'), ('103', 'L')]</td>\n",
       "      <td>IGHJ1*01</td>\n",
       "      <td>{\"fwh1\": {\"24\": \"K\", \"25\": \"A\", \"26\": \"S\", \"20...</td>\n",
       "      <td>...</td>\n",
       "      <td>None</td>\n",
       "      <td>https://www.sciencedirect.com/science/article/...</td>\n",
       "      <td>PBMC</td>\n",
       "      <td>Unsorted-B-Cells</td>\n",
       "      <td>257563</td>\n",
       "      <td>human</td>\n",
       "      <td>HepB</td>\n",
       "      <td>Subject-1070</td>\n",
       "      <td>10</td>\n",
       "      <td>1</td>\n",
       "    </tr>\n",
       "    <tr>\n",
       "      <th>1</th>\n",
       "      <td>1</td>\n",
       "      <td>8</td>\n",
       "      <td>29478</td>\n",
       "      <td>SVKVSCKASGYNSATFGLCWVRQAPGEGLEWIGWISGYNGNTYYVP...</td>\n",
       "      <td>IGHV1-18*03</td>\n",
       "      <td>ARRAPFGFDH</td>\n",
       "      <td>125855</td>\n",
       "      <td>[('70', 'Q')]</td>\n",
       "      <td>IGHJ1*01</td>\n",
       "      <td>{\"fwh1\": {\"24\": \"K\", \"25\": \"A\", \"26\": \"S\", \"20...</td>\n",
       "      <td>...</td>\n",
       "      <td>None</td>\n",
       "      <td>https://www.sciencedirect.com/science/article/...</td>\n",
       "      <td>PBMC</td>\n",
       "      <td>Unsorted-B-Cells</td>\n",
       "      <td>257563</td>\n",
       "      <td>human</td>\n",
       "      <td>HepB</td>\n",
       "      <td>Subject-1070</td>\n",
       "      <td>10</td>\n",
       "      <td>1</td>\n",
       "    </tr>\n",
       "    <tr>\n",
       "      <th>2</th>\n",
       "      <td>1</td>\n",
       "      <td>12</td>\n",
       "      <td>31543</td>\n",
       "      <td>SVKVSCKASGYNSATFGLCWVRQAPGEGLEWIGWISGYNGNTYYVP...</td>\n",
       "      <td>IGHV1-18*03</td>\n",
       "      <td>ARRAPFGFDH</td>\n",
       "      <td>109459</td>\n",
       "      <td>[('70', 'Q')]</td>\n",
       "      <td>IGHJ1*01</td>\n",
       "      <td>{\"fwh1\": {\"24\": \"K\", \"25\": \"A\", \"26\": \"S\", \"20...</td>\n",
       "      <td>...</td>\n",
       "      <td>None</td>\n",
       "      <td>https://www.sciencedirect.com/science/article/...</td>\n",
       "      <td>PBMC</td>\n",
       "      <td>Unsorted-B-Cells</td>\n",
       "      <td>257563</td>\n",
       "      <td>human</td>\n",
       "      <td>HepB</td>\n",
       "      <td>Subject-1070</td>\n",
       "      <td>10</td>\n",
       "      <td>1</td>\n",
       "    </tr>\n",
       "    <tr>\n",
       "      <th>3</th>\n",
       "      <td>1</td>\n",
       "      <td>1</td>\n",
       "      <td>38523</td>\n",
       "      <td>SVKVSCKASGYNSATFGLCWVRQAPGEGLEWIGWISGYNGNTYYVP...</td>\n",
       "      <td>IGHV1-18*03</td>\n",
       "      <td>ARRAPFGLDH</td>\n",
       "      <td>128305</td>\n",
       "      <td>[('70', 'Q')]</td>\n",
       "      <td>IGHJ1*01</td>\n",
       "      <td>{\"fwh1\": {\"24\": \"K\", \"25\": \"A\", \"26\": \"S\", \"20...</td>\n",
       "      <td>...</td>\n",
       "      <td>None</td>\n",
       "      <td>https://www.sciencedirect.com/science/article/...</td>\n",
       "      <td>PBMC</td>\n",
       "      <td>Unsorted-B-Cells</td>\n",
       "      <td>257563</td>\n",
       "      <td>human</td>\n",
       "      <td>HepB</td>\n",
       "      <td>Subject-1070</td>\n",
       "      <td>10</td>\n",
       "      <td>1</td>\n",
       "    </tr>\n",
       "    <tr>\n",
       "      <th>4</th>\n",
       "      <td>1</td>\n",
       "      <td>1</td>\n",
       "      <td>50198</td>\n",
       "      <td>SVRVSCKASGYNSATFGLCWVRQAPGEGLEWIGWISGYNGNTYYVP...</td>\n",
       "      <td>IGHV1-18*03</td>\n",
       "      <td>ARRAPFGFDH</td>\n",
       "      <td>125829</td>\n",
       "      <td>[('70', 'Q')]</td>\n",
       "      <td>IGHJ1*01</td>\n",
       "      <td>{\"fwh1\": {\"24\": \"K\", \"25\": \"A\", \"26\": \"S\", \"20...</td>\n",
       "      <td>...</td>\n",
       "      <td>None</td>\n",
       "      <td>https://www.sciencedirect.com/science/article/...</td>\n",
       "      <td>PBMC</td>\n",
       "      <td>Unsorted-B-Cells</td>\n",
       "      <td>257563</td>\n",
       "      <td>human</td>\n",
       "      <td>HepB</td>\n",
       "      <td>Subject-1070</td>\n",
       "      <td>10</td>\n",
       "      <td>1</td>\n",
       "    </tr>\n",
       "  </tbody>\n",
       "</table>\n",
       "<p>5 rows × 26 columns</p>\n",
       "</div>"
      ],
      "text/plain": [
       "  num_errors  redundancy   name  \\\n",
       "0          2           1  25814   \n",
       "1          1           8  29478   \n",
       "2          1          12  31543   \n",
       "3          1           1  38523   \n",
       "4          1           1  50198   \n",
       "\n",
       "                                                 seq            v        cdr3  \\\n",
       "0  SVKVSCKASGYNSATFGLCWVRQAPGEGLEWIGWISGYNGNTYYVP...  IGHV1-18*03  ARRAPFGFDH   \n",
       "1  SVKVSCKASGYNSATFGLCWVRQAPGEGLEWIGWISGYNGNTYYVP...  IGHV1-18*03  ARRAPFGFDH   \n",
       "2  SVKVSCKASGYNSATFGLCWVRQAPGEGLEWIGWISGYNGNTYYVP...  IGHV1-18*03  ARRAPFGFDH   \n",
       "3  SVKVSCKASGYNSATFGLCWVRQAPGEGLEWIGWISGYNGNTYYVP...  IGHV1-18*03  ARRAPFGLDH   \n",
       "4  SVRVSCKASGYNSATFGLCWVRQAPGEGLEWIGWISGYNGNTYYVP...  IGHV1-18*03  ARRAPFGFDH   \n",
       "\n",
       "  original_name                       errors         j  \\\n",
       "0        127395  [('70', 'Q'), ('103', 'L')]  IGHJ1*01   \n",
       "1        125855                [('70', 'Q')]  IGHJ1*01   \n",
       "2        109459                [('70', 'Q')]  IGHJ1*01   \n",
       "3        128305                [('70', 'Q')]  IGHJ1*01   \n",
       "4        125829                [('70', 'Q')]  IGHJ1*01   \n",
       "\n",
       "                                                data  ... Disease  \\\n",
       "0  {\"fwh1\": {\"24\": \"K\", \"25\": \"A\", \"26\": \"S\", \"20...  ...    None   \n",
       "1  {\"fwh1\": {\"24\": \"K\", \"25\": \"A\", \"26\": \"S\", \"20...  ...    None   \n",
       "2  {\"fwh1\": {\"24\": \"K\", \"25\": \"A\", \"26\": \"S\", \"20...  ...    None   \n",
       "3  {\"fwh1\": {\"24\": \"K\", \"25\": \"A\", \"26\": \"S\", \"20...  ...    None   \n",
       "4  {\"fwh1\": {\"24\": \"K\", \"25\": \"A\", \"26\": \"S\", \"20...  ...    None   \n",
       "\n",
       "                                                Link BSource  \\\n",
       "0  https://www.sciencedirect.com/science/article/...    PBMC   \n",
       "1  https://www.sciencedirect.com/science/article/...    PBMC   \n",
       "2  https://www.sciencedirect.com/science/article/...    PBMC   \n",
       "3  https://www.sciencedirect.com/science/article/...    PBMC   \n",
       "4  https://www.sciencedirect.com/science/article/...    PBMC   \n",
       "\n",
       "              BType    Size  Species Vaccine       Subject cdr3_len Cluster_ID  \n",
       "0  Unsorted-B-Cells  257563    human    HepB  Subject-1070       10          1  \n",
       "1  Unsorted-B-Cells  257563    human    HepB  Subject-1070       10          1  \n",
       "2  Unsorted-B-Cells  257563    human    HepB  Subject-1070       10          1  \n",
       "3  Unsorted-B-Cells  257563    human    HepB  Subject-1070       10          1  \n",
       "4  Unsorted-B-Cells  257563    human    HepB  Subject-1070       10          1  \n",
       "\n",
       "[5 rows x 26 columns]"
      ]
     },
     "execution_count": 3,
     "metadata": {},
     "output_type": "execute_result"
    }
   ],
   "source": [
    "import pandas as pd\n",
    "\n",
    "data = pd.read_parquet(INPUT_PATH)\n",
    "\n",
    "data.info()\n",
    "data.head()"
   ]
  },
  {
   "cell_type": "code",
   "execution_count": 4,
   "metadata": {
    "execution": {
     "iopub.execute_input": "2020-07-08T08:01:32.168818Z",
     "iopub.status.busy": "2020-07-08T08:01:32.168227Z",
     "iopub.status.idle": "2020-07-08T08:01:35.221267Z",
     "shell.execute_reply": "2020-07-08T08:01:35.220595Z"
    },
    "papermill": {
     "duration": 3.068759,
     "end_time": "2020-07-08T08:01:35.221389",
     "exception": false,
     "start_time": "2020-07-08T08:01:32.152630",
     "status": "completed"
    },
    "tags": []
   },
   "outputs": [],
   "source": [
    "from bin.build_clustered_data import CLUSTER_ID_COLUMN_NAME\n",
    "\n",
    "clusters_gr = data.groupby(CLUSTER_ID_COLUMN_NAME)"
   ]
  },
  {
   "cell_type": "code",
   "execution_count": 5,
   "metadata": {
    "execution": {
     "iopub.execute_input": "2020-07-08T08:01:35.253756Z",
     "iopub.status.busy": "2020-07-08T08:01:35.253087Z",
     "iopub.status.idle": "2020-07-08T08:30:20.341520Z",
     "shell.execute_reply": "2020-07-08T08:30:20.340927Z"
    },
    "papermill": {
     "duration": 1725.105467,
     "end_time": "2020-07-08T08:30:20.341664",
     "exception": false,
     "start_time": "2020-07-08T08:01:35.236197",
     "status": "completed"
    },
    "tags": []
   },
   "outputs": [],
   "source": [
    "HEBP_TYPE = 'HepB+B-cells'\n",
    "\n",
    "clusters_specif = clusters_gr.apply(lambda gr: (gr['BType'] == HEBP_TYPE).sum() / len(gr))"
   ]
  },
  {
   "cell_type": "code",
   "execution_count": 6,
   "metadata": {
    "execution": {
     "iopub.execute_input": "2020-07-08T08:30:20.378642Z",
     "iopub.status.busy": "2020-07-08T08:30:20.378043Z",
     "iopub.status.idle": "2020-07-08T08:30:20.391215Z",
     "shell.execute_reply": "2020-07-08T08:30:20.390585Z"
    },
    "papermill": {
     "duration": 0.029827,
     "end_time": "2020-07-08T08:30:20.391348",
     "exception": false,
     "start_time": "2020-07-08T08:30:20.361521",
     "status": "completed"
    },
    "tags": []
   },
   "outputs": [
    {
     "data": {
      "text/html": [
       "<div>\n",
       "<style scoped>\n",
       "    .dataframe tbody tr th:only-of-type {\n",
       "        vertical-align: middle;\n",
       "    }\n",
       "\n",
       "    .dataframe tbody tr th {\n",
       "        vertical-align: top;\n",
       "    }\n",
       "\n",
       "    .dataframe thead th {\n",
       "        text-align: right;\n",
       "    }\n",
       "</style>\n",
       "<table border=\"1\" class=\"dataframe\">\n",
       "  <thead>\n",
       "    <tr style=\"text-align: right;\">\n",
       "      <th></th>\n",
       "      <th>HepB</th>\n",
       "    </tr>\n",
       "    <tr>\n",
       "      <th>Cluster_ID</th>\n",
       "      <th></th>\n",
       "    </tr>\n",
       "  </thead>\n",
       "  <tbody>\n",
       "    <tr>\n",
       "      <th>0</th>\n",
       "      <td>False</td>\n",
       "    </tr>\n",
       "    <tr>\n",
       "      <th>1</th>\n",
       "      <td>False</td>\n",
       "    </tr>\n",
       "    <tr>\n",
       "      <th>2</th>\n",
       "      <td>False</td>\n",
       "    </tr>\n",
       "    <tr>\n",
       "      <th>3</th>\n",
       "      <td>False</td>\n",
       "    </tr>\n",
       "    <tr>\n",
       "      <th>4</th>\n",
       "      <td>False</td>\n",
       "    </tr>\n",
       "  </tbody>\n",
       "</table>\n",
       "</div>"
      ],
      "text/plain": [
       "             HepB\n",
       "Cluster_ID       \n",
       "0           False\n",
       "1           False\n",
       "2           False\n",
       "3           False\n",
       "4           False"
      ]
     },
     "execution_count": 6,
     "metadata": {},
     "output_type": "execute_result"
    }
   ],
   "source": [
    "CLASS_COL_NAME = 'HepB'\n",
    "\n",
    "df_with_class = pd.DataFrame(clusters_specif > HEPB_SPECIF_THRESHOLD, columns=[CLASS_COL_NAME])\n",
    "df_with_class.head()"
   ]
  },
  {
   "cell_type": "code",
   "execution_count": 7,
   "metadata": {
    "execution": {
     "iopub.execute_input": "2020-07-08T08:30:20.421023Z",
     "iopub.status.busy": "2020-07-08T08:30:20.420437Z",
     "iopub.status.idle": "2020-07-08T08:30:20.780153Z",
     "shell.execute_reply": "2020-07-08T08:30:20.779545Z"
    },
    "papermill": {
     "duration": 0.376591,
     "end_time": "2020-07-08T08:30:20.780263",
     "exception": false,
     "start_time": "2020-07-08T08:30:20.403672",
     "status": "completed"
    },
    "tags": []
   },
   "outputs": [],
   "source": [
    "df_with_class.to_parquet(OUTPUT_PATH)"
   ]
  }
 ],
 "metadata": {
  "kernelspec": {
   "display_name": "Python 3",
   "language": "python",
   "name": "python3"
  },
  "language_info": {
   "codemirror_mode": {
    "name": "ipython",
    "version": 3
   },
   "file_extension": ".py",
   "mimetype": "text/x-python",
   "name": "python",
   "nbconvert_exporter": "python",
   "pygments_lexer": "ipython3",
   "version": "3.7.6"
  },
  "papermill": {
   "duration": 1825.664702,
   "end_time": "2020-07-08T08:30:25.644704",
   "environment_variables": {},
   "exception": null,
   "input_path": "notebooks/data_preprocessing/ConstructClasses.ipynb",
   "output_path": "notebooks/data_preprocessing/ConstructClasses-Galson_2015a.ipynb",
   "parameters": {
    "HEPB_SPECIF_THRESHOLD": 0.5,
    "INPUT_PATH": "data/combined/clustered/final/Galson_2015a.parquet",
    "OUTPUT_PATH": "data/targets_data/clusters/Galson_2015a.parquet"
   },
   "start_time": "2020-07-08T07:59:59.980002",
   "version": "2.1.0"
  }
 },
 "nbformat": 4,
 "nbformat_minor": 4
}