{
 "cells": [
  {
   "cell_type": "markdown",
   "metadata": {},
   "source": [
    "# Split data by subjects"
   ]
  },
  {
   "cell_type": "code",
   "execution_count": 17,
   "metadata": {},
   "outputs": [],
   "source": [
    "# Retina quality plots\n",
    "%config InlineBackend.figure_format = 'retina'"
   ]
  },
  {
   "cell_type": "markdown",
   "metadata": {},
   "source": [
    "## Load data"
   ]
  },
  {
   "cell_type": "code",
   "execution_count": 1,
   "metadata": {},
   "outputs": [
    {
     "name": "stdout",
     "output_type": "stream",
     "text": [
      "<class 'pandas.core.frame.DataFrame'>\n",
      "Int64Index: 14738476 entries, 0 to 24\n",
      "Data columns (total 26 columns):\n",
      " #   Column         Dtype \n",
      "---  ------         ----- \n",
      " 0   num_errors     object\n",
      " 1   redundancy     int64 \n",
      " 2   name           int64 \n",
      " 3   seq            object\n",
      " 4   v              object\n",
      " 5   cdr3           object\n",
      " 6   original_name  object\n",
      " 7   errors         object\n",
      " 8   j              object\n",
      " 9   data           object\n",
      " 10  Longitudinal   object\n",
      " 11  Chain          object\n",
      " 12  Author         object\n",
      " 13  Isotype        object\n",
      " 14  Age            object\n",
      " 15  Size_igblastn  int64 \n",
      " 16  Disease        object\n",
      " 17  Link           object\n",
      " 18  BSource        object\n",
      " 19  BType          object\n",
      " 20  Size           int64 \n",
      " 21  Species        object\n",
      " 22  Vaccine        object\n",
      " 23  Subject        object\n",
      " 24  cdr3_len       int64 \n",
      " 25  Cluster_ID     int64 \n",
      "dtypes: int64(6), object(20)\n",
      "memory usage: 3.0+ GB\n"
     ]
    },
    {
     "data": {
      "text/html": [
       "<div>\n",
       "<style scoped>\n",
       "    .dataframe tbody tr th:only-of-type {\n",
       "        vertical-align: middle;\n",
       "    }\n",
       "\n",
       "    .dataframe tbody tr th {\n",
       "        vertical-align: top;\n",
       "    }\n",
       "\n",
       "    .dataframe thead th {\n",
       "        text-align: right;\n",
       "    }\n",
       "</style>\n",
       "<table border=\"1\" class=\"dataframe\">\n",
       "  <thead>\n",
       "    <tr style=\"text-align: right;\">\n",
       "      <th></th>\n",
       "      <th>num_errors</th>\n",
       "      <th>redundancy</th>\n",
       "      <th>name</th>\n",
       "      <th>seq</th>\n",
       "      <th>v</th>\n",
       "      <th>cdr3</th>\n",
       "      <th>original_name</th>\n",
       "      <th>errors</th>\n",
       "      <th>j</th>\n",
       "      <th>data</th>\n",
       "      <th>...</th>\n",
       "      <th>Disease</th>\n",
       "      <th>Link</th>\n",
       "      <th>BSource</th>\n",
       "      <th>BType</th>\n",
       "      <th>Size</th>\n",
       "      <th>Species</th>\n",
       "      <th>Vaccine</th>\n",
       "      <th>Subject</th>\n",
       "      <th>cdr3_len</th>\n",
       "      <th>Cluster_ID</th>\n",
       "    </tr>\n",
       "  </thead>\n",
       "  <tbody>\n",
       "    <tr>\n",
       "      <th>0</th>\n",
       "      <td>2</td>\n",
       "      <td>1</td>\n",
       "      <td>25814</td>\n",
       "      <td>SVKVSCKASGYNSATFGLCWVRQAPGEGLEWIGWISGYNGNTYYVP...</td>\n",
       "      <td>IGHV1-18*03</td>\n",
       "      <td>ARRAPFGFDH</td>\n",
       "      <td>127395</td>\n",
       "      <td>[('70', 'Q'), ('103', 'L')]</td>\n",
       "      <td>IGHJ1*01</td>\n",
       "      <td>{\"fwh1\": {\"24\": \"K\", \"25\": \"A\", \"26\": \"S\", \"20...</td>\n",
       "      <td>...</td>\n",
       "      <td>None</td>\n",
       "      <td>https://www.sciencedirect.com/science/article/...</td>\n",
       "      <td>PBMC</td>\n",
       "      <td>Unsorted-B-Cells</td>\n",
       "      <td>257563</td>\n",
       "      <td>human</td>\n",
       "      <td>HepB</td>\n",
       "      <td>Subject-1070</td>\n",
       "      <td>10</td>\n",
       "      <td>1</td>\n",
       "    </tr>\n",
       "    <tr>\n",
       "      <th>1</th>\n",
       "      <td>1</td>\n",
       "      <td>8</td>\n",
       "      <td>29478</td>\n",
       "      <td>SVKVSCKASGYNSATFGLCWVRQAPGEGLEWIGWISGYNGNTYYVP...</td>\n",
       "      <td>IGHV1-18*03</td>\n",
       "      <td>ARRAPFGFDH</td>\n",
       "      <td>125855</td>\n",
       "      <td>[('70', 'Q')]</td>\n",
       "      <td>IGHJ1*01</td>\n",
       "      <td>{\"fwh1\": {\"24\": \"K\", \"25\": \"A\", \"26\": \"S\", \"20...</td>\n",
       "      <td>...</td>\n",
       "      <td>None</td>\n",
       "      <td>https://www.sciencedirect.com/science/article/...</td>\n",
       "      <td>PBMC</td>\n",
       "      <td>Unsorted-B-Cells</td>\n",
       "      <td>257563</td>\n",
       "      <td>human</td>\n",
       "      <td>HepB</td>\n",
       "      <td>Subject-1070</td>\n",
       "      <td>10</td>\n",
       "      <td>1</td>\n",
       "    </tr>\n",
       "    <tr>\n",
       "      <th>2</th>\n",
       "      <td>1</td>\n",
       "      <td>12</td>\n",
       "      <td>31543</td>\n",
       "      <td>SVKVSCKASGYNSATFGLCWVRQAPGEGLEWIGWISGYNGNTYYVP...</td>\n",
       "      <td>IGHV1-18*03</td>\n",
       "      <td>ARRAPFGFDH</td>\n",
       "      <td>109459</td>\n",
       "      <td>[('70', 'Q')]</td>\n",
       "      <td>IGHJ1*01</td>\n",
       "      <td>{\"fwh1\": {\"24\": \"K\", \"25\": \"A\", \"26\": \"S\", \"20...</td>\n",
       "      <td>...</td>\n",
       "      <td>None</td>\n",
       "      <td>https://www.sciencedirect.com/science/article/...</td>\n",
       "      <td>PBMC</td>\n",
       "      <td>Unsorted-B-Cells</td>\n",
       "      <td>257563</td>\n",
       "      <td>human</td>\n",
       "      <td>HepB</td>\n",
       "      <td>Subject-1070</td>\n",
       "      <td>10</td>\n",
       "      <td>1</td>\n",
       "    </tr>\n",
       "    <tr>\n",
       "      <th>3</th>\n",
       "      <td>1</td>\n",
       "      <td>1</td>\n",
       "      <td>38523</td>\n",
       "      <td>SVKVSCKASGYNSATFGLCWVRQAPGEGLEWIGWISGYNGNTYYVP...</td>\n",
       "      <td>IGHV1-18*03</td>\n",
       "      <td>ARRAPFGLDH</td>\n",
       "      <td>128305</td>\n",
       "      <td>[('70', 'Q')]</td>\n",
       "      <td>IGHJ1*01</td>\n",
       "      <td>{\"fwh1\": {\"24\": \"K\", \"25\": \"A\", \"26\": \"S\", \"20...</td>\n",
       "      <td>...</td>\n",
       "      <td>None</td>\n",
       "      <td>https://www.sciencedirect.com/science/article/...</td>\n",
       "      <td>PBMC</td>\n",
       "      <td>Unsorted-B-Cells</td>\n",
       "      <td>257563</td>\n",
       "      <td>human</td>\n",
       "      <td>HepB</td>\n",
       "      <td>Subject-1070</td>\n",
       "      <td>10</td>\n",
       "      <td>1</td>\n",
       "    </tr>\n",
       "    <tr>\n",
       "      <th>4</th>\n",
       "      <td>1</td>\n",
       "      <td>1</td>\n",
       "      <td>50198</td>\n",
       "      <td>SVRVSCKASGYNSATFGLCWVRQAPGEGLEWIGWISGYNGNTYYVP...</td>\n",
       "      <td>IGHV1-18*03</td>\n",
       "      <td>ARRAPFGFDH</td>\n",
       "      <td>125829</td>\n",
       "      <td>[('70', 'Q')]</td>\n",
       "      <td>IGHJ1*01</td>\n",
       "      <td>{\"fwh1\": {\"24\": \"K\", \"25\": \"A\", \"26\": \"S\", \"20...</td>\n",
       "      <td>...</td>\n",
       "      <td>None</td>\n",
       "      <td>https://www.sciencedirect.com/science/article/...</td>\n",
       "      <td>PBMC</td>\n",
       "      <td>Unsorted-B-Cells</td>\n",
       "      <td>257563</td>\n",
       "      <td>human</td>\n",
       "      <td>HepB</td>\n",
       "      <td>Subject-1070</td>\n",
       "      <td>10</td>\n",
       "      <td>1</td>\n",
       "    </tr>\n",
       "  </tbody>\n",
       "</table>\n",
       "<p>5 rows × 26 columns</p>\n",
       "</div>"
      ],
      "text/plain": [
       "  num_errors  redundancy   name  \\\n",
       "0          2           1  25814   \n",
       "1          1           8  29478   \n",
       "2          1          12  31543   \n",
       "3          1           1  38523   \n",
       "4          1           1  50198   \n",
       "\n",
       "                                                 seq            v        cdr3  \\\n",
       "0  SVKVSCKASGYNSATFGLCWVRQAPGEGLEWIGWISGYNGNTYYVP...  IGHV1-18*03  ARRAPFGFDH   \n",
       "1  SVKVSCKASGYNSATFGLCWVRQAPGEGLEWIGWISGYNGNTYYVP...  IGHV1-18*03  ARRAPFGFDH   \n",
       "2  SVKVSCKASGYNSATFGLCWVRQAPGEGLEWIGWISGYNGNTYYVP...  IGHV1-18*03  ARRAPFGFDH   \n",
       "3  SVKVSCKASGYNSATFGLCWVRQAPGEGLEWIGWISGYNGNTYYVP...  IGHV1-18*03  ARRAPFGLDH   \n",
       "4  SVRVSCKASGYNSATFGLCWVRQAPGEGLEWIGWISGYNGNTYYVP...  IGHV1-18*03  ARRAPFGFDH   \n",
       "\n",
       "  original_name                       errors         j  \\\n",
       "0        127395  [('70', 'Q'), ('103', 'L')]  IGHJ1*01   \n",
       "1        125855                [('70', 'Q')]  IGHJ1*01   \n",
       "2        109459                [('70', 'Q')]  IGHJ1*01   \n",
       "3        128305                [('70', 'Q')]  IGHJ1*01   \n",
       "4        125829                [('70', 'Q')]  IGHJ1*01   \n",
       "\n",
       "                                                data  ... Disease  \\\n",
       "0  {\"fwh1\": {\"24\": \"K\", \"25\": \"A\", \"26\": \"S\", \"20...  ...    None   \n",
       "1  {\"fwh1\": {\"24\": \"K\", \"25\": \"A\", \"26\": \"S\", \"20...  ...    None   \n",
       "2  {\"fwh1\": {\"24\": \"K\", \"25\": \"A\", \"26\": \"S\", \"20...  ...    None   \n",
       "3  {\"fwh1\": {\"24\": \"K\", \"25\": \"A\", \"26\": \"S\", \"20...  ...    None   \n",
       "4  {\"fwh1\": {\"24\": \"K\", \"25\": \"A\", \"26\": \"S\", \"20...  ...    None   \n",
       "\n",
       "                                                Link BSource  \\\n",
       "0  https://www.sciencedirect.com/science/article/...    PBMC   \n",
       "1  https://www.sciencedirect.com/science/article/...    PBMC   \n",
       "2  https://www.sciencedirect.com/science/article/...    PBMC   \n",
       "3  https://www.sciencedirect.com/science/article/...    PBMC   \n",
       "4  https://www.sciencedirect.com/science/article/...    PBMC   \n",
       "\n",
       "              BType    Size  Species Vaccine       Subject cdr3_len Cluster_ID  \n",
       "0  Unsorted-B-Cells  257563    human    HepB  Subject-1070       10          1  \n",
       "1  Unsorted-B-Cells  257563    human    HepB  Subject-1070       10          1  \n",
       "2  Unsorted-B-Cells  257563    human    HepB  Subject-1070       10          1  \n",
       "3  Unsorted-B-Cells  257563    human    HepB  Subject-1070       10          1  \n",
       "4  Unsorted-B-Cells  257563    human    HepB  Subject-1070       10          1  \n",
       "\n",
       "[5 rows x 26 columns]"
      ]
     },
     "execution_count": 1,
     "metadata": {},
     "output_type": "execute_result"
    }
   ],
   "source": [
    "import pandas as pd\n",
    "\n",
    "clustered_data = pd.read_parquet('../../data/combined/clustered/final/Galson_2015a.parquet')\n",
    "\n",
    "clustered_data.info()\n",
    "clustered_data.head()"
   ]
  },
  {
   "cell_type": "markdown",
   "metadata": {},
   "source": [
    "## Subjects overview"
   ]
  },
  {
   "cell_type": "code",
   "execution_count": 6,
   "metadata": {},
   "outputs": [],
   "source": [
    "cluster_subj_cnt = clustered_data.groupby('Cluster_ID')['Subject'].nunique()"
   ]
  },
  {
   "cell_type": "code",
   "execution_count": 18,
   "metadata": {},
   "outputs": [
    {
     "data": {
      "image/png": "[encoded data removed]",
      "text/plain": [
       "<Figure size 432x288 with 1 Axes>"
      ]
     },
     "metadata": {
      "image/png": {
       "height": 277,
       "width": 376
      },
      "needs_background": "light"
     },
     "output_type": "display_data"
    }
   ],
   "source": [
    "from bin.plotting import barplot\n",
    "\n",
    "ax=barplot(cluster_subj_cnt.value_counts(), title='Number of source subjects in clusters')\n",
    "ax.set(ylabel='Number of subjects', xlabel='Number of clusters');"
   ]
  },
  {
   "cell_type": "code",
   "execution_count": 19,
   "metadata": {},
   "outputs": [
    {
     "data": {
      "text/plain": [
       "Int64Index([      0,       1,       3,       4,       5,       6,       7,\n",
       "                  8,       9,      10,\n",
       "            ...\n",
       "            5698094, 5698095, 5698096, 5698097, 5698098, 5698099, 5698100,\n",
       "            5698101, 5698102, 5698103],\n",
       "           dtype='int64', name='Cluster_ID', length=5477216)"
      ]
     },
     "execution_count": 19,
     "metadata": {},
     "output_type": "execute_result"
    }
   ],
   "source": [
    "single_subj_clusters = cluster_subj_cnt.index[cluster_subj_cnt == 1]\n",
    "single_subj_clusters"
   ]
  },
  {
   "cell_type": "code",
   "execution_count": 24,
   "metadata": {},
   "outputs": [],
   "source": [
    "single_subj_clusters_per_subj = clustered_data[clustered_data['Cluster_ID'].isin(single_subj_clusters)].groupby('Subject')['Cluster_ID'].nunique().sort_values(ascending=False)"
   ]
  },
  {
   "cell_type": "code",
   "execution_count": 25,
   "metadata": {},
   "outputs": [
    {
     "data": {
      "image/png": "[encoded data removed]",
      "text/plain": [
       "<Figure size 432x288 with 1 Axes>"
      ]
     },
     "metadata": {
      "image/png": {
       "height": 277,
       "width": 436
      },
      "needs_background": "light"
     },
     "output_type": "display_data"
    }
   ],
   "source": [
    "ax=barplot(single_subj_clusters_per_subj, title='Number of single subject clusters')\n",
    "ax.set(ylabel='Subject', xlabel='Number of single subject clusters');"
   ]
  },
  {
   "cell_type": "code",
   "execution_count": 33,
   "metadata": {},
   "outputs": [
    {
     "name": "stdout",
     "output_type": "stream",
     "text": [
      "Valid count: 1773780. Valid ratio: 0.31129301957282635\n"
     ]
    }
   ],
   "source": [
    "valid_subjects = ['Subject-1368', 'Subject-1070', 'Subject-1212', 'Subject-1032', 'Subject-1614']\n",
    "valid_cnt = single_subj_clusters_per_subj[valid_subjects].sum()\n",
    "total_clusters_cnt = clustered_data['Cluster_ID'].nunique()\n",
    "\n",
    "print(f'Valid count: {valid_cnt}. Valid ratio: {valid_cnt / total_clusters_cnt}')"
   ]
  },
  {
   "cell_type": "code",
   "execution_count": 36,
   "metadata": {},
   "outputs": [
    {
     "data": {
      "text/plain": [
       "array([      1,       9,      10, ..., 5696468, 5696714, 5696980])"
      ]
     },
     "execution_count": 36,
     "metadata": {},
     "output_type": "execute_result"
    }
   ],
   "source": [
    "valid_clusters = clustered_data[clustered_data['Cluster_ID'].isin(single_subj_clusters) & clustered_data['Subject'].isin(valid_subjects)]['Cluster_ID'].unique()\n",
    "valid_clusters"
   ]
  },
  {
   "cell_type": "code",
   "execution_count": 37,
   "metadata": {},
   "outputs": [
    {
     "data": {
      "text/plain": [
       "(1773780,)"
      ]
     },
     "execution_count": 37,
     "metadata": {},
     "output_type": "execute_result"
    }
   ],
   "source": [
    "valid_clusters.shape"
   ]
  },
  {
   "cell_type": "markdown",
   "metadata": {},
   "source": [
    "## Split"
   ]
  },
  {
   "cell_type": "code",
   "execution_count": 34,
   "metadata": {},
   "outputs": [
    {
     "name": "stdout",
     "output_type": "stream",
     "text": [
      "<class 'pandas.core.frame.DataFrame'>\n",
      "RangeIndex: 5698104 entries, 0 to 5698103\n",
      "Data columns (total 26 columns):\n",
      " #   Column         Dtype \n",
      "---  ------         ----- \n",
      " 0   num_errors     object\n",
      " 1   redundancy     int64 \n",
      " 2   name           int64 \n",
      " 3   seq            object\n",
      " 4   v              object\n",
      " 5   cdr3           object\n",
      " 6   original_name  object\n",
      " 7   errors         object\n",
      " 8   j              object\n",
      " 9   data           object\n",
      " 10  Longitudinal   object\n",
      " 11  Chain          object\n",
      " 12  Author         object\n",
      " 13  Isotype        object\n",
      " 14  Age            object\n",
      " 15  Size_igblastn  int64 \n",
      " 16  Disease        object\n",
      " 17  Link           object\n",
      " 18  BSource        object\n",
      " 19  BType          object\n",
      " 20  Size           int64 \n",
      " 21  Species        object\n",
      " 22  Vaccine        object\n",
      " 23  Subject        object\n",
      " 24  cdr3_len       int64 \n",
      " 25  Cluster_ID     int64 \n",
      "dtypes: int64(6), object(20)\n",
      "memory usage: 1.1+ GB\n"
     ]
    },
    {
     "data": {
      "text/html": [
       "<div>\n",
       "<style scoped>\n",
       "    .dataframe tbody tr th:only-of-type {\n",
       "        vertical-align: middle;\n",
       "    }\n",
       "\n",
       "    .dataframe tbody tr th {\n",
       "        vertical-align: top;\n",
       "    }\n",
       "\n",
       "    .dataframe thead th {\n",
       "        text-align: right;\n",
       "    }\n",
       "</style>\n",
       "<table border=\"1\" class=\"dataframe\">\n",
       "  <thead>\n",
       "    <tr style=\"text-align: right;\">\n",
       "      <th></th>\n",
       "      <th>num_errors</th>\n",
       "      <th>redundancy</th>\n",
       "      <th>name</th>\n",
       "      <th>seq</th>\n",
       "      <th>v</th>\n",
       "      <th>cdr3</th>\n",
       "      <th>original_name</th>\n",
       "      <th>errors</th>\n",
       "      <th>j</th>\n",
       "      <th>data</th>\n",
       "      <th>...</th>\n",
       "      <th>Disease</th>\n",
       "      <th>Link</th>\n",
       "      <th>BSource</th>\n",
       "      <th>BType</th>\n",
       "      <th>Size</th>\n",
       "      <th>Species</th>\n",
       "      <th>Vaccine</th>\n",
       "      <th>Subject</th>\n",
       "      <th>cdr3_len</th>\n",
       "      <th>Cluster_ID</th>\n",
       "    </tr>\n",
       "  </thead>\n",
       "  <tbody>\n",
       "    <tr>\n",
       "      <th>0</th>\n",
       "      <td>1</td>\n",
       "      <td>1</td>\n",
       "      <td>134263</td>\n",
       "      <td>SVKVSCKASGYSFTSKGISWVRQAPGQGLEWMGWISTNSGDTNYAQ...</td>\n",
       "      <td>IGHV1-18*03</td>\n",
       "      <td>ARDVDHRFDH</td>\n",
       "      <td>98191</td>\n",
       "      <td>[('37', 'K')]</td>\n",
       "      <td>IGHJ1*01</td>\n",
       "      <td>{\"fwh1\": {\"24\": \"K\", \"25\": \"A\", \"26\": \"S\", \"20...</td>\n",
       "      <td>...</td>\n",
       "      <td>None</td>\n",
       "      <td>https://www.sciencedirect.com/science/article/...</td>\n",
       "      <td>PBMC</td>\n",
       "      <td>Unsorted-B-Cells</td>\n",
       "      <td>320541</td>\n",
       "      <td>human</td>\n",
       "      <td>HepB</td>\n",
       "      <td>Subject-1776</td>\n",
       "      <td>10</td>\n",
       "      <td>0</td>\n",
       "    </tr>\n",
       "    <tr>\n",
       "      <th>1</th>\n",
       "      <td>0</td>\n",
       "      <td>1</td>\n",
       "      <td>88640</td>\n",
       "      <td>SVKVSCKASGYNSATFGLCWVRQAPGEGLEWIGWISGYNGNAYYVP...</td>\n",
       "      <td>IGHV1-18*03</td>\n",
       "      <td>ARRAPFGFDH</td>\n",
       "      <td>128329</td>\n",
       "      <td>[None]</td>\n",
       "      <td>IGHJ1*01</td>\n",
       "      <td>{\"fwh1\": {\"24\": \"K\", \"25\": \"A\", \"26\": \"S\", \"20...</td>\n",
       "      <td>...</td>\n",
       "      <td>None</td>\n",
       "      <td>https://www.sciencedirect.com/science/article/...</td>\n",
       "      <td>PBMC</td>\n",
       "      <td>Unsorted-B-Cells</td>\n",
       "      <td>257563</td>\n",
       "      <td>human</td>\n",
       "      <td>HepB</td>\n",
       "      <td>Subject-1070</td>\n",
       "      <td>10</td>\n",
       "      <td>1</td>\n",
       "    </tr>\n",
       "    <tr>\n",
       "      <th>2</th>\n",
       "      <td>1</td>\n",
       "      <td>1</td>\n",
       "      <td>68354</td>\n",
       "      <td>SVKVSCKASGYPFTINGISWVRQAPGQGLEWMGWISANSGNTIYAY...</td>\n",
       "      <td>IGHV1-18*03</td>\n",
       "      <td>ARDRNYRFDH</td>\n",
       "      <td>67869</td>\n",
       "      <td>[('69', 'Y')]</td>\n",
       "      <td>IGHJ1*01</td>\n",
       "      <td>{\"fwh1\": {\"24\": \"K\", \"25\": \"A\", \"26\": \"S\", \"20...</td>\n",
       "      <td>...</td>\n",
       "      <td>None</td>\n",
       "      <td>https://www.sciencedirect.com/science/article/...</td>\n",
       "      <td>PBMC</td>\n",
       "      <td>Unsorted-B-Cells</td>\n",
       "      <td>210056</td>\n",
       "      <td>human</td>\n",
       "      <td>HepB</td>\n",
       "      <td>Subject-1032</td>\n",
       "      <td>10</td>\n",
       "      <td>2</td>\n",
       "    </tr>\n",
       "    <tr>\n",
       "      <th>3</th>\n",
       "      <td>2</td>\n",
       "      <td>1</td>\n",
       "      <td>35076</td>\n",
       "      <td>SVKVSCKASGYTFTRNGISWVRQAPGQGLEWMGWISTNSGNTKYAQ...</td>\n",
       "      <td>IGHV1-18*03</td>\n",
       "      <td>ARDRSHSFVD</td>\n",
       "      <td>114706</td>\n",
       "      <td>[('101', 'R'), ('123', 'S')]</td>\n",
       "      <td>IGHJ1*01</td>\n",
       "      <td>{\"fwh1\": {\"24\": \"K\", \"25\": \"A\", \"26\": \"S\", \"20...</td>\n",
       "      <td>...</td>\n",
       "      <td>None</td>\n",
       "      <td>https://www.sciencedirect.com/science/article/...</td>\n",
       "      <td>PBMC</td>\n",
       "      <td>Unsorted-B-Cells</td>\n",
       "      <td>297611</td>\n",
       "      <td>human</td>\n",
       "      <td>HepB</td>\n",
       "      <td>Subject-1848</td>\n",
       "      <td>10</td>\n",
       "      <td>3</td>\n",
       "    </tr>\n",
       "    <tr>\n",
       "      <th>4</th>\n",
       "      <td>1</td>\n",
       "      <td>1</td>\n",
       "      <td>9399</td>\n",
       "      <td>SVKVPCKASGYSFTSNGISWVRQAPGQGLEWLGWISINSGNTNYAQ...</td>\n",
       "      <td>IGHV1-18*03</td>\n",
       "      <td>ARDRLHSLDH</td>\n",
       "      <td>137143</td>\n",
       "      <td>[('22', 'P')]</td>\n",
       "      <td>IGHJ1*01</td>\n",
       "      <td>{\"fwh1\": {\"24\": \"K\", \"25\": \"A\", \"26\": \"S\", \"20...</td>\n",
       "      <td>...</td>\n",
       "      <td>None</td>\n",
       "      <td>https://www.sciencedirect.com/science/article/...</td>\n",
       "      <td>PBMC</td>\n",
       "      <td>Unsorted-B-Cells</td>\n",
       "      <td>297611</td>\n",
       "      <td>human</td>\n",
       "      <td>HepB</td>\n",
       "      <td>Subject-1848</td>\n",
       "      <td>10</td>\n",
       "      <td>4</td>\n",
       "    </tr>\n",
       "  </tbody>\n",
       "</table>\n",
       "<p>5 rows × 26 columns</p>\n",
       "</div>"
      ],
      "text/plain": [
       "  num_errors  redundancy    name  \\\n",
       "0          1           1  134263   \n",
       "1          0           1   88640   \n",
       "2          1           1   68354   \n",
       "3          2           1   35076   \n",
       "4          1           1    9399   \n",
       "\n",
       "                                                 seq            v        cdr3  \\\n",
       "0  SVKVSCKASGYSFTSKGISWVRQAPGQGLEWMGWISTNSGDTNYAQ...  IGHV1-18*03  ARDVDHRFDH   \n",
       "1  SVKVSCKASGYNSATFGLCWVRQAPGEGLEWIGWISGYNGNAYYVP...  IGHV1-18*03  ARRAPFGFDH   \n",
       "2  SVKVSCKASGYPFTINGISWVRQAPGQGLEWMGWISANSGNTIYAY...  IGHV1-18*03  ARDRNYRFDH   \n",
       "3  SVKVSCKASGYTFTRNGISWVRQAPGQGLEWMGWISTNSGNTKYAQ...  IGHV1-18*03  ARDRSHSFVD   \n",
       "4  SVKVPCKASGYSFTSNGISWVRQAPGQGLEWLGWISINSGNTNYAQ...  IGHV1-18*03  ARDRLHSLDH   \n",
       "\n",
       "  original_name                        errors         j  \\\n",
       "0         98191                 [('37', 'K')]  IGHJ1*01   \n",
       "1        128329                        [None]  IGHJ1*01   \n",
       "2         67869                 [('69', 'Y')]  IGHJ1*01   \n",
       "3        114706  [('101', 'R'), ('123', 'S')]  IGHJ1*01   \n",
       "4        137143                 [('22', 'P')]  IGHJ1*01   \n",
       "\n",
       "                                                data  ... Disease  \\\n",
       "0  {\"fwh1\": {\"24\": \"K\", \"25\": \"A\", \"26\": \"S\", \"20...  ...    None   \n",
       "1  {\"fwh1\": {\"24\": \"K\", \"25\": \"A\", \"26\": \"S\", \"20...  ...    None   \n",
       "2  {\"fwh1\": {\"24\": \"K\", \"25\": \"A\", \"26\": \"S\", \"20...  ...    None   \n",
       "3  {\"fwh1\": {\"24\": \"K\", \"25\": \"A\", \"26\": \"S\", \"20...  ...    None   \n",
       "4  {\"fwh1\": {\"24\": \"K\", \"25\": \"A\", \"26\": \"S\", \"20...  ...    None   \n",
       "\n",
       "                                                Link BSource  \\\n",
       "0  https://www.sciencedirect.com/science/article/...    PBMC   \n",
       "1  https://www.sciencedirect.com/science/article/...    PBMC   \n",
       "2  https://www.sciencedirect.com/science/article/...    PBMC   \n",
       "3  https://www.sciencedirect.com/science/article/...    PBMC   \n",
       "4  https://www.sciencedirect.com/science/article/...    PBMC   \n",
       "\n",
       "              BType    Size  Species Vaccine       Subject cdr3_len Cluster_ID  \n",
       "0  Unsorted-B-Cells  320541    human    HepB  Subject-1776       10          0  \n",
       "1  Unsorted-B-Cells  257563    human    HepB  Subject-1070       10          1  \n",
       "2  Unsorted-B-Cells  210056    human    HepB  Subject-1032       10          2  \n",
       "3  Unsorted-B-Cells  297611    human    HepB  Subject-1848       10          3  \n",
       "4  Unsorted-B-Cells  297611    human    HepB  Subject-1848       10          4  \n",
       "\n",
       "[5 rows x 26 columns]"
      ]
     },
     "execution_count": 34,
     "metadata": {},
     "output_type": "execute_result"
    }
   ],
   "source": [
    "mode_seqs = pd.read_parquet('../../data/combined/clustered/final/mode_seq/Galson_2015a_single.parquet')\n",
    "\n",
    "mode_seqs.info()\n",
    "mode_seqs.head()"
   ]
  },
  {
   "cell_type": "code",
   "execution_count": 40,
   "metadata": {},
   "outputs": [
    {
     "data": {
      "text/plain": [
       "True"
      ]
     },
     "execution_count": 40,
     "metadata": {},
     "output_type": "execute_result"
    }
   ],
   "source": [
    "(mode_seqs.index == mode_seqs['Cluster_ID']).all()"
   ]
  },
  {
   "cell_type": "code",
   "execution_count": 46,
   "metadata": {},
   "outputs": [
    {
     "name": "stdout",
     "output_type": "stream",
     "text": [
      "<class 'pandas.core.frame.DataFrame'>\n",
      "Int64Index: 5698104 entries, 0 to 5698103\n",
      "Data columns (total 1 columns):\n",
      " #   Column  Dtype\n",
      "---  ------  -----\n",
      " 0   HepB    bool \n",
      "dtypes: bool(1)\n",
      "memory usage: 48.9 MB\n"
     ]
    },
    {
     "data": {
      "text/html": [
       "<div>\n",
       "<style scoped>\n",
       "    .dataframe tbody tr th:only-of-type {\n",
       "        vertical-align: middle;\n",
       "    }\n",
       "\n",
       "    .dataframe tbody tr th {\n",
       "        vertical-align: top;\n",
       "    }\n",
       "\n",
       "    .dataframe thead th {\n",
       "        text-align: right;\n",
       "    }\n",
       "</style>\n",
       "<table border=\"1\" class=\"dataframe\">\n",
       "  <thead>\n",
       "    <tr style=\"text-align: right;\">\n",
       "      <th></th>\n",
       "      <th>HepB</th>\n",
       "    </tr>\n",
       "    <tr>\n",
       "      <th>Cluster_ID</th>\n",
       "      <th></th>\n",
       "    </tr>\n",
       "  </thead>\n",
       "  <tbody>\n",
       "    <tr>\n",
       "      <th>0</th>\n",
       "      <td>False</td>\n",
       "    </tr>\n",
       "    <tr>\n",
       "      <th>1</th>\n",
       "      <td>False</td>\n",
       "    </tr>\n",
       "    <tr>\n",
       "      <th>2</th>\n",
       "      <td>False</td>\n",
       "    </tr>\n",
       "    <tr>\n",
       "      <th>3</th>\n",
       "      <td>False</td>\n",
       "    </tr>\n",
       "    <tr>\n",
       "      <th>4</th>\n",
       "      <td>False</td>\n",
       "    </tr>\n",
       "  </tbody>\n",
       "</table>\n",
       "</div>"
      ],
      "text/plain": [
       "             HepB\n",
       "Cluster_ID       \n",
       "0           False\n",
       "1           False\n",
       "2           False\n",
       "3           False\n",
       "4           False"
      ]
     },
     "execution_count": 46,
     "metadata": {},
     "output_type": "execute_result"
    }
   ],
   "source": [
    "y_data = pd.read_parquet('../../data/targets_data/clusters/Galson_2015a.parquet')\n",
    "\n",
    "y_data.info()\n",
    "y_data.head()"
   ]
  },
  {
   "cell_type": "code",
   "execution_count": 66,
   "metadata": {},
   "outputs": [],
   "source": [
    "X_valid = mode_seqs.loc[valid_clusters]\n",
    "y_valid = y_data.loc[valid_clusters]"
   ]
  },
  {
   "cell_type": "code",
   "execution_count": 67,
   "metadata": {},
   "outputs": [],
   "source": [
    "X_valid.to_parquet('../../data/features_data/raw_subject_split/X_valid.parquet')\n",
    "y_valid.to_parquet('../../data/features_data/raw_subject_split/y_valid.parquet')"
   ]
  },
  {
   "cell_type": "code",
   "execution_count": 55,
   "metadata": {},
   "outputs": [],
   "source": [
    "X_train = mode_seqs.drop(valid_clusters)\n",
    "y_train = y_data.drop(valid_clusters)"
   ]
  },
  {
   "cell_type": "code",
   "execution_count": 56,
   "metadata": {},
   "outputs": [],
   "source": [
    "X_train.to_parquet('../../data/features_data/raw_subject_split/X_train.parquet')\n",
    "y_train.to_parquet('../../data/features_data/raw_subject_split/y_train.parquet')"
   ]
  },
  {
   "cell_type": "markdown",
   "metadata": {},
   "source": [
    "## Negative subsampling"
   ]
  },
  {
   "cell_type": "code",
   "execution_count": 51,
   "metadata": {},
   "outputs": [],
   "source": [
    "from sklearn.utils import shuffle\n",
    "\n",
    "def features_and_targets(X_dfs, y):\n",
    "    '''\n",
    "    Constructs single feature frame and corresponding targets.\n",
    "    '''\n",
    "    \n",
    "    X_subs = shuffle(pd.concat(X_dfs), random_state=RANDOM_STATE)\n",
    "    y_sub = y.loc[X_subs.index]\n",
    "    \n",
    "    return X_subs, y_sub\n",
    "\n",
    "def save_subsampled_data(X_train, y_train, cluster_sizes, pos_fraction, X_train_data, X_valid_data, y_train_data, y_valid_data, X_valid=None,y_valid=None):\n",
    "    y_val_coutns = y_train.value_counts()\n",
    "\n",
    "    if pos_fraction < 1:\n",
    "        print('Subsampling positive data...')\n",
    "        X_pos = X_train.sample(int(y_val_coutns[True] * pos_fraction), weights=cluster_sizes.loc[y_train.index[y_train]], random_state=RANDOM_STATE)\n",
    "    else:\n",
    "        X_pos = X_train.loc[y_train]\n",
    "    \n",
    "    # Subsample negatives to match positive count\n",
    "    print('Subsampling negative data...')\n",
    "    X_neg = X_train.sample(len(X_pos), weights=cluster_sizes.loc[y_train.index[y_train == False]], random_state=RANDOM_STATE)\n",
    "\n",
    "    print(f'Positive training data shape: {X_pos.shape}')\n",
    "    print(f'Negative training data shape: {X_neg.shape}')\n",
    "\n",
    "    X_train, y_train = features_and_targets([X_pos, X_neg], y_train)\n",
    "\n",
    "    print(f'Trainining data shape: {X_train.shape}, target: {y_train.shape}')\n",
    "    if X_valid is not None and y_valid is not None:\n",
    "        print(f'Validation data shape: {X_valid.shape}, target: {y_valid.shape}')\n",
    "\n",
    "    # Save resulting data\n",
    "    print('Saving training data...')\n",
    "    X_train.to_parquet(X_train_data)\n",
    "    pd.DataFrame(y_train, columns=['HepB']).to_parquet(y_train_data)\n",
    "\n",
    "    if X_valid is not None and y_valid is not None:\n",
    "        print('Saving validation data...')\n",
    "        X_valid.to_parquet(X_valid_data)\n",
    "        pd.DataFrame(y_valid, columns=['HepB']).to_parquet(y_valid_data)"
   ]
  },
  {
   "cell_type": "code",
   "execution_count": 52,
   "metadata": {},
   "outputs": [],
   "source": [
    "# Save validation data\n",
    "\n",
    "raw_dir = '../../data/features_data/raw_subject_split'\n",
    "dir_path = f'{raw_dir}/neg_subs/'\n",
    "\n",
    "X_valid_data = f'{raw_dir}/X_valid.parquet'\n",
    "y_valid_data = f'{raw_dir}/y_valid.parquet'\n",
    "\n",
    "# Neg subs\n",
    "pos_fraction = 1\n",
    "X_train_data = f'{dir_path}X_train.parquet'\n",
    "y_train_data = f'{dir_path}y_train.parquet'"
   ]
  },
  {
   "cell_type": "code",
   "execution_count": 58,
   "metadata": {},
   "outputs": [],
   "source": [
    "cluster_sizes = clustered_data.groupby('Cluster_ID').size()"
   ]
  },
  {
   "cell_type": "code",
   "execution_count": 60,
   "metadata": {},
   "outputs": [],
   "source": [
    "y_train = y_train['HepB']"
   ]
  },
  {
   "cell_type": "code",
   "execution_count": 62,
   "metadata": {},
   "outputs": [
    {
     "name": "stdout",
     "output_type": "stream",
     "text": [
      "Subsampling negative data...\n",
      "Positive training data shape: (49502, 26)\n",
      "Negative training data shape: (49502, 26)\n",
      "Trainining data shape: (99004, 26), target: (99004,)\n",
      "Saving training data...\n"
     ]
    }
   ],
   "source": [
    "RANDOM_STATE = 42\n",
    "save_subsampled_data(X_train, y_train, cluster_sizes, pos_fraction, X_train_data, X_valid_data, y_train_data, y_valid_data)"
   ]
  },
  {
   "cell_type": "code",
   "execution_count": 63,
   "metadata": {},
   "outputs": [],
   "source": [
    "# Balanced validation data\n",
    "pos_fraction = 1\n",
    "X_train_data = f'{raw_dir}/X_valid_balanced.parquet'\n",
    "X_valid_data = f'{raw_dir}/XX_valid.parquet'\n",
    "y_train_data = f'{raw_dir}/y_valid_balanced.parquet'\n",
    "y_valid_data = f'{raw_dir}/yy_valid.parquet'"
   ]
  },
  {
   "cell_type": "code",
   "execution_count": 69,
   "metadata": {},
   "outputs": [],
   "source": [
    "y_valid = y_valid['HepB']"
   ]
  },
  {
   "cell_type": "code",
   "execution_count": 70,
   "metadata": {},
   "outputs": [
    {
     "name": "stdout",
     "output_type": "stream",
     "text": [
      "Subsampling negative data...\n",
      "Positive training data shape: (11946, 26)\n",
      "Negative training data shape: (11946, 26)\n",
      "Trainining data shape: (23892, 26), target: (23892,)\n",
      "Saving training data...\n"
     ]
    }
   ],
   "source": [
    "save_subsampled_data(X_valid, y_valid, cluster_sizes, pos_fraction, X_train_data, X_valid_data, y_train_data, y_valid_data)"
   ]
  },
  {
   "cell_type": "code",
   "execution_count": null,
   "metadata": {},
   "outputs": [],
   "source": []
  }
 ],
 "metadata": {
  "kernelspec": {
   "display_name": "Python 3",
   "language": "python",
   "name": "python3"
  },
  "language_info": {
   "codemirror_mode": {
    "name": "ipython",
    "version": 3
   },
   "file_extension": ".py",
   "mimetype": "text/x-python",
   "name": "python",
   "nbconvert_exporter": "python",
   "pygments_lexer": "ipython3",
   "version": "3.7.6"
  }
 },
 "nbformat": 4,
 "nbformat_minor": 4
}
