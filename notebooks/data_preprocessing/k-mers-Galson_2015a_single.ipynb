{
 "cells": [
  {
   "cell_type": "markdown",
   "metadata": {
    "papermill": {
     "duration": 0.043833,
     "end_time": "2020-07-17T14:12:14.639785",
     "exception": false,
     "start_time": "2020-07-17T14:12:14.595952",
     "status": "completed"
    },
    "tags": []
   },
   "source": [
    "# Construct k-mers for given sequences"
   ]
  },
  {
   "cell_type": "code",
   "execution_count": 1,
   "metadata": {
    "execution": {
     "iopub.execute_input": "2020-07-17T14:12:14.719778Z",
     "iopub.status.busy": "2020-07-17T14:12:14.718520Z",
     "iopub.status.idle": "2020-07-17T14:12:14.723927Z",
     "shell.execute_reply": "2020-07-17T14:12:14.722627Z"
    },
    "papermill": {
     "duration": 0.048939,
     "end_time": "2020-07-17T14:12:14.724181",
     "exception": false,
     "start_time": "2020-07-17T14:12:14.675242",
     "status": "completed"
    },
    "tags": [
     "parameters"
    ]
   },
   "outputs": [],
   "source": [
    "SEQUENCES_DATAFRAME_PATH = '../../data/combined/clustered/final/consensus_seq/Galson_2016.parquet'\n",
    "KMERS_DATAFRAME_OUTPUT_PATH = '../../data/features_data/kmers/Galson_2016.parquet'\n",
    "SEQ_COL_IDX = 0\n",
    "K = 3"
   ]
  },
  {
   "cell_type": "code",
   "execution_count": 2,
   "metadata": {
    "execution": {
     "iopub.execute_input": "2020-07-17T14:12:14.799954Z",
     "iopub.status.busy": "2020-07-17T14:12:14.798722Z",
     "iopub.status.idle": "2020-07-17T14:12:14.803751Z",
     "shell.execute_reply": "2020-07-17T14:12:14.802523Z"
    },
    "papermill": {
     "duration": 0.046193,
     "end_time": "2020-07-17T14:12:14.803963",
     "exception": false,
     "start_time": "2020-07-17T14:12:14.757770",
     "status": "completed"
    },
    "tags": [
     "injected-parameters"
    ]
   },
   "outputs": [],
   "source": [
    "# Parameters\n",
    "SEQUENCES_DATAFRAME_PATH = (\n",
    "    \"data/combined/clustered/final/mode_seq/Galson_2015a_single.parquet\"\n",
    ")\n",
    "KMERS_DATAFRAME_OUTPUT_PATH = (\n",
    "    \"data/features_data/kmers/cdr3_Galson_2015a_single.parquet\"\n",
    ")\n",
    "K = 3\n",
    "SEQ_COL_IDX = 5\n"
   ]
  },
  {
   "cell_type": "markdown",
   "metadata": {
    "papermill": {
     "duration": 0.03333,
     "end_time": "2020-07-17T14:12:14.871023",
     "exception": false,
     "start_time": "2020-07-17T14:12:14.837693",
     "status": "completed"
    },
    "tags": []
   },
   "source": [
    "## Load data"
   ]
  },
  {
   "cell_type": "code",
   "execution_count": 3,
   "metadata": {
    "execution": {
     "iopub.execute_input": "2020-07-17T14:12:14.940845Z",
     "iopub.status.busy": "2020-07-17T14:12:14.939811Z",
     "iopub.status.idle": "2020-07-17T14:13:03.153659Z",
     "shell.execute_reply": "2020-07-17T14:13:03.152467Z"
    },
    "papermill": {
     "duration": 48.250369,
     "end_time": "2020-07-17T14:13:03.153925",
     "exception": false,
     "start_time": "2020-07-17T14:12:14.903556",
     "status": "completed"
    },
    "tags": []
   },
   "outputs": [
    {
     "name": "stdout",
     "output_type": "stream",
     "text": [
      "<class 'pandas.core.frame.DataFrame'>\n",
      "RangeIndex: 5698104 entries, 0 to 5698103\n",
      "Data columns (total 26 columns):\n",
      " #   Column         Dtype \n",
      "---  ------         ----- \n",
      " 0   num_errors     object\n",
      " 1   redundancy     int64 \n",
      " 2   name           int64 \n",
      " 3   seq            object\n",
      " 4   v              object\n",
      " 5   cdr3           object\n",
      " 6   original_name  object\n",
      " 7   errors         object\n",
      " 8   j              object\n",
      " 9   data           object\n",
      " 10  Longitudinal   object\n",
      " 11  Chain          object\n",
      " 12  Author         object\n",
      " 13  Isotype        object\n",
      " 14  Age            object\n",
      " 15  Size_igblastn  int64 \n",
      " 16  Disease        object\n",
      " 17  Link           object\n",
      " 18  BSource        object\n",
      " 19  BType          object\n",
      " 20  Size           int64 \n",
      " 21  Species        object\n",
      " 22  Vaccine        object\n",
      " 23  Subject        object\n",
      " 24  cdr3_len       int64 \n",
      " 25  Cluster_ID     int64 \n",
      "dtypes: int64(6), object(20)\n",
      "memory usage: 1.1+ GB\n"
     ]
    },
    {
     "data": {
      "text/html": [
       "<div>\n",
       "<style scoped>\n",
       "    .dataframe tbody tr th:only-of-type {\n",
       "        vertical-align: middle;\n",
       "    }\n",
       "\n",
       "    .dataframe tbody tr th {\n",
       "        vertical-align: top;\n",
       "    }\n",
       "\n",
       "    .dataframe thead th {\n",
       "        text-align: right;\n",
       "    }\n",
       "</style>\n",
       "<table border=\"1\" class=\"dataframe\">\n",
       "  <thead>\n",
       "    <tr style=\"text-align: right;\">\n",
       "      <th></th>\n",
       "      <th>num_errors</th>\n",
       "      <th>redundancy</th>\n",
       "      <th>name</th>\n",
       "      <th>seq</th>\n",
       "      <th>v</th>\n",
       "      <th>cdr3</th>\n",
       "      <th>original_name</th>\n",
       "      <th>errors</th>\n",
       "      <th>j</th>\n",
       "      <th>data</th>\n",
       "      <th>...</th>\n",
       "      <th>Disease</th>\n",
       "      <th>Link</th>\n",
       "      <th>BSource</th>\n",
       "      <th>BType</th>\n",
       "      <th>Size</th>\n",
       "      <th>Species</th>\n",
       "      <th>Vaccine</th>\n",
       "      <th>Subject</th>\n",
       "      <th>cdr3_len</th>\n",
       "      <th>Cluster_ID</th>\n",
       "    </tr>\n",
       "  </thead>\n",
       "  <tbody>\n",
       "    <tr>\n",
       "      <th>0</th>\n",
       "      <td>1</td>\n",
       "      <td>1</td>\n",
       "      <td>134263</td>\n",
       "      <td>SVKVSCKASGYSFTSKGISWVRQAPGQGLEWMGWISTNSGDTNYAQ...</td>\n",
       "      <td>IGHV1-18*03</td>\n",
       "      <td>ARDVDHRFDH</td>\n",
       "      <td>98191</td>\n",
       "      <td>[('37', 'K')]</td>\n",
       "      <td>IGHJ1*01</td>\n",
       "      <td>{\"fwh1\": {\"24\": \"K\", \"25\": \"A\", \"26\": \"S\", \"20...</td>\n",
       "      <td>...</td>\n",
       "      <td>None</td>\n",
       "      <td>https://www.sciencedirect.com/science/article/...</td>\n",
       "      <td>PBMC</td>\n",
       "      <td>Unsorted-B-Cells</td>\n",
       "      <td>320541</td>\n",
       "      <td>human</td>\n",
       "      <td>HepB</td>\n",
       "      <td>Subject-1776</td>\n",
       "      <td>10</td>\n",
       "      <td>0</td>\n",
       "    </tr>\n",
       "    <tr>\n",
       "      <th>1</th>\n",
       "      <td>0</td>\n",
       "      <td>1</td>\n",
       "      <td>88640</td>\n",
       "      <td>SVKVSCKASGYNSATFGLCWVRQAPGEGLEWIGWISGYNGNAYYVP...</td>\n",
       "      <td>IGHV1-18*03</td>\n",
       "      <td>ARRAPFGFDH</td>\n",
       "      <td>128329</td>\n",
       "      <td>[None]</td>\n",
       "      <td>IGHJ1*01</td>\n",
       "      <td>{\"fwh1\": {\"24\": \"K\", \"25\": \"A\", \"26\": \"S\", \"20...</td>\n",
       "      <td>...</td>\n",
       "      <td>None</td>\n",
       "      <td>https://www.sciencedirect.com/science/article/...</td>\n",
       "      <td>PBMC</td>\n",
       "      <td>Unsorted-B-Cells</td>\n",
       "      <td>257563</td>\n",
       "      <td>human</td>\n",
       "      <td>HepB</td>\n",
       "      <td>Subject-1070</td>\n",
       "      <td>10</td>\n",
       "      <td>1</td>\n",
       "    </tr>\n",
       "    <tr>\n",
       "      <th>2</th>\n",
       "      <td>1</td>\n",
       "      <td>1</td>\n",
       "      <td>68354</td>\n",
       "      <td>SVKVSCKASGYPFTINGISWVRQAPGQGLEWMGWISANSGNTIYAY...</td>\n",
       "      <td>IGHV1-18*03</td>\n",
       "      <td>ARDRNYRFDH</td>\n",
       "      <td>67869</td>\n",
       "      <td>[('69', 'Y')]</td>\n",
       "      <td>IGHJ1*01</td>\n",
       "      <td>{\"fwh1\": {\"24\": \"K\", \"25\": \"A\", \"26\": \"S\", \"20...</td>\n",
       "      <td>...</td>\n",
       "      <td>None</td>\n",
       "      <td>https://www.sciencedirect.com/science/article/...</td>\n",
       "      <td>PBMC</td>\n",
       "      <td>Unsorted-B-Cells</td>\n",
       "      <td>210056</td>\n",
       "      <td>human</td>\n",
       "      <td>HepB</td>\n",
       "      <td>Subject-1032</td>\n",
       "      <td>10</td>\n",
       "      <td>2</td>\n",
       "    </tr>\n",
       "    <tr>\n",
       "      <th>3</th>\n",
       "      <td>2</td>\n",
       "      <td>1</td>\n",
       "      <td>35076</td>\n",
       "      <td>SVKVSCKASGYTFTRNGISWVRQAPGQGLEWMGWISTNSGNTKYAQ...</td>\n",
       "      <td>IGHV1-18*03</td>\n",
       "      <td>ARDRSHSFVD</td>\n",
       "      <td>114706</td>\n",
       "      <td>[('101', 'R'), ('123', 'S')]</td>\n",
       "      <td>IGHJ1*01</td>\n",
       "      <td>{\"fwh1\": {\"24\": \"K\", \"25\": \"A\", \"26\": \"S\", \"20...</td>\n",
       "      <td>...</td>\n",
       "      <td>None</td>\n",
       "      <td>https://www.sciencedirect.com/science/article/...</td>\n",
       "      <td>PBMC</td>\n",
       "      <td>Unsorted-B-Cells</td>\n",
       "      <td>297611</td>\n",
       "      <td>human</td>\n",
       "      <td>HepB</td>\n",
       "      <td>Subject-1848</td>\n",
       "      <td>10</td>\n",
       "      <td>3</td>\n",
       "    </tr>\n",
       "    <tr>\n",
       "      <th>4</th>\n",
       "      <td>1</td>\n",
       "      <td>1</td>\n",
       "      <td>9399</td>\n",
       "      <td>SVKVPCKASGYSFTSNGISWVRQAPGQGLEWLGWISINSGNTNYAQ...</td>\n",
       "      <td>IGHV1-18*03</td>\n",
       "      <td>ARDRLHSLDH</td>\n",
       "      <td>137143</td>\n",
       "      <td>[('22', 'P')]</td>\n",
       "      <td>IGHJ1*01</td>\n",
       "      <td>{\"fwh1\": {\"24\": \"K\", \"25\": \"A\", \"26\": \"S\", \"20...</td>\n",
       "      <td>...</td>\n",
       "      <td>None</td>\n",
       "      <td>https://www.sciencedirect.com/science/article/...</td>\n",
       "      <td>PBMC</td>\n",
       "      <td>Unsorted-B-Cells</td>\n",
       "      <td>297611</td>\n",
       "      <td>human</td>\n",
       "      <td>HepB</td>\n",
       "      <td>Subject-1848</td>\n",
       "      <td>10</td>\n",
       "      <td>4</td>\n",
       "    </tr>\n",
       "  </tbody>\n",
       "</table>\n",
       "<p>5 rows × 26 columns</p>\n",
       "</div>"
      ],
      "text/plain": [
       "  num_errors  redundancy    name  \\\n",
       "0          1           1  134263   \n",
       "1          0           1   88640   \n",
       "2          1           1   68354   \n",
       "3          2           1   35076   \n",
       "4          1           1    9399   \n",
       "\n",
       "                                                 seq            v        cdr3  \\\n",
       "0  SVKVSCKASGYSFTSKGISWVRQAPGQGLEWMGWISTNSGDTNYAQ...  IGHV1-18*03  ARDVDHRFDH   \n",
       "1  SVKVSCKASGYNSATFGLCWVRQAPGEGLEWIGWISGYNGNAYYVP...  IGHV1-18*03  ARRAPFGFDH   \n",
       "2  SVKVSCKASGYPFTINGISWVRQAPGQGLEWMGWISANSGNTIYAY...  IGHV1-18*03  ARDRNYRFDH   \n",
       "3  SVKVSCKASGYTFTRNGISWVRQAPGQGLEWMGWISTNSGNTKYAQ...  IGHV1-18*03  ARDRSHSFVD   \n",
       "4  SVKVPCKASGYSFTSNGISWVRQAPGQGLEWLGWISINSGNTNYAQ...  IGHV1-18*03  ARDRLHSLDH   \n",
       "\n",
       "  original_name                        errors         j  \\\n",
       "0         98191                 [('37', 'K')]  IGHJ1*01   \n",
       "1        128329                        [None]  IGHJ1*01   \n",
       "2         67869                 [('69', 'Y')]  IGHJ1*01   \n",
       "3        114706  [('101', 'R'), ('123', 'S')]  IGHJ1*01   \n",
       "4        137143                 [('22', 'P')]  IGHJ1*01   \n",
       "\n",
       "                                                data  ... Disease  \\\n",
       "0  {\"fwh1\": {\"24\": \"K\", \"25\": \"A\", \"26\": \"S\", \"20...  ...    None   \n",
       "1  {\"fwh1\": {\"24\": \"K\", \"25\": \"A\", \"26\": \"S\", \"20...  ...    None   \n",
       "2  {\"fwh1\": {\"24\": \"K\", \"25\": \"A\", \"26\": \"S\", \"20...  ...    None   \n",
       "3  {\"fwh1\": {\"24\": \"K\", \"25\": \"A\", \"26\": \"S\", \"20...  ...    None   \n",
       "4  {\"fwh1\": {\"24\": \"K\", \"25\": \"A\", \"26\": \"S\", \"20...  ...    None   \n",
       "\n",
       "                                                Link BSource  \\\n",
       "0  https://www.sciencedirect.com/science/article/...    PBMC   \n",
       "1  https://www.sciencedirect.com/science/article/...    PBMC   \n",
       "2  https://www.sciencedirect.com/science/article/...    PBMC   \n",
       "3  https://www.sciencedirect.com/science/article/...    PBMC   \n",
       "4  https://www.sciencedirect.com/science/article/...    PBMC   \n",
       "\n",
       "              BType    Size  Species Vaccine       Subject cdr3_len Cluster_ID  \n",
       "0  Unsorted-B-Cells  320541    human    HepB  Subject-1776       10          0  \n",
       "1  Unsorted-B-Cells  257563    human    HepB  Subject-1070       10          1  \n",
       "2  Unsorted-B-Cells  210056    human    HepB  Subject-1032       10          2  \n",
       "3  Unsorted-B-Cells  297611    human    HepB  Subject-1848       10          3  \n",
       "4  Unsorted-B-Cells  297611    human    HepB  Subject-1848       10          4  \n",
       "\n",
       "[5 rows x 26 columns]"
      ]
     },
     "execution_count": 3,
     "metadata": {},
     "output_type": "execute_result"
    }
   ],
   "source": [
    "import pandas as pd\n",
    "\n",
    "sequences_df = pd.read_parquet(SEQUENCES_DATAFRAME_PATH)\n",
    "\n",
    "sequences_df.info()\n",
    "sequences_df.head()"
   ]
  },
  {
   "cell_type": "code",
   "execution_count": 4,
   "metadata": {
    "execution": {
     "iopub.execute_input": "2020-07-17T14:13:03.245256Z",
     "iopub.status.busy": "2020-07-17T14:13:03.244049Z",
     "iopub.status.idle": "2020-07-17T14:13:03.249557Z",
     "shell.execute_reply": "2020-07-17T14:13:03.250467Z"
    },
    "papermill": {
     "duration": 0.055149,
     "end_time": "2020-07-17T14:13:03.250706",
     "exception": false,
     "start_time": "2020-07-17T14:13:03.195557",
     "status": "completed"
    },
    "tags": []
   },
   "outputs": [
    {
     "data": {
      "text/plain": [
       "array(['ARDVDHRFDH', 'ARRAPFGFDH', 'ARDRNYRFDH', ..., 'ASGGPNMDV',\n",
       "       'AEGTSNMDV', 'ARVRGYRDG'], dtype=object)"
      ]
     },
     "execution_count": 4,
     "metadata": {},
     "output_type": "execute_result"
    }
   ],
   "source": [
    "sequences = sequences_df.iloc[:,SEQ_COL_IDX].values\n",
    "sequences"
   ]
  },
  {
   "cell_type": "markdown",
   "metadata": {
    "papermill": {
     "duration": 0.033851,
     "end_time": "2020-07-17T14:13:03.320829",
     "exception": false,
     "start_time": "2020-07-17T14:13:03.286978",
     "status": "completed"
    },
    "tags": []
   },
   "source": [
    "## Construct k-mers"
   ]
  },
  {
   "cell_type": "code",
   "execution_count": 5,
   "metadata": {
    "execution": {
     "iopub.execute_input": "2020-07-17T14:13:03.409990Z",
     "iopub.status.busy": "2020-07-17T14:13:03.409020Z",
     "iopub.status.idle": "2020-07-17T14:13:03.412963Z",
     "shell.execute_reply": "2020-07-17T14:13:03.413765Z"
    },
    "papermill": {
     "duration": 0.05721,
     "end_time": "2020-07-17T14:13:03.414034",
     "exception": false,
     "start_time": "2020-07-17T14:13:03.356824",
     "status": "completed"
    },
    "tags": []
   },
   "outputs": [
    {
     "name": "stdout",
     "output_type": "stream",
     "text": [
      "There is 8000 possible 3-mers when considering 20 possible amino acids.\n"
     ]
    }
   ],
   "source": [
    "import itertools\n",
    "\n",
    "AMINO_ACIDS = ['A', 'C', 'D', 'E', 'F', 'G', 'H', 'I', 'K', 'L',\n",
    "               'M', 'N', 'P', 'Q', 'R', 'S', 'T', 'V', 'W', 'Y']\n",
    "KMER_VOCABULARY = [''.join(kmer_tuple) for kmer_tuple in itertools.product(AMINO_ACIDS, repeat=K)]\n",
    "\n",
    "print(f'There is {len(KMER_VOCABULARY)} possible {K}-mers when considering {len(AMINO_ACIDS)} possible amino acids.')"
   ]
  },
  {
   "cell_type": "code",
   "execution_count": 6,
   "metadata": {
    "execution": {
     "iopub.execute_input": "2020-07-17T14:13:03.528960Z",
     "iopub.status.busy": "2020-07-17T14:13:03.528152Z",
     "iopub.status.idle": "2020-07-17T14:14:28.269154Z",
     "shell.execute_reply": "2020-07-17T14:14:28.270437Z"
    },
    "papermill": {
     "duration": 84.784237,
     "end_time": "2020-07-17T14:14:28.270798",
     "exception": false,
     "start_time": "2020-07-17T14:13:03.486561",
     "status": "completed"
    },
    "tags": []
   },
   "outputs": [
    {
     "name": "stdout",
     "output_type": "stream",
     "text": [
      "Constructed 3-mers data shape: (5698104, 8000)\n"
     ]
    }
   ],
   "source": [
    "from sklearn.feature_extraction.text import CountVectorizer\n",
    "import numpy as np\n",
    "\n",
    "vectorizer = CountVectorizer(vocabulary=KMER_VOCABULARY, analyzer='char', ngram_range=(K,K), lowercase=False)\n",
    "kmer_data = vectorizer.transform(sequences).astype(np.uint16)\n",
    "\n",
    "print(f'Constructed {K}-mers data shape: {kmer_data.shape}')"
   ]
  },
  {
   "cell_type": "markdown",
   "metadata": {
    "papermill": {
     "duration": 0.041453,
     "end_time": "2020-07-17T14:14:28.359131",
     "exception": false,
     "start_time": "2020-07-17T14:14:28.317678",
     "status": "completed"
    },
    "tags": []
   },
   "source": [
    "## Save k-mers data"
   ]
  },
  {
   "cell_type": "code",
   "execution_count": 7,
   "metadata": {
    "execution": {
     "iopub.execute_input": "2020-07-17T14:14:28.463899Z",
     "iopub.status.busy": "2020-07-17T14:14:28.462967Z",
     "iopub.status.idle": "2020-07-17T14:15:06.211074Z",
     "shell.execute_reply": "2020-07-17T14:15:06.210571Z"
    },
    "papermill": {
     "duration": 37.809886,
     "end_time": "2020-07-17T14:15:06.211185",
     "exception": false,
     "start_time": "2020-07-17T14:14:28.401299",
     "status": "completed"
    },
    "tags": []
   },
   "outputs": [
    {
     "name": "stdout",
     "output_type": "stream",
     "text": [
      "<class 'pandas.core.frame.DataFrame'>\n",
      "RangeIndex: 5698104 entries, 0 to 5698103\n",
      "Columns: 8000 entries, AAA to YYY\n",
      "dtypes: uint16(8000)\n",
      "memory usage: 84.9 GB\n"
     ]
    },
    {
     "data": {
      "text/html": [
       "<div>\n",
       "<style scoped>\n",
       "    .dataframe tbody tr th:only-of-type {\n",
       "        vertical-align: middle;\n",
       "    }\n",
       "\n",
       "    .dataframe tbody tr th {\n",
       "        vertical-align: top;\n",
       "    }\n",
       "\n",
       "    .dataframe thead th {\n",
       "        text-align: right;\n",
       "    }\n",
       "</style>\n",
       "<table border=\"1\" class=\"dataframe\">\n",
       "  <thead>\n",
       "    <tr style=\"text-align: right;\">\n",
       "      <th></th>\n",
       "      <th>AAA</th>\n",
       "      <th>AAC</th>\n",
       "      <th>AAD</th>\n",
       "      <th>AAE</th>\n",
       "      <th>AAF</th>\n",
       "      <th>AAG</th>\n",
       "      <th>AAH</th>\n",
       "      <th>AAI</th>\n",
       "      <th>AAK</th>\n",
       "      <th>AAL</th>\n",
       "      <th>...</th>\n",
       "      <th>YYM</th>\n",
       "      <th>YYN</th>\n",
       "      <th>YYP</th>\n",
       "      <th>YYQ</th>\n",
       "      <th>YYR</th>\n",
       "      <th>YYS</th>\n",
       "      <th>YYT</th>\n",
       "      <th>YYV</th>\n",
       "      <th>YYW</th>\n",
       "      <th>YYY</th>\n",
       "    </tr>\n",
       "  </thead>\n",
       "  <tbody>\n",
       "    <tr>\n",
       "      <th>0</th>\n",
       "      <td>0</td>\n",
       "      <td>0</td>\n",
       "      <td>0</td>\n",
       "      <td>0</td>\n",
       "      <td>0</td>\n",
       "      <td>0</td>\n",
       "      <td>0</td>\n",
       "      <td>0</td>\n",
       "      <td>0</td>\n",
       "      <td>0</td>\n",
       "      <td>...</td>\n",
       "      <td>0</td>\n",
       "      <td>0</td>\n",
       "      <td>0</td>\n",
       "      <td>0</td>\n",
       "      <td>0</td>\n",
       "      <td>0</td>\n",
       "      <td>0</td>\n",
       "      <td>0</td>\n",
       "      <td>0</td>\n",
       "      <td>0</td>\n",
       "    </tr>\n",
       "    <tr>\n",
       "      <th>1</th>\n",
       "      <td>0</td>\n",
       "      <td>0</td>\n",
       "      <td>0</td>\n",
       "      <td>0</td>\n",
       "      <td>0</td>\n",
       "      <td>0</td>\n",
       "      <td>0</td>\n",
       "      <td>0</td>\n",
       "      <td>0</td>\n",
       "      <td>0</td>\n",
       "      <td>...</td>\n",
       "      <td>0</td>\n",
       "      <td>0</td>\n",
       "      <td>0</td>\n",
       "      <td>0</td>\n",
       "      <td>0</td>\n",
       "      <td>0</td>\n",
       "      <td>0</td>\n",
       "      <td>0</td>\n",
       "      <td>0</td>\n",
       "      <td>0</td>\n",
       "    </tr>\n",
       "    <tr>\n",
       "      <th>2</th>\n",
       "      <td>0</td>\n",
       "      <td>0</td>\n",
       "      <td>0</td>\n",
       "      <td>0</td>\n",
       "      <td>0</td>\n",
       "      <td>0</td>\n",
       "      <td>0</td>\n",
       "      <td>0</td>\n",
       "      <td>0</td>\n",
       "      <td>0</td>\n",
       "      <td>...</td>\n",
       "      <td>0</td>\n",
       "      <td>0</td>\n",
       "      <td>0</td>\n",
       "      <td>0</td>\n",
       "      <td>0</td>\n",
       "      <td>0</td>\n",
       "      <td>0</td>\n",
       "      <td>0</td>\n",
       "      <td>0</td>\n",
       "      <td>0</td>\n",
       "    </tr>\n",
       "    <tr>\n",
       "      <th>3</th>\n",
       "      <td>0</td>\n",
       "      <td>0</td>\n",
       "      <td>0</td>\n",
       "      <td>0</td>\n",
       "      <td>0</td>\n",
       "      <td>0</td>\n",
       "      <td>0</td>\n",
       "      <td>0</td>\n",
       "      <td>0</td>\n",
       "      <td>0</td>\n",
       "      <td>...</td>\n",
       "      <td>0</td>\n",
       "      <td>0</td>\n",
       "      <td>0</td>\n",
       "      <td>0</td>\n",
       "      <td>0</td>\n",
       "      <td>0</td>\n",
       "      <td>0</td>\n",
       "      <td>0</td>\n",
       "      <td>0</td>\n",
       "      <td>0</td>\n",
       "    </tr>\n",
       "    <tr>\n",
       "      <th>4</th>\n",
       "      <td>0</td>\n",
       "      <td>0</td>\n",
       "      <td>0</td>\n",
       "      <td>0</td>\n",
       "      <td>0</td>\n",
       "      <td>0</td>\n",
       "      <td>0</td>\n",
       "      <td>0</td>\n",
       "      <td>0</td>\n",
       "      <td>0</td>\n",
       "      <td>...</td>\n",
       "      <td>0</td>\n",
       "      <td>0</td>\n",
       "      <td>0</td>\n",
       "      <td>0</td>\n",
       "      <td>0</td>\n",
       "      <td>0</td>\n",
       "      <td>0</td>\n",
       "      <td>0</td>\n",
       "      <td>0</td>\n",
       "      <td>0</td>\n",
       "    </tr>\n",
       "  </tbody>\n",
       "</table>\n",
       "<p>5 rows × 8000 columns</p>\n",
       "</div>"
      ],
      "text/plain": [
       "   AAA  AAC  AAD  AAE  AAF  AAG  AAH  AAI  AAK  AAL  ...  YYM  YYN  YYP  YYQ  \\\n",
       "0    0    0    0    0    0    0    0    0    0    0  ...    0    0    0    0   \n",
       "1    0    0    0    0    0    0    0    0    0    0  ...    0    0    0    0   \n",
       "2    0    0    0    0    0    0    0    0    0    0  ...    0    0    0    0   \n",
       "3    0    0    0    0    0    0    0    0    0    0  ...    0    0    0    0   \n",
       "4    0    0    0    0    0    0    0    0    0    0  ...    0    0    0    0   \n",
       "\n",
       "   YYR  YYS  YYT  YYV  YYW  YYY  \n",
       "0    0    0    0    0    0    0  \n",
       "1    0    0    0    0    0    0  \n",
       "2    0    0    0    0    0    0  \n",
       "3    0    0    0    0    0    0  \n",
       "4    0    0    0    0    0    0  \n",
       "\n",
       "[5 rows x 8000 columns]"
      ]
     },
     "execution_count": 7,
     "metadata": {},
     "output_type": "execute_result"
    }
   ],
   "source": [
    "features_names = [''.join(feature_tuple) for feature_tuple in vectorizer.get_feature_names()]\n",
    "res_df = pd.DataFrame(data=kmer_data.toarray(), index=sequences_df.index, columns=vectorizer.get_feature_names())\n",
    "\n",
    "res_df.info()\n",
    "res_df.head()"
   ]
  },
  {
   "cell_type": "code",
   "execution_count": 8,
   "metadata": {
    "execution": {
     "iopub.execute_input": "2020-07-17T14:15:06.319968Z",
     "iopub.status.busy": "2020-07-17T14:15:06.299655Z",
     "iopub.status.idle": "2020-07-17T14:30:21.079192Z",
     "shell.execute_reply": "2020-07-17T14:30:21.077799Z"
    },
    "papermill": {
     "duration": 914.842659,
     "end_time": "2020-07-17T14:30:21.079519",
     "exception": false,
     "start_time": "2020-07-17T14:15:06.236860",
     "status": "completed"
    },
    "tags": []
   },
   "outputs": [],
   "source": [
    "res_df.to_parquet(KMERS_DATAFRAME_OUTPUT_PATH)"
   ]
  },
  {
   "cell_type": "markdown",
   "metadata": {
    "papermill": {
     "duration": 0.043581,
     "end_time": "2020-07-17T14:30:21.203049",
     "exception": false,
     "start_time": "2020-07-17T14:30:21.159468",
     "status": "completed"
    },
    "tags": []
   },
   "source": [
    "## Basic k-mers overview"
   ]
  },
  {
   "cell_type": "code",
   "execution_count": 9,
   "metadata": {
    "execution": {
     "iopub.execute_input": "2020-07-17T14:30:21.317256Z",
     "iopub.status.busy": "2020-07-17T14:30:21.311879Z",
     "iopub.status.idle": "2020-07-17T14:31:28.074760Z",
     "shell.execute_reply": "2020-07-17T14:31:28.076276Z"
    },
    "papermill": {
     "duration": 66.822566,
     "end_time": "2020-07-17T14:31:28.076620",
     "exception": false,
     "start_time": "2020-07-17T14:30:21.254054",
     "status": "completed"
    },
    "tags": []
   },
   "outputs": [
    {
     "data": {
      "text/plain": [
       "YYY    1774358\n",
       "FDY    1179093\n",
       "MDV    1101436\n",
       "ARD    1031142\n",
       "GMD     768731\n",
       "dtype: int64"
      ]
     },
     "execution_count": 9,
     "metadata": {},
     "output_type": "execute_result"
    }
   ],
   "source": [
    "res_df.sum().sort_values(ascending=False).head()"
   ]
  },
  {
   "cell_type": "code",
   "execution_count": 10,
   "metadata": {
    "execution": {
     "iopub.execute_input": "2020-07-17T14:31:28.176642Z",
     "iopub.status.busy": "2020-07-17T14:31:28.175875Z",
     "iopub.status.idle": "2020-07-17T14:32:39.985207Z",
     "shell.execute_reply": "2020-07-17T14:32:39.986485Z"
    },
    "papermill": {
     "duration": 71.86035,
     "end_time": "2020-07-17T14:32:39.986835",
     "exception": false,
     "start_time": "2020-07-17T14:31:28.126485",
     "status": "completed"
    },
    "tags": []
   },
   "outputs": [
    {
     "data": {
      "text/plain": [
       "YYY    0.311394\n",
       "FDY    0.206927\n",
       "MDV    0.193299\n",
       "ARD    0.180962\n",
       "GMD    0.134910\n",
       "dtype: float64"
      ]
     },
     "execution_count": 10,
     "metadata": {},
     "output_type": "execute_result"
    }
   ],
   "source": [
    "res_df.mean().sort_values(ascending=False).head()"
   ]
  },
  {
   "cell_type": "code",
   "execution_count": null,
   "metadata": {
    "papermill": {
     "duration": 0.045959,
     "end_time": "2020-07-17T14:32:40.084581",
     "exception": false,
     "start_time": "2020-07-17T14:32:40.038622",
     "status": "completed"
    },
    "tags": []
   },
   "outputs": [],
   "source": []
  }
 ],
 "metadata": {
  "kernelspec": {
   "display_name": "Python 3",
   "language": "python",
   "name": "python3"
  },
  "language_info": {
   "codemirror_mode": {
    "name": "ipython",
    "version": 3
   },
   "file_extension": ".py",
   "mimetype": "text/x-python",
   "name": "python",
   "nbconvert_exporter": "python",
   "pygments_lexer": "ipython3",
   "version": "3.7.6"
  },
  "papermill": {
   "duration": 1249.900286,
   "end_time": "2020-07-17T14:32:51.141405",
   "environment_variables": {},
   "exception": null,
   "input_path": "notebooks/data_preprocessing/k-mers.ipynb",
   "output_path": "notebooks/data_preprocessing/k-mers-Galson_2015a_single.ipynb",
   "parameters": {
    "K": 3,
    "KMERS_DATAFRAME_OUTPUT_PATH": "data/features_data/kmers/cdr3_Galson_2015a_single.parquet",
    "SEQUENCES_DATAFRAME_PATH": "data/combined/clustered/final/mode_seq/Galson_2015a_single.parquet",
    "SEQ_COL_IDX": 5
   },
   "start_time": "2020-07-17T14:12:01.241119",
   "version": "2.1.0"
  }
 },
 "nbformat": 4,
 "nbformat_minor": 4
}