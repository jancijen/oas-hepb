{
 "cells": [
  {
   "cell_type": "markdown",
   "metadata": {
    "papermill": {
     "duration": 0.014065,
     "end_time": "2020-07-08T08:15:24.755224",
     "exception": false,
     "start_time": "2020-07-08T08:15:24.741159",
     "status": "completed"
    },
    "tags": []
   },
   "source": [
    "# Construct classes for given data"
   ]
  },
  {
   "cell_type": "code",
   "execution_count": 1,
   "metadata": {
    "execution": {
     "iopub.execute_input": "2020-07-08T08:15:24.781395Z",
     "iopub.status.busy": "2020-07-08T08:15:24.780750Z",
     "iopub.status.idle": "2020-07-08T08:15:24.783571Z",
     "shell.execute_reply": "2020-07-08T08:15:24.782891Z"
    },
    "papermill": {
     "duration": 0.017524,
     "end_time": "2020-07-08T08:15:24.783706",
     "exception": false,
     "start_time": "2020-07-08T08:15:24.766182",
     "status": "completed"
    },
    "tags": [
     "parameters"
    ]
   },
   "outputs": [],
   "source": [
    "INPUT_PATH = '../../data/combined/clustered/final/all.parquet'\n",
    "OUTPUT_PATH = '../../data/targets_data/clusters/all.parquet'\n",
    "HEPB_SPECIF_THRESHOLD = 0.5"
   ]
  },
  {
   "cell_type": "code",
   "execution_count": 2,
   "metadata": {
    "execution": {
     "iopub.execute_input": "2020-07-08T08:15:24.809257Z",
     "iopub.status.busy": "2020-07-08T08:15:24.808618Z",
     "iopub.status.idle": "2020-07-08T08:15:24.811434Z",
     "shell.execute_reply": "2020-07-08T08:15:24.810838Z"
    },
    "papermill": {
     "duration": 0.017402,
     "end_time": "2020-07-08T08:15:24.811562",
     "exception": false,
     "start_time": "2020-07-08T08:15:24.794160",
     "status": "completed"
    },
    "tags": [
     "injected-parameters"
    ]
   },
   "outputs": [],
   "source": [
    "# Parameters\n",
    "INPUT_PATH = \"data/combined/clustered/final/Galson_2016.parquet\"\n",
    "OUTPUT_PATH = \"data/targets_data/clusters/Galson_2016.parquet\"\n",
    "HEPB_SPECIF_THRESHOLD = 0.5\n"
   ]
  },
  {
   "cell_type": "markdown",
   "metadata": {
    "papermill": {
     "duration": 0.010314,
     "end_time": "2020-07-08T08:15:24.832430",
     "exception": false,
     "start_time": "2020-07-08T08:15:24.822116",
     "status": "completed"
    },
    "tags": []
   },
   "source": [
    "## Load data"
   ]
  },
  {
   "cell_type": "code",
   "execution_count": 3,
   "metadata": {
    "execution": {
     "iopub.execute_input": "2020-07-08T08:15:24.858090Z",
     "iopub.status.busy": "2020-07-08T08:15:24.857454Z",
     "iopub.status.idle": "2020-07-08T08:16:48.321271Z",
     "shell.execute_reply": "2020-07-08T08:16:48.320721Z"
    },
    "papermill": {
     "duration": 83.478694,
     "end_time": "2020-07-08T08:16:48.321396",
     "exception": false,
     "start_time": "2020-07-08T08:15:24.842702",
     "status": "completed"
    },
    "tags": []
   },
   "outputs": [
    {
     "name": "stdout",
     "output_type": "stream",
     "text": [
      "<class 'pandas.core.frame.DataFrame'>\n",
      "Int64Index: 10598377 entries, 0 to 67\n",
      "Data columns (total 26 columns):\n",
      " #   Column         Dtype \n",
      "---  ------         ----- \n",
      " 0   num_errors     object\n",
      " 1   redundancy     int64 \n",
      " 2   name           int64 \n",
      " 3   seq            object\n",
      " 4   v              object\n",
      " 5   cdr3           object\n",
      " 6   original_name  object\n",
      " 7   errors         object\n",
      " 8   j              object\n",
      " 9   data           object\n",
      " 10  Longitudinal   object\n",
      " 11  Chain          object\n",
      " 12  Author         object\n",
      " 13  Isotype        object\n",
      " 14  Age            object\n",
      " 15  Size_igblastn  int64 \n",
      " 16  Disease        object\n",
      " 17  Link           object\n",
      " 18  BSource        object\n",
      " 19  BType          object\n",
      " 20  Subject        object\n",
      " 21  Species        object\n",
      " 22  Vaccine        object\n",
      " 23  Size           int64 \n",
      " 24  cdr3_len       int64 \n",
      " 25  Cluster_ID     int64 \n",
      "dtypes: int64(6), object(20)\n",
      "memory usage: 2.1+ GB\n"
     ]
    },
    {
     "data": {
      "text/html": [
       "<div>\n",
       "<style scoped>\n",
       "    .dataframe tbody tr th:only-of-type {\n",
       "        vertical-align: middle;\n",
       "    }\n",
       "\n",
       "    .dataframe tbody tr th {\n",
       "        vertical-align: top;\n",
       "    }\n",
       "\n",
       "    .dataframe thead th {\n",
       "        text-align: right;\n",
       "    }\n",
       "</style>\n",
       "<table border=\"1\" class=\"dataframe\">\n",
       "  <thead>\n",
       "    <tr style=\"text-align: right;\">\n",
       "      <th></th>\n",
       "      <th>num_errors</th>\n",
       "      <th>redundancy</th>\n",
       "      <th>name</th>\n",
       "      <th>seq</th>\n",
       "      <th>v</th>\n",
       "      <th>cdr3</th>\n",
       "      <th>original_name</th>\n",
       "      <th>errors</th>\n",
       "      <th>j</th>\n",
       "      <th>data</th>\n",
       "      <th>...</th>\n",
       "      <th>Disease</th>\n",
       "      <th>Link</th>\n",
       "      <th>BSource</th>\n",
       "      <th>BType</th>\n",
       "      <th>Subject</th>\n",
       "      <th>Species</th>\n",
       "      <th>Vaccine</th>\n",
       "      <th>Size</th>\n",
       "      <th>cdr3_len</th>\n",
       "      <th>Cluster_ID</th>\n",
       "    </tr>\n",
       "  </thead>\n",
       "  <tbody>\n",
       "    <tr>\n",
       "      <th>0</th>\n",
       "      <td>0</td>\n",
       "      <td>1</td>\n",
       "      <td>38802</td>\n",
       "      <td>SLRLSCAASGFTFSSYAMSWVRQAPGKGLEWVSVISGSGGSTYYAD...</td>\n",
       "      <td>IGHV3-23*01</td>\n",
       "      <td>AKDLAHYYDSSGYYYVLNNWFDP</td>\n",
       "      <td>106439</td>\n",
       "      <td>[None]</td>\n",
       "      <td>IGHJ5*02</td>\n",
       "      <td>{\"fwh1\": {\"24\": \"A\", \"25\": \"A\", \"26\": \"S\", \"20...</td>\n",
       "      <td>...</td>\n",
       "      <td>None</td>\n",
       "      <td>https://genomemedicine.biomedcentral.com/artic...</td>\n",
       "      <td>PBMC</td>\n",
       "      <td>Unsorted-B-Cells</td>\n",
       "      <td>Subject-2954</td>\n",
       "      <td>human</td>\n",
       "      <td>HepB</td>\n",
       "      <td>175096</td>\n",
       "      <td>23</td>\n",
       "      <td>33</td>\n",
       "    </tr>\n",
       "    <tr>\n",
       "      <th>1</th>\n",
       "      <td>0</td>\n",
       "      <td>1</td>\n",
       "      <td>95</td>\n",
       "      <td>SLRLSCAGSGFTFGSYAISWVRQVPGKGLEWVSSFAGRGSITYFAD...</td>\n",
       "      <td>IGHV3-23*01</td>\n",
       "      <td>ARVIERWPNCSGGNCYSGPWFDP</td>\n",
       "      <td>107933</td>\n",
       "      <td>[None]</td>\n",
       "      <td>IGHJ5*02</td>\n",
       "      <td>{\"fwh1\": {\"24\": \"A\", \"25\": \"G\", \"26\": \"S\", \"20...</td>\n",
       "      <td>...</td>\n",
       "      <td>None</td>\n",
       "      <td>https://genomemedicine.biomedcentral.com/artic...</td>\n",
       "      <td>PBMC</td>\n",
       "      <td>Unsorted-B-Cells</td>\n",
       "      <td>Subject-2335</td>\n",
       "      <td>human</td>\n",
       "      <td>HepB</td>\n",
       "      <td>166649</td>\n",
       "      <td>23</td>\n",
       "      <td>34</td>\n",
       "    </tr>\n",
       "    <tr>\n",
       "      <th>2</th>\n",
       "      <td>0</td>\n",
       "      <td>1</td>\n",
       "      <td>428</td>\n",
       "      <td>SLRLSCAASGFTFSSFAMGWVRQAPGKGLEWVSSLSDGGGNRYYAD...</td>\n",
       "      <td>IGHV3-23*01</td>\n",
       "      <td>AKELGGGWFFGEVVSPRHNWFDP</td>\n",
       "      <td>122005</td>\n",
       "      <td>[None]</td>\n",
       "      <td>IGHJ5*02</td>\n",
       "      <td>{\"fwh1\": {\"24\": \"A\", \"25\": \"A\", \"26\": \"S\", \"20...</td>\n",
       "      <td>...</td>\n",
       "      <td>None</td>\n",
       "      <td>https://genomemedicine.biomedcentral.com/artic...</td>\n",
       "      <td>PBMC</td>\n",
       "      <td>Unsorted-B-Cells</td>\n",
       "      <td>Subject-2335</td>\n",
       "      <td>human</td>\n",
       "      <td>HepB</td>\n",
       "      <td>166649</td>\n",
       "      <td>23</td>\n",
       "      <td>2</td>\n",
       "    </tr>\n",
       "    <tr>\n",
       "      <th>3</th>\n",
       "      <td>0</td>\n",
       "      <td>1</td>\n",
       "      <td>11277</td>\n",
       "      <td>SLRLSCAASGFTFSNYAMSWVRQAPGKGLEWVSTITDNGGSTYYAD...</td>\n",
       "      <td>IGHV3-23*01</td>\n",
       "      <td>AKDAHKPKTTYSGDQLLLGRFDP</td>\n",
       "      <td>117722</td>\n",
       "      <td>[None]</td>\n",
       "      <td>IGHJ5*02</td>\n",
       "      <td>{\"fwh1\": {\"24\": \"A\", \"25\": \"A\", \"26\": \"S\", \"20...</td>\n",
       "      <td>...</td>\n",
       "      <td>None</td>\n",
       "      <td>https://genomemedicine.biomedcentral.com/artic...</td>\n",
       "      <td>PBMC</td>\n",
       "      <td>Unsorted-B-Cells</td>\n",
       "      <td>Subject-2335</td>\n",
       "      <td>human</td>\n",
       "      <td>HepB</td>\n",
       "      <td>166649</td>\n",
       "      <td>23</td>\n",
       "      <td>21</td>\n",
       "    </tr>\n",
       "    <tr>\n",
       "      <th>4</th>\n",
       "      <td>1</td>\n",
       "      <td>1</td>\n",
       "      <td>11579</td>\n",
       "      <td>SLRLSCAASGFTFSNYAMSWVRQAPGKGLEWVSTITDNGGSTYYAD...</td>\n",
       "      <td>IGHV3-23*01</td>\n",
       "      <td>AKDAHKPKTTYSGDQLLLGRFDP</td>\n",
       "      <td>130763</td>\n",
       "      <td>[('94', 'R')]</td>\n",
       "      <td>IGHJ5*02</td>\n",
       "      <td>{\"fwh1\": {\"24\": \"A\", \"25\": \"A\", \"26\": \"S\", \"20...</td>\n",
       "      <td>...</td>\n",
       "      <td>None</td>\n",
       "      <td>https://genomemedicine.biomedcentral.com/artic...</td>\n",
       "      <td>PBMC</td>\n",
       "      <td>Unsorted-B-Cells</td>\n",
       "      <td>Subject-2335</td>\n",
       "      <td>human</td>\n",
       "      <td>HepB</td>\n",
       "      <td>166649</td>\n",
       "      <td>23</td>\n",
       "      <td>21</td>\n",
       "    </tr>\n",
       "  </tbody>\n",
       "</table>\n",
       "<p>5 rows × 26 columns</p>\n",
       "</div>"
      ],
      "text/plain": [
       "  num_errors  redundancy   name  \\\n",
       "0          0           1  38802   \n",
       "1          0           1     95   \n",
       "2          0           1    428   \n",
       "3          0           1  11277   \n",
       "4          1           1  11579   \n",
       "\n",
       "                                                 seq            v  \\\n",
       "0  SLRLSCAASGFTFSSYAMSWVRQAPGKGLEWVSVISGSGGSTYYAD...  IGHV3-23*01   \n",
       "1  SLRLSCAGSGFTFGSYAISWVRQVPGKGLEWVSSFAGRGSITYFAD...  IGHV3-23*01   \n",
       "2  SLRLSCAASGFTFSSFAMGWVRQAPGKGLEWVSSLSDGGGNRYYAD...  IGHV3-23*01   \n",
       "3  SLRLSCAASGFTFSNYAMSWVRQAPGKGLEWVSTITDNGGSTYYAD...  IGHV3-23*01   \n",
       "4  SLRLSCAASGFTFSNYAMSWVRQAPGKGLEWVSTITDNGGSTYYAD...  IGHV3-23*01   \n",
       "\n",
       "                      cdr3 original_name         errors         j  \\\n",
       "0  AKDLAHYYDSSGYYYVLNNWFDP        106439         [None]  IGHJ5*02   \n",
       "1  ARVIERWPNCSGGNCYSGPWFDP        107933         [None]  IGHJ5*02   \n",
       "2  AKELGGGWFFGEVVSPRHNWFDP        122005         [None]  IGHJ5*02   \n",
       "3  AKDAHKPKTTYSGDQLLLGRFDP        117722         [None]  IGHJ5*02   \n",
       "4  AKDAHKPKTTYSGDQLLLGRFDP        130763  [('94', 'R')]  IGHJ5*02   \n",
       "\n",
       "                                                data  ... Disease  \\\n",
       "0  {\"fwh1\": {\"24\": \"A\", \"25\": \"A\", \"26\": \"S\", \"20...  ...    None   \n",
       "1  {\"fwh1\": {\"24\": \"A\", \"25\": \"G\", \"26\": \"S\", \"20...  ...    None   \n",
       "2  {\"fwh1\": {\"24\": \"A\", \"25\": \"A\", \"26\": \"S\", \"20...  ...    None   \n",
       "3  {\"fwh1\": {\"24\": \"A\", \"25\": \"A\", \"26\": \"S\", \"20...  ...    None   \n",
       "4  {\"fwh1\": {\"24\": \"A\", \"25\": \"A\", \"26\": \"S\", \"20...  ...    None   \n",
       "\n",
       "                                                Link BSource  \\\n",
       "0  https://genomemedicine.biomedcentral.com/artic...    PBMC   \n",
       "1  https://genomemedicine.biomedcentral.com/artic...    PBMC   \n",
       "2  https://genomemedicine.biomedcentral.com/artic...    PBMC   \n",
       "3  https://genomemedicine.biomedcentral.com/artic...    PBMC   \n",
       "4  https://genomemedicine.biomedcentral.com/artic...    PBMC   \n",
       "\n",
       "              BType       Subject  Species Vaccine    Size cdr3_len Cluster_ID  \n",
       "0  Unsorted-B-Cells  Subject-2954    human    HepB  175096       23         33  \n",
       "1  Unsorted-B-Cells  Subject-2335    human    HepB  166649       23         34  \n",
       "2  Unsorted-B-Cells  Subject-2335    human    HepB  166649       23          2  \n",
       "3  Unsorted-B-Cells  Subject-2335    human    HepB  166649       23         21  \n",
       "4  Unsorted-B-Cells  Subject-2335    human    HepB  166649       23         21  \n",
       "\n",
       "[5 rows x 26 columns]"
      ]
     },
     "execution_count": 3,
     "metadata": {},
     "output_type": "execute_result"
    }
   ],
   "source": [
    "import pandas as pd\n",
    "\n",
    "data = pd.read_parquet(INPUT_PATH)\n",
    "\n",
    "data.info()\n",
    "data.head()"
   ]
  },
  {
   "cell_type": "code",
   "execution_count": 4,
   "metadata": {
    "execution": {
     "iopub.execute_input": "2020-07-08T08:16:48.352048Z",
     "iopub.status.busy": "2020-07-08T08:16:48.351340Z",
     "iopub.status.idle": "2020-07-08T08:16:50.672724Z",
     "shell.execute_reply": "2020-07-08T08:16:50.672067Z"
    },
    "papermill": {
     "duration": 2.338857,
     "end_time": "2020-07-08T08:16:50.672846",
     "exception": false,
     "start_time": "2020-07-08T08:16:48.333989",
     "status": "completed"
    },
    "tags": []
   },
   "outputs": [],
   "source": [
    "from bin.build_clustered_data import CLUSTER_ID_COLUMN_NAME\n",
    "\n",
    "clusters_gr = data.groupby(CLUSTER_ID_COLUMN_NAME)"
   ]
  },
  {
   "cell_type": "code",
   "execution_count": 5,
   "metadata": {
    "execution": {
     "iopub.execute_input": "2020-07-08T08:16:50.706561Z",
     "iopub.status.busy": "2020-07-08T08:16:50.705939Z",
     "iopub.status.idle": "2020-07-08T08:25:50.407442Z",
     "shell.execute_reply": "2020-07-08T08:25:50.406807Z"
    },
    "papermill": {
     "duration": 539.720643,
     "end_time": "2020-07-08T08:25:50.407575",
     "exception": false,
     "start_time": "2020-07-08T08:16:50.686932",
     "status": "completed"
    },
    "tags": []
   },
   "outputs": [],
   "source": [
    "HEBP_TYPE = 'HepB+B-cells'\n",
    "\n",
    "clusters_specif = clusters_gr.apply(lambda gr: (gr['BType'] == HEBP_TYPE).sum() / len(gr))"
   ]
  },
  {
   "cell_type": "code",
   "execution_count": 6,
   "metadata": {
    "execution": {
     "iopub.execute_input": "2020-07-08T08:25:50.442888Z",
     "iopub.status.busy": "2020-07-08T08:25:50.442231Z",
     "iopub.status.idle": "2020-07-08T08:25:50.453035Z",
     "shell.execute_reply": "2020-07-08T08:25:50.452374Z"
    },
    "papermill": {
     "duration": 0.029949,
     "end_time": "2020-07-08T08:25:50.453177",
     "exception": false,
     "start_time": "2020-07-08T08:25:50.423228",
     "status": "completed"
    },
    "tags": []
   },
   "outputs": [
    {
     "data": {
      "text/html": [
       "<div>\n",
       "<style scoped>\n",
       "    .dataframe tbody tr th:only-of-type {\n",
       "        vertical-align: middle;\n",
       "    }\n",
       "\n",
       "    .dataframe tbody tr th {\n",
       "        vertical-align: top;\n",
       "    }\n",
       "\n",
       "    .dataframe thead th {\n",
       "        text-align: right;\n",
       "    }\n",
       "</style>\n",
       "<table border=\"1\" class=\"dataframe\">\n",
       "  <thead>\n",
       "    <tr style=\"text-align: right;\">\n",
       "      <th></th>\n",
       "      <th>HepB</th>\n",
       "    </tr>\n",
       "    <tr>\n",
       "      <th>Cluster_ID</th>\n",
       "      <th></th>\n",
       "    </tr>\n",
       "  </thead>\n",
       "  <tbody>\n",
       "    <tr>\n",
       "      <th>0</th>\n",
       "      <td>True</td>\n",
       "    </tr>\n",
       "    <tr>\n",
       "      <th>1</th>\n",
       "      <td>False</td>\n",
       "    </tr>\n",
       "    <tr>\n",
       "      <th>2</th>\n",
       "      <td>False</td>\n",
       "    </tr>\n",
       "    <tr>\n",
       "      <th>3</th>\n",
       "      <td>False</td>\n",
       "    </tr>\n",
       "    <tr>\n",
       "      <th>4</th>\n",
       "      <td>True</td>\n",
       "    </tr>\n",
       "  </tbody>\n",
       "</table>\n",
       "</div>"
      ],
      "text/plain": [
       "             HepB\n",
       "Cluster_ID       \n",
       "0            True\n",
       "1           False\n",
       "2           False\n",
       "3           False\n",
       "4            True"
      ]
     },
     "execution_count": 6,
     "metadata": {},
     "output_type": "execute_result"
    }
   ],
   "source": [
    "CLASS_COL_NAME = 'HepB'\n",
    "\n",
    "df_with_class = pd.DataFrame(clusters_specif > HEPB_SPECIF_THRESHOLD, columns=[CLASS_COL_NAME])\n",
    "df_with_class.head()"
   ]
  },
  {
   "cell_type": "code",
   "execution_count": 7,
   "metadata": {
    "execution": {
     "iopub.execute_input": "2020-07-08T08:25:50.486050Z",
     "iopub.status.busy": "2020-07-08T08:25:50.485376Z",
     "iopub.status.idle": "2020-07-08T08:25:50.664988Z",
     "shell.execute_reply": "2020-07-08T08:25:50.664396Z"
    },
    "papermill": {
     "duration": 0.198655,
     "end_time": "2020-07-08T08:25:50.665128",
     "exception": false,
     "start_time": "2020-07-08T08:25:50.466473",
     "status": "completed"
    },
    "tags": []
   },
   "outputs": [],
   "source": [
    "df_with_class.to_parquet(OUTPUT_PATH)"
   ]
  }
 ],
 "metadata": {
  "kernelspec": {
   "display_name": "Python 3",
   "language": "python",
   "name": "python3"
  },
  "language_info": {
   "codemirror_mode": {
    "name": "ipython",
    "version": 3
   },
   "file_extension": ".py",
   "mimetype": "text/x-python",
   "name": "python",
   "nbconvert_exporter": "python",
   "pygments_lexer": "ipython3",
   "version": "3.7.6"
  },
  "papermill": {
   "duration": 633.022032,
   "end_time": "2020-07-08T08:25:55.320418",
   "environment_variables": {},
   "exception": null,
   "input_path": "notebooks/data_preprocessing/ConstructClasses.ipynb",
   "output_path": "notebooks/data_preprocessing/ConstructClasses-Galson_2016.ipynb",
   "parameters": {
    "HEPB_SPECIF_THRESHOLD": 0.5,
    "INPUT_PATH": "data/combined/clustered/final/Galson_2016.parquet",
    "OUTPUT_PATH": "data/targets_data/clusters/Galson_2016.parquet"
   },
   "start_time": "2020-07-08T08:15:22.298386",
   "version": "2.1.0"
  }
 },
 "nbformat": 4,
 "nbformat_minor": 4
}