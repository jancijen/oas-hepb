{
 "cells": [
  {
   "cell_type": "markdown",
   "metadata": {
    "papermill": {
     "duration": 0.013798,
     "end_time": "2020-06-06T15:50:06.211072",
     "exception": false,
     "start_time": "2020-06-06T15:50:06.197274",
     "status": "completed"
    },
    "tags": []
   },
   "source": [
    "# Cluster class ratios"
   ]
  },
  {
   "cell_type": "code",
   "execution_count": 14,
   "metadata": {},
   "outputs": [],
   "source": [
    "# Retina quality plots\n",
    "%config InlineBackend.figure_format = 'retina'"
   ]
  },
  {
   "cell_type": "code",
   "execution_count": 1,
   "metadata": {
    "papermill": {
     "duration": 0.017932,
     "end_time": "2020-06-06T15:50:06.271933",
     "exception": false,
     "start_time": "2020-06-06T15:50:06.254001",
     "status": "completed"
    },
    "tags": [
     "injected-parameters"
    ]
   },
   "outputs": [],
   "source": [
    "INPUT_PATH = '../../data/combined/clustered/final/Galson_2015a.parquet'\n",
    "OUTPUT_PATH = '../../data/targets_data/clusters/Galson_2015a.parquet'"
   ]
  },
  {
   "cell_type": "markdown",
   "metadata": {
    "papermill": {
     "duration": 0.019422,
     "end_time": "2020-06-06T15:50:06.302643",
     "exception": false,
     "start_time": "2020-06-06T15:50:06.283221",
     "status": "completed"
    },
    "tags": []
   },
   "source": [
    "## Load data"
   ]
  },
  {
   "cell_type": "code",
   "execution_count": 2,
   "metadata": {
    "papermill": {
     "duration": 104.452969,
     "end_time": "2020-06-06T15:51:50.767771",
     "exception": false,
     "start_time": "2020-06-06T15:50:06.314802",
     "status": "completed"
    },
    "tags": []
   },
   "outputs": [
    {
     "name": "stdout",
     "output_type": "stream",
     "text": [
      "<class 'pandas.core.frame.DataFrame'>\n",
      "Int64Index: 14738476 entries, 0 to 24\n",
      "Data columns (total 26 columns):\n",
      " #   Column         Dtype \n",
      "---  ------         ----- \n",
      " 0   num_errors     object\n",
      " 1   redundancy     int64 \n",
      " 2   name           int64 \n",
      " 3   seq            object\n",
      " 4   v              object\n",
      " 5   cdr3           object\n",
      " 6   original_name  object\n",
      " 7   errors         object\n",
      " 8   j              object\n",
      " 9   data           object\n",
      " 10  Longitudinal   object\n",
      " 11  Chain          object\n",
      " 12  Author         object\n",
      " 13  Isotype        object\n",
      " 14  Age            object\n",
      " 15  Size_igblastn  int64 \n",
      " 16  Disease        object\n",
      " 17  Link           object\n",
      " 18  BSource        object\n",
      " 19  BType          object\n",
      " 20  Size           int64 \n",
      " 21  Species        object\n",
      " 22  Vaccine        object\n",
      " 23  Subject        object\n",
      " 24  cdr3_len       int64 \n",
      " 25  Cluster_ID     int64 \n",
      "dtypes: int64(6), object(20)\n",
      "memory usage: 3.0+ GB\n"
     ]
    },
    {
     "data": {
      "text/html": [
       "<div>\n",
       "<style scoped>\n",
       "    .dataframe tbody tr th:only-of-type {\n",
       "        vertical-align: middle;\n",
       "    }\n",
       "\n",
       "    .dataframe tbody tr th {\n",
       "        vertical-align: top;\n",
       "    }\n",
       "\n",
       "    .dataframe thead th {\n",
       "        text-align: right;\n",
       "    }\n",
       "</style>\n",
       "<table border=\"1\" class=\"dataframe\">\n",
       "  <thead>\n",
       "    <tr style=\"text-align: right;\">\n",
       "      <th></th>\n",
       "      <th>num_errors</th>\n",
       "      <th>redundancy</th>\n",
       "      <th>name</th>\n",
       "      <th>seq</th>\n",
       "      <th>v</th>\n",
       "      <th>cdr3</th>\n",
       "      <th>original_name</th>\n",
       "      <th>errors</th>\n",
       "      <th>j</th>\n",
       "      <th>data</th>\n",
       "      <th>...</th>\n",
       "      <th>Disease</th>\n",
       "      <th>Link</th>\n",
       "      <th>BSource</th>\n",
       "      <th>BType</th>\n",
       "      <th>Size</th>\n",
       "      <th>Species</th>\n",
       "      <th>Vaccine</th>\n",
       "      <th>Subject</th>\n",
       "      <th>cdr3_len</th>\n",
       "      <th>Cluster_ID</th>\n",
       "    </tr>\n",
       "  </thead>\n",
       "  <tbody>\n",
       "    <tr>\n",
       "      <th>0</th>\n",
       "      <td>2</td>\n",
       "      <td>1</td>\n",
       "      <td>25814</td>\n",
       "      <td>SVKVSCKASGYNSATFGLCWVRQAPGEGLEWIGWISGYNGNTYYVP...</td>\n",
       "      <td>IGHV1-18*03</td>\n",
       "      <td>ARRAPFGFDH</td>\n",
       "      <td>127395</td>\n",
       "      <td>[('70', 'Q'), ('103', 'L')]</td>\n",
       "      <td>IGHJ1*01</td>\n",
       "      <td>{\"fwh1\": {\"24\": \"K\", \"25\": \"A\", \"26\": \"S\", \"20...</td>\n",
       "      <td>...</td>\n",
       "      <td>None</td>\n",
       "      <td>https://www.sciencedirect.com/science/article/...</td>\n",
       "      <td>PBMC</td>\n",
       "      <td>Unsorted-B-Cells</td>\n",
       "      <td>257563</td>\n",
       "      <td>human</td>\n",
       "      <td>HepB</td>\n",
       "      <td>Subject-1070</td>\n",
       "      <td>10</td>\n",
       "      <td>1</td>\n",
       "    </tr>\n",
       "    <tr>\n",
       "      <th>1</th>\n",
       "      <td>1</td>\n",
       "      <td>8</td>\n",
       "      <td>29478</td>\n",
       "      <td>SVKVSCKASGYNSATFGLCWVRQAPGEGLEWIGWISGYNGNTYYVP...</td>\n",
       "      <td>IGHV1-18*03</td>\n",
       "      <td>ARRAPFGFDH</td>\n",
       "      <td>125855</td>\n",
       "      <td>[('70', 'Q')]</td>\n",
       "      <td>IGHJ1*01</td>\n",
       "      <td>{\"fwh1\": {\"24\": \"K\", \"25\": \"A\", \"26\": \"S\", \"20...</td>\n",
       "      <td>...</td>\n",
       "      <td>None</td>\n",
       "      <td>https://www.sciencedirect.com/science/article/...</td>\n",
       "      <td>PBMC</td>\n",
       "      <td>Unsorted-B-Cells</td>\n",
       "      <td>257563</td>\n",
       "      <td>human</td>\n",
       "      <td>HepB</td>\n",
       "      <td>Subject-1070</td>\n",
       "      <td>10</td>\n",
       "      <td>1</td>\n",
       "    </tr>\n",
       "    <tr>\n",
       "      <th>2</th>\n",
       "      <td>1</td>\n",
       "      <td>12</td>\n",
       "      <td>31543</td>\n",
       "      <td>SVKVSCKASGYNSATFGLCWVRQAPGEGLEWIGWISGYNGNTYYVP...</td>\n",
       "      <td>IGHV1-18*03</td>\n",
       "      <td>ARRAPFGFDH</td>\n",
       "      <td>109459</td>\n",
       "      <td>[('70', 'Q')]</td>\n",
       "      <td>IGHJ1*01</td>\n",
       "      <td>{\"fwh1\": {\"24\": \"K\", \"25\": \"A\", \"26\": \"S\", \"20...</td>\n",
       "      <td>...</td>\n",
       "      <td>None</td>\n",
       "      <td>https://www.sciencedirect.com/science/article/...</td>\n",
       "      <td>PBMC</td>\n",
       "      <td>Unsorted-B-Cells</td>\n",
       "      <td>257563</td>\n",
       "      <td>human</td>\n",
       "      <td>HepB</td>\n",
       "      <td>Subject-1070</td>\n",
       "      <td>10</td>\n",
       "      <td>1</td>\n",
       "    </tr>\n",
       "    <tr>\n",
       "      <th>3</th>\n",
       "      <td>1</td>\n",
       "      <td>1</td>\n",
       "      <td>38523</td>\n",
       "      <td>SVKVSCKASGYNSATFGLCWVRQAPGEGLEWIGWISGYNGNTYYVP...</td>\n",
       "      <td>IGHV1-18*03</td>\n",
       "      <td>ARRAPFGLDH</td>\n",
       "      <td>128305</td>\n",
       "      <td>[('70', 'Q')]</td>\n",
       "      <td>IGHJ1*01</td>\n",
       "      <td>{\"fwh1\": {\"24\": \"K\", \"25\": \"A\", \"26\": \"S\", \"20...</td>\n",
       "      <td>...</td>\n",
       "      <td>None</td>\n",
       "      <td>https://www.sciencedirect.com/science/article/...</td>\n",
       "      <td>PBMC</td>\n",
       "      <td>Unsorted-B-Cells</td>\n",
       "      <td>257563</td>\n",
       "      <td>human</td>\n",
       "      <td>HepB</td>\n",
       "      <td>Subject-1070</td>\n",
       "      <td>10</td>\n",
       "      <td>1</td>\n",
       "    </tr>\n",
       "    <tr>\n",
       "      <th>4</th>\n",
       "      <td>1</td>\n",
       "      <td>1</td>\n",
       "      <td>50198</td>\n",
       "      <td>SVRVSCKASGYNSATFGLCWVRQAPGEGLEWIGWISGYNGNTYYVP...</td>\n",
       "      <td>IGHV1-18*03</td>\n",
       "      <td>ARRAPFGFDH</td>\n",
       "      <td>125829</td>\n",
       "      <td>[('70', 'Q')]</td>\n",
       "      <td>IGHJ1*01</td>\n",
       "      <td>{\"fwh1\": {\"24\": \"K\", \"25\": \"A\", \"26\": \"S\", \"20...</td>\n",
       "      <td>...</td>\n",
       "      <td>None</td>\n",
       "      <td>https://www.sciencedirect.com/science/article/...</td>\n",
       "      <td>PBMC</td>\n",
       "      <td>Unsorted-B-Cells</td>\n",
       "      <td>257563</td>\n",
       "      <td>human</td>\n",
       "      <td>HepB</td>\n",
       "      <td>Subject-1070</td>\n",
       "      <td>10</td>\n",
       "      <td>1</td>\n",
       "    </tr>\n",
       "  </tbody>\n",
       "</table>\n",
       "<p>5 rows × 26 columns</p>\n",
       "</div>"
      ],
      "text/plain": [
       "  num_errors  redundancy   name  \\\n",
       "0          2           1  25814   \n",
       "1          1           8  29478   \n",
       "2          1          12  31543   \n",
       "3          1           1  38523   \n",
       "4          1           1  50198   \n",
       "\n",
       "                                                 seq            v        cdr3  \\\n",
       "0  SVKVSCKASGYNSATFGLCWVRQAPGEGLEWIGWISGYNGNTYYVP...  IGHV1-18*03  ARRAPFGFDH   \n",
       "1  SVKVSCKASGYNSATFGLCWVRQAPGEGLEWIGWISGYNGNTYYVP...  IGHV1-18*03  ARRAPFGFDH   \n",
       "2  SVKVSCKASGYNSATFGLCWVRQAPGEGLEWIGWISGYNGNTYYVP...  IGHV1-18*03  ARRAPFGFDH   \n",
       "3  SVKVSCKASGYNSATFGLCWVRQAPGEGLEWIGWISGYNGNTYYVP...  IGHV1-18*03  ARRAPFGLDH   \n",
       "4  SVRVSCKASGYNSATFGLCWVRQAPGEGLEWIGWISGYNGNTYYVP...  IGHV1-18*03  ARRAPFGFDH   \n",
       "\n",
       "  original_name                       errors         j  \\\n",
       "0        127395  [('70', 'Q'), ('103', 'L')]  IGHJ1*01   \n",
       "1        125855                [('70', 'Q')]  IGHJ1*01   \n",
       "2        109459                [('70', 'Q')]  IGHJ1*01   \n",
       "3        128305                [('70', 'Q')]  IGHJ1*01   \n",
       "4        125829                [('70', 'Q')]  IGHJ1*01   \n",
       "\n",
       "                                                data  ... Disease  \\\n",
       "0  {\"fwh1\": {\"24\": \"K\", \"25\": \"A\", \"26\": \"S\", \"20...  ...    None   \n",
       "1  {\"fwh1\": {\"24\": \"K\", \"25\": \"A\", \"26\": \"S\", \"20...  ...    None   \n",
       "2  {\"fwh1\": {\"24\": \"K\", \"25\": \"A\", \"26\": \"S\", \"20...  ...    None   \n",
       "3  {\"fwh1\": {\"24\": \"K\", \"25\": \"A\", \"26\": \"S\", \"20...  ...    None   \n",
       "4  {\"fwh1\": {\"24\": \"K\", \"25\": \"A\", \"26\": \"S\", \"20...  ...    None   \n",
       "\n",
       "                                                Link BSource  \\\n",
       "0  https://www.sciencedirect.com/science/article/...    PBMC   \n",
       "1  https://www.sciencedirect.com/science/article/...    PBMC   \n",
       "2  https://www.sciencedirect.com/science/article/...    PBMC   \n",
       "3  https://www.sciencedirect.com/science/article/...    PBMC   \n",
       "4  https://www.sciencedirect.com/science/article/...    PBMC   \n",
       "\n",
       "              BType    Size  Species Vaccine       Subject cdr3_len Cluster_ID  \n",
       "0  Unsorted-B-Cells  257563    human    HepB  Subject-1070       10          1  \n",
       "1  Unsorted-B-Cells  257563    human    HepB  Subject-1070       10          1  \n",
       "2  Unsorted-B-Cells  257563    human    HepB  Subject-1070       10          1  \n",
       "3  Unsorted-B-Cells  257563    human    HepB  Subject-1070       10          1  \n",
       "4  Unsorted-B-Cells  257563    human    HepB  Subject-1070       10          1  \n",
       "\n",
       "[5 rows x 26 columns]"
      ]
     },
     "execution_count": 2,
     "metadata": {},
     "output_type": "execute_result"
    }
   ],
   "source": [
    "import pandas as pd\n",
    "\n",
    "data = pd.read_parquet(INPUT_PATH)\n",
    "\n",
    "data.info()\n",
    "data.head()"
   ]
  },
  {
   "cell_type": "code",
   "execution_count": 3,
   "metadata": {
    "papermill": {
     "duration": 3.286976,
     "end_time": "2020-06-06T15:51:54.067781",
     "exception": false,
     "start_time": "2020-06-06T15:51:50.780805",
     "status": "completed"
    },
    "tags": []
   },
   "outputs": [],
   "source": [
    "from bin.build_clustered_data import CLUSTER_ID_COLUMN_NAME\n",
    "\n",
    "clusters_gr = data.groupby(CLUSTER_ID_COLUMN_NAME)"
   ]
  },
  {
   "cell_type": "code",
   "execution_count": 4,
   "metadata": {
    "papermill": {
     "duration": 1743.841363,
     "end_time": "2020-06-06T16:20:57.923618",
     "exception": false,
     "start_time": "2020-06-06T15:51:54.082255",
     "status": "completed"
    },
    "tags": []
   },
   "outputs": [],
   "source": [
    "HEBP_TYPE = 'HepB+B-cells'\n",
    "\n",
    "clusters_specif = clusters_gr.apply(lambda gr: (gr['BType'] == HEBP_TYPE).sum() / len(gr))"
   ]
  },
  {
   "cell_type": "markdown",
   "metadata": {},
   "source": [
    "## Inspect class ratios"
   ]
  },
  {
   "cell_type": "code",
   "execution_count": 16,
   "metadata": {},
   "outputs": [
    {
     "data": {
      "image/png": "[encoded data removed]",
      "text/plain": [
       "<Figure size 432x288 with 1 Axes>"
      ]
     },
     "metadata": {
      "image/png": {
       "height": 277,
       "width": 401
      },
      "needs_background": "light"
     },
     "output_type": "display_data"
    }
   ],
   "source": [
    "import numpy as np\n",
    "\n",
    "thresholds = np.arange(0.0, 1.1, 0.1)\n",
    "hepb_clusters_cnts = [(clusters_specif > hepb_specif_threshold).sum() for hepb_specif_threshold in thresholds]\n",
    "\n",
    "ax = pd.DataFrame({'Threshold': thresholds, 'HepB clusters': hepb_clusters_cnts}).plot.line(x='Threshold', y='HepB clusters', style='-o')\n",
    "ax.set(title='Number of HepB clusters based on ratio threshold', ylabel='Number of HepB clusters');"
   ]
  },
  {
   "cell_type": "code",
   "execution_count": null,
   "metadata": {},
   "outputs": [],
   "source": []
  }
 ],
 "metadata": {
  "kernelspec": {
   "display_name": "Python 3",
   "language": "python",
   "name": "python3"
  },
  "language_info": {
   "codemirror_mode": {
    "name": "ipython",
    "version": 3
   },
   "file_extension": ".py",
   "mimetype": "text/x-python",
   "name": "python",
   "nbconvert_exporter": "python",
   "pygments_lexer": "ipython3",
   "version": "3.7.6"
  },
  "papermill": {
   "duration": 1855.598632,
   "end_time": "2020-06-06T16:21:00.590363",
   "environment_variables": {},
   "exception": null,
   "input_path": "notebooks/data_preprocessing/ConstructClasses.ipynb",
   "output_path": "notebooks/data_preprocessing/ConstructClasses-Galson_2015a.ipynb",
   "parameters": {
    "HEPB_SPECIF_THRESHOLD": 0.55,
    "INPUT_PATH": "data/combined/clustered/final/Galson_2015a.parquet",
    "OUTPUT_PATH": "data/targets_data/clusters/Galson_2015a.parquet"
   },
   "start_time": "2020-06-06T15:50:04.991731",
   "version": "2.1.0"
  }
 },
 "nbformat": 4,
 "nbformat_minor": 4
}
