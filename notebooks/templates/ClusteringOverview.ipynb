{
 "cells": [
  {
   "cell_type": "markdown",
   "metadata": {},
   "source": [
    "# Clustered data overview"
   ]
  },
  {
   "cell_type": "code",
   "execution_count": null,
   "metadata": {},
   "outputs": [],
   "source": [
    "# Retina quality plots\n",
    "%config InlineBackend.figure_format = 'retina'"
   ]
  },
  {
   "cell_type": "markdown",
   "metadata": {},
   "source": [
    "## Load data"
   ]
  },
  {
   "cell_type": "code",
   "execution_count": null,
   "metadata": {},
   "outputs": [],
   "source": [
    "import pandas as pd\n",
    "\n",
    "CLUSTERED_DATA_DIR = 'data/combined/clustered/final'"
   ]
  },
  {
   "cell_type": "code",
   "execution_count": null,
   "metadata": {
    "tags": [
     "parameters"
    ]
   },
   "outputs": [],
   "source": [
    "STUDY = 'Galson_2015a'"
   ]
  },
  {
   "cell_type": "code",
   "execution_count": null,
   "metadata": {},
   "outputs": [],
   "source": [
    "data = pd.read_parquet(f'{CLUSTERED_DATA_DIR}/{STUDY}.parquet')\n",
    "\n",
    "data.info()\n",
    "data.head()"
   ]
  },
  {
   "cell_type": "markdown",
   "metadata": {},
   "source": [
    "## Data overview"
   ]
  },
  {
   "cell_type": "markdown",
   "metadata": {},
   "source": [
    "### Size"
   ]
  },
  {
   "cell_type": "code",
   "execution_count": null,
   "metadata": {},
   "outputs": [],
   "source": [
    "from bin.build_clustered_data import CLUSTER_ID_COLUMN_NAME\n",
    "\n",
    "def size_overview(df):\n",
    "    print(f'Total number of sequences: {df.shape[0]:,}')\n",
    "    print(f'Total number of clusters: {df[CLUSTER_ID_COLUMN_NAME].nunique():,}')"
   ]
  },
  {
   "cell_type": "code",
   "execution_count": null,
   "metadata": {},
   "outputs": [],
   "source": [
    "size_overview(data)"
   ]
  },
  {
   "cell_type": "code",
   "execution_count": null,
   "metadata": {},
   "outputs": [],
   "source": [
    "from matplotlib import pyplot as plt\n",
    "import seaborn as sns\n",
    "import numpy as np\n",
    "\n",
    "CLUSTER_SIZE_COL_NAME = 'Number of sequences'\n",
    "CLUSTER_SIZE_PLOT_TITLE = 'Cluster sizes (using log values)'\n",
    "CLUSTER_SIZE_PLOT_YLABEL = 'Cluster size'\n",
    "LARGEST_CLUSTERS_CNT = 10\n",
    "\n",
    "def cluster_size_overview(df_cluster_sizes):\n",
    "    df_log_cluster_sizes = np.log(df_cluster_sizes + 1)\n",
    "    sorted_df_log_cluster_sizes = df_log_cluster_sizes.sort_values().reset_index(name=CLUSTER_SIZE_COL_NAME)\n",
    "\n",
    "    # Largest clusters\n",
    "    print(f'{LARGEST_CLUSTERS_CNT} largest cluster sizes:')\n",
    "    print(df_cluster_sizes.sort_values().reset_index(name=CLUSTER_SIZE_COL_NAME).tail(LARGEST_CLUSTERS_CNT).iloc[::-1].to_string(index=False))\n",
    "\n",
    "    # Distplot\n",
    "    plt.figure(figsize=(10,6))\n",
    "    ax = sns.distplot(df_log_cluster_sizes.values, bins=np.arange(df_log_cluster_sizes.min(), df_log_cluster_sizes.max() + 1), kde_kws={'bw': 1})\n",
    "    ax.set(title=CLUSTER_SIZE_PLOT_TITLE + ' - distribution',\n",
    "           xlabel= CLUSTER_SIZE_PLOT_YLABEL,\n",
    "           xticklabels=['{:.2f}'.format(np.exp(v) - 1) for v in ax.get_xticks()])\n",
    "    plt.show()\n",
    "    \n",
    "    # Areaplot\n",
    "    ax = sorted_df_log_cluster_sizes[CLUSTER_SIZE_COL_NAME].plot.area(figsize=(10,6))\n",
    "    ax.set(title=CLUSTER_SIZE_PLOT_TITLE, xlabel= 'Cluster', ylabel=CLUSTER_SIZE_PLOT_YLABEL, xticks=[],\n",
    "           yticklabels=['{:.2f}'.format(np.exp(v) - 1) for v in ax.get_yticks()])"
   ]
  },
  {
   "cell_type": "code",
   "execution_count": null,
   "metadata": {},
   "outputs": [],
   "source": [
    "clusters_gr = data.groupby(CLUSTER_ID_COLUMN_NAME)\n",
    "cluster_sizes = clusters_gr.size()\n",
    "cluster_size_overview(cluster_sizes)"
   ]
  },
  {
   "cell_type": "markdown",
   "metadata": {},
   "source": [
    "### Subject counts"
   ]
  },
  {
   "cell_type": "code",
   "execution_count": null,
   "metadata": {},
   "outputs": [],
   "source": [
    "cluster_subj_cnt = clusters_gr['Subject'].nunique()\n",
    "cluster_subj_cnt"
   ]
  },
  {
   "cell_type": "code",
   "execution_count": null,
   "metadata": {},
   "outputs": [],
   "source": [
    "from bin.plotting import barplot\n",
    "\n",
    "ax=barplot(cluster_subj_cnt.value_counts(), title='Number of source subjects in clusters')\n",
    "ax.set(ylabel='Number of subjects', xlabel='Number of clusters');"
   ]
  },
  {
   "cell_type": "markdown",
   "metadata": {},
   "source": [
    "### CDR3 logos of the largest clusters"
   ]
  },
  {
   "cell_type": "code",
   "execution_count": null,
   "metadata": {},
   "outputs": [],
   "source": [
    "HEBP_TYPE = 'HepB+B-cells'\n",
    "\n",
    "clusters_specif = clusters_gr.apply(lambda gr: (gr['BType'] == HEBP_TYPE).sum() / len(gr))"
   ]
  },
  {
   "cell_type": "code",
   "execution_count": null,
   "metadata": {},
   "outputs": [],
   "source": [
    "import matplotlib.pyplot as plt\n",
    "import logomaker as lm\n",
    "import math\n",
    "\n",
    "LOGOS_CLUSTER_CNT = 10\n",
    "NCOLS = 2\n",
    "HEP_B_RATIO_THRESHOLD = 0.5\n",
    "\n",
    "def cdr3_logos(cluster_ids, mark_hepb=False):\n",
    "    nrows = math.ceil(len(cluster_ids) / NCOLS)\n",
    "    \n",
    "    fig, axs = plt.subplots(nrows, NCOLS, figsize=(10, 8))\n",
    "    \n",
    "    for cluster_id, ax in zip(cluster_ids, axs.flat):\n",
    "        cluster_data = data[data[CLUSTER_ID_COLUMN_NAME] == cluster_id]\n",
    "        cluster_cdr3_sequences = cluster_data['cdr3'].values\n",
    "        \n",
    "        counts_mat = lm.alignment_to_matrix(cluster_cdr3_sequences)\n",
    "\n",
    "        logo = lm.Logo(counts_mat, color_scheme='chemistry', ax=ax)\n",
    "        subjects_cnt = len(cluster_data.groupby(['Author', 'Subject']))\n",
    "        \n",
    "        title = f'CDR3 - cluster {cluster_id}. Size={cluster_sizes[cluster_id]:,}\\nHepB_spec.={\"{:.3f}\".format(clusters_specif[cluster_id])} - from {subjects_cnt} subjects'\n",
    "        fontweight = 'bold' if mark_hepb and clusters_specif[cluster_id] > HEP_B_RATIO_THRESHOLD else 'normal'\n",
    "\n",
    "        ax.set_title(title, fontweight=fontweight)\n",
    "\n",
    "    fig.tight_layout()"
   ]
  },
  {
   "cell_type": "code",
   "execution_count": null,
   "metadata": {},
   "outputs": [],
   "source": [
    "largest_clusters = cluster_sizes.sort_values(ascending=False).head(LOGOS_CLUSTER_CNT).index.to_list()\n",
    "cdr3_logos(largest_clusters, mark_hepb=True)"
   ]
  },
  {
   "cell_type": "markdown",
   "metadata": {},
   "source": [
    "### CDR3 logos of the clusters with most subjects"
   ]
  },
  {
   "cell_type": "code",
   "execution_count": null,
   "metadata": {},
   "outputs": [],
   "source": [
    "clusters_sorted_subj = cluster_subj_cnt.sort_values()\n",
    "\n",
    "ax = clusters_sorted_subj.reset_index(drop=True).plot.area()\n",
    "ax.set(title='Number of subjects in clusters', xlabel='Cluster', ylabel='Number of subjects', xticks=[]);"
   ]
  },
  {
   "cell_type": "code",
   "execution_count": null,
   "metadata": {},
   "outputs": [],
   "source": [
    "cdr3_logos(clusters_sorted_subj.tail(LOGOS_CLUSTER_CNT).index)"
   ]
  },
  {
   "cell_type": "markdown",
   "metadata": {},
   "source": [
    "## HepB data overview"
   ]
  },
  {
   "cell_type": "markdown",
   "metadata": {},
   "source": [
    "### HepB ratio"
   ]
  },
  {
   "cell_type": "code",
   "execution_count": null,
   "metadata": {},
   "outputs": [],
   "source": [
    "RATIO_SIZE_TITLE = 'Cluster HepB ratio'\n",
    "\n",
    "def cluster_hepb_ratio_overview(specif):\n",
    "    sorted_specif = specif.sort_values()\n",
    "\n",
    "    ax = sorted_specif.reset_index().iloc[:,1].plot.area()\n",
    "    ax.set(title=RATIO_SIZE_TITLE, xlabel='Cluster', ylabel='HepB ratio' , xticks=[])\n",
    "    plt.show()"
   ]
  },
  {
   "cell_type": "code",
   "execution_count": null,
   "metadata": {},
   "outputs": [],
   "source": [
    "cluster_hepb_ratio_overview(clusters_specif)"
   ]
  },
  {
   "cell_type": "code",
   "execution_count": null,
   "metadata": {},
   "outputs": [],
   "source": [
    "ax = sns.scatterplot(x=clusters_specif, y=cluster_sizes, size=cluster_sizes)\n",
    "ax.set(title='Clusters HepB ratio - size', xlabel='Cluster HepB ratio', ylabel='Cluster size')\n",
    "plt.show()"
   ]
  },
  {
   "cell_type": "markdown",
   "metadata": {},
   "source": [
    "### HepB data"
   ]
  },
  {
   "cell_type": "code",
   "execution_count": null,
   "metadata": {},
   "outputs": [],
   "source": [
    "hepb_clusters_ids = clusters_specif[clusters_specif > HEP_B_RATIO_THRESHOLD].index.to_list()"
   ]
  },
  {
   "cell_type": "code",
   "execution_count": null,
   "metadata": {},
   "outputs": [],
   "source": [
    "cluster_sizes_by_hepb = pd.Series([len(hepb_clusters_ids), len(clusters_specif) - len(hepb_clusters_ids)], index=['HepB', 'Non HepB'])\n",
    "ax = barplot(cluster_sizes_by_hepb, title=f'Number of clusters by HepB (ratio threshold: {HEP_B_RATIO_THRESHOLD})');\n",
    "ax.set(xlabel='Number of clusters');"
   ]
  },
  {
   "cell_type": "markdown",
   "metadata": {},
   "source": [
    "### HepB cluster sizes"
   ]
  },
  {
   "cell_type": "code",
   "execution_count": null,
   "metadata": {},
   "outputs": [],
   "source": [
    "cluster_size_overview(cluster_sizes[hepb_clusters_ids])"
   ]
  },
  {
   "cell_type": "markdown",
   "metadata": {},
   "source": [
    "### HepB subject counts"
   ]
  },
  {
   "cell_type": "code",
   "execution_count": null,
   "metadata": {},
   "outputs": [],
   "source": [
    "ax=barplot(cluster_subj_cnt.iloc[hepb_clusters_ids].value_counts(), title='Number of source subjects in clusters')\n",
    "ax.set(ylabel='Number of subjects', xlabel='Number of clusters');"
   ]
  },
  {
   "cell_type": "markdown",
   "metadata": {},
   "source": [
    "### HepB CDR3 logos"
   ]
  },
  {
   "cell_type": "code",
   "execution_count": null,
   "metadata": {},
   "outputs": [],
   "source": [
    "hepb_clusters_df = pd.DataFrame({\n",
    "    'Size': cluster_sizes,\n",
    "    'HepB ratio': clusters_specif,\n",
    "    'HepB seq. count': clusters_specif * cluster_sizes\n",
    "})\n",
    "\n",
    "sorted_hepb_clusters_df = hepb_clusters_df.sort_values(by='HepB seq. count', ascending=False)\n",
    "sorted_hepb_clusters_df.head(10)"
   ]
  },
  {
   "cell_type": "code",
   "execution_count": null,
   "metadata": {},
   "outputs": [],
   "source": [
    "HEP_B_RATIO_THRESHOLD = 0.95\n",
    "\n",
    "best_hepb_clusters = sorted_hepb_clusters_df[sorted_hepb_clusters_df['HepB ratio'] > HEP_B_RATIO_THRESHOLD].head(LOGOS_CLUSTER_CNT)\n",
    "best_hepb_clusters"
   ]
  },
  {
   "cell_type": "code",
   "execution_count": null,
   "metadata": {},
   "outputs": [],
   "source": [
    "cdr3_logos(best_hepb_clusters.index)"
   ]
  }
 ],
 "metadata": {
  "kernelspec": {
   "display_name": "Python 3",
   "language": "python",
   "name": "python3"
  },
  "language_info": {
   "codemirror_mode": {
    "name": "ipython",
    "version": 3
   },
   "file_extension": ".py",
   "mimetype": "text/x-python",
   "name": "python",
   "nbconvert_exporter": "python",
   "pygments_lexer": "ipython3",
   "version": "3.7.6"
  }
 },
 "nbformat": 4,
 "nbformat_minor": 4
}
