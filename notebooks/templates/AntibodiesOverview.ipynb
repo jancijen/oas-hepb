{
 "cells": [
  {
   "cell_type": "markdown",
   "metadata": {},
   "source": [
    "# OAS-hepB Data Overview"
   ]
  },
  {
   "cell_type": "code",
   "execution_count": null,
   "metadata": {},
   "outputs": [],
   "source": [
    "# Retina quality plots\n",
    "%config InlineBackend.figure_format = 'retina'"
   ]
  },
  {
   "cell_type": "markdown",
   "metadata": {},
   "source": [
    "## Load data"
   ]
  },
  {
   "cell_type": "code",
   "execution_count": null,
   "metadata": {},
   "outputs": [],
   "source": [
    "import os\n",
    "import gzip\n",
    "import json\n",
    "import pandas as pd\n",
    "\n",
    "METADATA_DIR = 'data/meta'\n",
    "UNITS_LISTS_DIR = METADATA_DIR + '/units-list'\n",
    "SEQ_DIR = 'data/seq'\n",
    "UNITS_LIST_FILE_EXT = '.txt'\n",
    "DATAUNIT_FILE_EXT = '.parquet'\n",
    "METADATA_FILE_EXT = '.parquet'\n",
    "\n",
    "def load_data(study):\n",
    "    \"\"\"\n",
    "    Loads data from given study.\n",
    "    \n",
    "    Args:\n",
    "        study    name of a study to be loaded.\n",
    "\n",
    "    Returns:\n",
    "        dataframe of sequences and metadata from given study and dataframe\n",
    "        consisting of dataunits metadata from given study.\n",
    "    \"\"\"\n",
    "    \n",
    "    dataunits_list_path = f'{UNITS_LISTS_DIR}/{study}{UNITS_LIST_FILE_EXT}'\n",
    "\n",
    "    with open(dataunits_list_path) as dataunits_list_file:\n",
    "        dataunits = [line.strip() for line in dataunits_list_file.readlines()]\n",
    "\n",
    "    ddfs = []\n",
    "    meta_dfs = []\n",
    "    for dataunit in dataunits:\n",
    "        data_path = f'{SEQ_DIR}/{study}/{dataunit}{DATAUNIT_FILE_EXT}'\n",
    "        df = pd.read_parquet(data_path)\n",
    "        \n",
    "        metadata_path = f'{METADATA_DIR}/{study}/{dataunit}{METADATA_FILE_EXT}'\n",
    "        meta_df = pd.read_parquet(metadata_path)\n",
    "        \n",
    "        for col in meta_df.columns:\n",
    "            df[col] = meta_df[col][0]\n",
    "\n",
    "        ddfs.append(df)\n",
    "        meta_dfs.append(meta_df)\n",
    "    \n",
    "    data = pd.concat(ddfs, axis=0)\n",
    "    metadata = pd.concat(meta_dfs, axis=0)\n",
    "\n",
    "    return data, metadata"
   ]
  },
  {
   "cell_type": "code",
   "execution_count": null,
   "metadata": {
    "tags": [
     "parameters"
    ]
   },
   "outputs": [],
   "source": [
    "STUDIES = ['Galson_2015a', 'Galson_2016']"
   ]
  },
  {
   "cell_type": "code",
   "execution_count": null,
   "metadata": {},
   "outputs": [],
   "source": [
    "data_dfs, metadata_dfs = map(list, list(zip(*[load_data(study) for study in STUDIES])))\n",
    "\n",
    "data = pd.concat(data_dfs)\n",
    "metadata = pd.concat(metadata_dfs)"
   ]
  },
  {
   "cell_type": "code",
   "execution_count": null,
   "metadata": {},
   "outputs": [],
   "source": [
    "data.info()\n",
    "data.head()"
   ]
  },
  {
   "cell_type": "code",
   "execution_count": null,
   "metadata": {},
   "outputs": [],
   "source": [
    "metadata.info()\n",
    "metadata.head()"
   ]
  },
  {
   "cell_type": "markdown",
   "metadata": {},
   "source": [
    "## Data overview"
   ]
  },
  {
   "cell_type": "markdown",
   "metadata": {},
   "source": [
    "### Size"
   ]
  },
  {
   "cell_type": "code",
   "execution_count": null,
   "metadata": {},
   "outputs": [],
   "source": [
    "def human_readable_number(number):\n",
    "    return f'{number:,}'\n",
    "\n",
    "def size_overview(df):\n",
    "    print(f'Total number of sequences: {df.shape[0]:,}')\n",
    "    unique_seq_cnt = df['seq'].nunique()\n",
    "    print(f'Number of unique sequences: {unique_seq_cnt:,}')\n",
    "    unique_cdr3_cnt = df['cdr3'].nunique()\n",
    "    print(f'Number of unique CDR3 sequences: {unique_cdr3_cnt:,}')\n",
    "\n",
    "    seq_cnt_col_name = 'Total sequences'\n",
    "    unique_seq_cnt_col_name = 'Unique sequences'\n",
    "    unique_cdr3_cnt_col_name = 'Unique CDR3 sequences'\n",
    "\n",
    "    df_visit_grpby = df.groupby('Longitudinal')\n",
    "    visit_sizes_df = df_visit_grpby.size().reset_index(name=seq_cnt_col_name).set_index('Longitudinal')\n",
    "    visit_sizes_df[unique_seq_cnt_col_name] = df_visit_grpby['seq'].nunique()\n",
    "    visit_sizes_df[unique_cdr3_cnt_col_name] = df_visit_grpby['cdr3'].nunique()\n",
    "\n",
    "    formatters = {\n",
    "        seq_cnt_col_name: human_readable_number,\n",
    "        unique_seq_cnt_col_name: human_readable_number,\n",
    "        unique_cdr3_cnt_col_name: human_readable_number\n",
    "    }\n",
    "    display(visit_sizes_df.style.format(formatters))"
   ]
  },
  {
   "cell_type": "code",
   "execution_count": null,
   "metadata": {},
   "outputs": [],
   "source": [
    "size_overview(data)"
   ]
  },
  {
   "cell_type": "markdown",
   "metadata": {},
   "source": [
    "### Sequence counts from subjects"
   ]
  },
  {
   "cell_type": "code",
   "execution_count": null,
   "metadata": {},
   "outputs": [],
   "source": [
    "from bin.plotting import barplot\n",
    "\n",
    "ax = barplot(data['Subject'].value_counts(), title='Number of sequences from subjects');\n",
    "ax.set(xlabel='Number of sequences');"
   ]
  },
  {
   "cell_type": "markdown",
   "metadata": {},
   "source": [
    "### Sequences lengths"
   ]
  },
  {
   "cell_type": "code",
   "execution_count": null,
   "metadata": {},
   "outputs": [],
   "source": [
    "import seaborn as sns\n",
    "import numpy as np\n",
    "\n",
    "def lengths_plot(data, target, title):\n",
    "    lengths = data[target].str.len()\n",
    "\n",
    "    ax = sns.distplot(lengths, bins=np.arange(lengths.min(), lengths.max() + 1), kde_kws={'bw':1})\n",
    "    ax.set_title(title)\n",
    "    ax.set(xlabel='Length')"
   ]
  },
  {
   "cell_type": "code",
   "execution_count": null,
   "metadata": {},
   "outputs": [],
   "source": [
    "lengths_plot(data, 'seq', 'Sequence lengths')"
   ]
  },
  {
   "cell_type": "code",
   "execution_count": null,
   "metadata": {},
   "outputs": [],
   "source": [
    "from matplotlib import pyplot as plt\n",
    "\n",
    "def for_each_length_plots(df, for_each_col, target, title):\n",
    "    for_each_values = df[for_each_col].unique()\n",
    "\n",
    "    for for_each in for_each_values:\n",
    "        lengths_plot(df[df[for_each_col] == for_each],  target, title.format(for_each))\n",
    "        plt.show()"
   ]
  },
  {
   "cell_type": "code",
   "execution_count": null,
   "metadata": {},
   "outputs": [],
   "source": [
    "for_each_length_plots(data, 'BType', 'seq', '{} - sequence lengths')"
   ]
  },
  {
   "cell_type": "code",
   "execution_count": null,
   "metadata": {},
   "outputs": [],
   "source": [
    "for_each_length_plots(data, 'Isotype', 'seq', '{} - sequence lengths')"
   ]
  },
  {
   "cell_type": "code",
   "execution_count": null,
   "metadata": {},
   "outputs": [],
   "source": [
    "lengths_plot(data, 'cdr3', 'CDR3 lengths')"
   ]
  },
  {
   "cell_type": "code",
   "execution_count": null,
   "metadata": {},
   "outputs": [],
   "source": [
    "for_each_length_plots(data, 'BType', 'cdr3', '{} - CDR3 lengths')"
   ]
  },
  {
   "cell_type": "code",
   "execution_count": null,
   "metadata": {},
   "outputs": [],
   "source": [
    "for_each_length_plots(data, 'Isotype', 'cdr3', '{} - CDR3 lengths')"
   ]
  },
  {
   "cell_type": "markdown",
   "metadata": {},
   "source": [
    "### B-cell labels"
   ]
  },
  {
   "cell_type": "code",
   "execution_count": null,
   "metadata": {},
   "outputs": [],
   "source": [
    "ax = barplot(metadata.groupby('BType')['Size'].sum(), title='B-cell labels - sequence counts');\n",
    "ax.set(ylabel='B-cell label', xlabel='Number of sequences');"
   ]
  },
  {
   "cell_type": "code",
   "execution_count": null,
   "metadata": {},
   "outputs": [],
   "source": [
    "def count_plots(data, for_each_col, target, groupby_col):\n",
    "    for_each_unique_values = sorted(data[for_each_col].unique())\n",
    "\n",
    "    for for_each_val in for_each_unique_values:\n",
    "        data_to_plot = data[data[for_each_col] == for_each_val].groupby(groupby_col)[target].sum()\n",
    "        ax = barplot(data_to_plot, title=f'{for_each_val} - {groupby_col} counts');\n",
    "        ax.set(xlabel='Number of sequences');\n",
    "        plt.show()"
   ]
  },
  {
   "cell_type": "code",
   "execution_count": null,
   "metadata": {},
   "outputs": [],
   "source": [
    "count_plots(metadata, 'Longitudinal', 'Size', 'BType')"
   ]
  },
  {
   "cell_type": "markdown",
   "metadata": {},
   "source": [
    "### Subjects visits"
   ]
  },
  {
   "cell_type": "code",
   "execution_count": null,
   "metadata": {},
   "outputs": [],
   "source": [
    "def subject_visits_overview(df):\n",
    "    df_groupby_subject = df.groupby('Subject')\n",
    "    \n",
    "    display(df_groupby_subject['Longitudinal'].unique())\n",
    "    ax = barplot(df_groupby_subject['Longitudinal'].nunique(), title='Number of visits for subjects')\n",
    "    ax.set(xlabel='Number of visits');"
   ]
  },
  {
   "cell_type": "code",
   "execution_count": null,
   "metadata": {},
   "outputs": [],
   "source": [
    "subject_visits_overview(data)"
   ]
  },
  {
   "cell_type": "markdown",
   "metadata": {},
   "source": [
    "### hepB antibodies count"
   ]
  },
  {
   "cell_type": "code",
   "execution_count": null,
   "metadata": {},
   "outputs": [],
   "source": [
    "def subject_hepb_counts(df):\n",
    "    df_groupby_subject = df.groupby('Subject')\n",
    "    HEBP_TYPE = 'HepB+B-cells'\n",
    "    ncols = 3\n",
    "    nrows = int(np.ceil(df_groupby_subject.ngroups / ncols))\n",
    "    \n",
    "    _, axes = plt.subplots(nrows=nrows, ncols=ncols, figsize=(6 * ncols, 4 * nrows), sharey=True)\n",
    "\n",
    "    for (key, ax) in zip(df_groupby_subject.groups.keys(), axes.flatten()):\n",
    "        subject = df_groupby_subject.get_group(key)\n",
    "\n",
    "        visit_values = sorted(subject['Longitudinal'].unique())\n",
    "        hepb_cnts = [len(subject[(subject['Longitudinal'] == visit) & (subject['BType'] == HEBP_TYPE)]) for visit in visit_values]\n",
    "\n",
    "        sns.pointplot(visit_values, hepb_cnts, ax=ax)\n",
    "        ax.set(title=key, ylabel='hepB ABs (symlog)', yscale='symlog')\n",
    "\n",
    "    plt.tight_layout()\n",
    "    plt.show()"
   ]
  },
  {
   "cell_type": "code",
   "execution_count": null,
   "metadata": {},
   "outputs": [],
   "source": [
    "subject_hepb_counts(data)"
   ]
  },
  {
   "cell_type": "code",
   "execution_count": null,
   "metadata": {},
   "outputs": [],
   "source": []
  }
 ],
 "metadata": {
  "kernelspec": {
   "display_name": "Python 3",
   "language": "python",
   "name": "python3"
  },
  "language_info": {
   "codemirror_mode": {
    "name": "ipython",
    "version": 3
   },
   "file_extension": ".py",
   "mimetype": "text/x-python",
   "name": "python",
   "nbconvert_exporter": "python",
   "pygments_lexer": "ipython3",
   "version": "3.7.6"
  }
 },
 "nbformat": 4,
 "nbformat_minor": 4
}
