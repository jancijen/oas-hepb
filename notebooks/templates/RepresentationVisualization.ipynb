{
 "cells": [
  {
   "cell_type": "markdown",
   "metadata": {},
   "source": [
    "# Representation visualization"
   ]
  },
  {
   "cell_type": "code",
   "execution_count": null,
   "metadata": {},
   "outputs": [],
   "source": [
    "# Retina quality plots\n",
    "%config InlineBackend.figure_format = 'retina'"
   ]
  },
  {
   "cell_type": "code",
   "execution_count": null,
   "metadata": {
    "tags": [
     "parameters"
    ]
   },
   "outputs": [],
   "source": [
    "X_TRAIN_PATH = 'data/features_data/fingerprints_subj_split/neg_subs/Circular_(Morgan)/X_train.parquet'\n",
    "X_VALID_PATH = 'data/features_data/fingerprints_subj_split/valid/Circular_(Morgan)/X_valid_balanced.parquet'\n",
    "Y_TRAIN_PATH = 'data/features_data/fingerprints_subj_split/neg_subs/Circular_(Morgan)/y_train.parquet'\n",
    "Y_VALID_PATH = 'data/features_data/fingerprints_subj_split/valid/Circular_(Morgan)/y_valid_balanced.parquet'\n",
    "FULL_DATA_PATH = 'data/combined/clustered/final/Galson_2015a.parquet'\n",
    "REPRESENTATION_TYPE = 'Circular fingerprints'"
   ]
  },
  {
   "cell_type": "markdown",
   "metadata": {},
   "source": [
    "## Load data"
   ]
  },
  {
   "cell_type": "code",
   "execution_count": null,
   "metadata": {},
   "outputs": [],
   "source": [
    "import pandas as pd\n",
    "\n",
    "features_data = pd.concat([\n",
    "    pd.read_parquet(X_TRAIN_PATH),\n",
    "    pd.read_parquet(X_VALID_PATH)\n",
    "])\n",
    "\n",
    "features_data.info()\n",
    "features_data.head()"
   ]
  },
  {
   "cell_type": "code",
   "execution_count": null,
   "metadata": {},
   "outputs": [],
   "source": [
    "y_train = pd.read_parquet(Y_TRAIN_PATH)['HepB']\n",
    "y_valid = pd.read_parquet(Y_VALID_PATH)['HepB']\n",
    "\n",
    "y_data = pd.concat([\n",
    "    y_train,\n",
    "    y_valid\n",
    "])\n",
    "\n",
    "y_data.head()"
   ]
  },
  {
   "cell_type": "code",
   "execution_count": null,
   "metadata": {},
   "outputs": [],
   "source": [
    "pos_features_data = features_data[y_data]\n",
    "\n",
    "pos_features_data.info()\n",
    "pos_features_data.head()"
   ]
  },
  {
   "cell_type": "code",
   "execution_count": null,
   "metadata": {},
   "outputs": [],
   "source": [
    "clustered_data = pd.read_parquet(FULL_DATA_PATH)\n",
    "\n",
    "clustered_data.info()\n",
    "clustered_data.head()"
   ]
  },
  {
   "cell_type": "markdown",
   "metadata": {},
   "source": [
    "## HepB sequences - t-SNE"
   ]
  },
  {
   "cell_type": "code",
   "execution_count": null,
   "metadata": {},
   "outputs": [],
   "source": [
    "from MulticoreTSNE import MulticoreTSNE as TSNE\n",
    "\n",
    "TSNE_COMPONENTS = 2\n",
    "RANDOM_STATE = 42\n",
    "\n",
    "# t-SNE\n",
    "pos_tsne_output = TSNE(n_components=TSNE_COMPONENTS, random_state=RANDOM_STATE, n_jobs=-1).fit_transform(pos_features_data)"
   ]
  },
  {
   "cell_type": "code",
   "execution_count": null,
   "metadata": {},
   "outputs": [],
   "source": [
    "import numpy as np\n",
    "\n",
    "TRAIN_LABEL = 'Train'\n",
    "VALID_LABEL = 'Valid'\n",
    "\n",
    "def tsne_data(tsne, X_data, y_data, train_cnt, valid_cnt):\n",
    "    cl_grouped = clustered_data[clustered_data['Cluster_ID'].isin(X_data.index)].groupby('Cluster_ID')\n",
    "    source_subj_clusters = cl_grouped['Subject'].unique().value_counts()\n",
    "    \n",
    "    print(f'Single subject clusters: {\", \".join(sorted(np.array([subjects for subjects in source_subj_clusters.index if len(subjects) == 1]).flatten()))}')\n",
    "    \n",
    "    cl_majority_subjects = cl_grouped['Subject'].agg(lambda x: x.mode()[0])\n",
    "    cl_majority_subjects = cl_majority_subjects.loc[X_data.index]\n",
    "\n",
    "    print(f'Majority subjects for clusters: {\", \".join(sorted(cl_majority_subjects.unique()))}')\n",
    "    \n",
    "    cluster_sizes = cl_grouped.size()\n",
    "    cluster_sizes = cluster_sizes.loc[X_data.index].rename('Size')\n",
    "    \n",
    "    # Dataframe containing all the information\n",
    "    df = pd.DataFrame(tsne)\n",
    "    df['Size'] = cluster_sizes.values\n",
    "    df['Subject'] = cl_majority_subjects.values\n",
    "    df['HepB'] = y_data.values\n",
    "\n",
    "    df['Dataset'] = [TRAIN_LABEL for _ in range(train_cnt)] + [VALID_LABEL for _ in range(valid_cnt)]\n",
    "    \n",
    "    return df"
   ]
  },
  {
   "cell_type": "code",
   "execution_count": null,
   "metadata": {},
   "outputs": [],
   "source": [
    "pos_df = tsne_data(pos_tsne_output, pos_features_data, y_data.loc[pos_features_data.index], (y_train == True).sum(), (y_valid == True).sum())\n",
    "pos_df"
   ]
  },
  {
   "cell_type": "code",
   "execution_count": null,
   "metadata": {},
   "outputs": [],
   "source": [
    "import matplotlib.pyplot as plt\n",
    "import seaborn as sns\n",
    "import itertools\n",
    "\n",
    "MARKER_SIZE_DIV = 10\n",
    "DEFAULT_MARKER_SIZE = 5\n",
    "ALPHA = 0.5\n",
    "LARGEST_CLUSTERS_CNT = 5\n",
    "\n",
    "TRAINING_MARKER = 'o'\n",
    "VALIDATION_MARKER = 'D'\n",
    "\n",
    "unique_subjects = sorted(clustered_data['Subject'].unique(), reverse=True)\n",
    "color_palette = itertools.cycle(sns.color_palette(n_colors=len(unique_subjects)))\n",
    "\n",
    "# Plot attributes\n",
    "subject_colors = {\n",
    "    subject: color\n",
    "    for subject, color in zip(unique_subjects, color_palette)\n",
    "}\n",
    "dataset_markers = {\n",
    "    VALID_LABEL: VALIDATION_MARKER,\n",
    "    TRAIN_LABEL: TRAINING_MARKER\n",
    "}\n",
    "hepb_color_palette = itertools.cycle(sns.color_palette())\n",
    "hepb_colors = {\n",
    "    True: next(hepb_color_palette),\n",
    "    False: next(hepb_color_palette)\n",
    "}\n",
    "hepb_labels = {\n",
    "    True: 'HepB',\n",
    "    False: 'Non-HepB'\n",
    "}\n",
    "\n",
    "def tsne_plot(tsne_df, hepb_grouping=False):\n",
    "    _, ax = plt.subplots(figsize=(12,8))\n",
    "\n",
    "    # Legend entry constructor\n",
    "    legend_entry = lambda marker, color: plt.plot([],[], marker=marker, color=color, ls='None')[0]\n",
    "\n",
    "    datasets = list(dataset_markers.keys())\n",
    "    \n",
    "    if hepb_grouping:\n",
    "        grouped_df = tsne_df.groupby(['HepB', 'Dataset'])\n",
    "        for (hepb, dataset), group in grouped_df:\n",
    "            group.plot.scatter(ax=ax, x=0, y=1,\n",
    "                               marker=dataset_markers[dataset],\n",
    "                               color=hepb_colors[hepb], \n",
    "                               s=(group['Size'] / MARKER_SIZE_DIV) + DEFAULT_MARKER_SIZE, \n",
    "                               linewidth=0, \n",
    "                               alpha=ALPHA)\n",
    "        \n",
    "        ax.set(title=f'{REPRESENTATION_TYPE} t-SNE')\n",
    "\n",
    "        # Legend\n",
    "        hepb_vals = sorted(hepb_colors.keys())\n",
    "        handles = [legend_entry('o', hepb_colors[hepb]) for hepb in hepb_vals]\n",
    "        labels = [hepb_labels[key] for key in hepb_vals] + datasets\n",
    "    else:\n",
    "        # Scatter plot\n",
    "        grouped_df = tsne_df.groupby(['Subject', 'Dataset'])\n",
    "        for (subject, dataset), group in grouped_df:\n",
    "            group.plot.scatter(ax=ax, x=0, y=1,\n",
    "                               marker=dataset_markers[dataset],\n",
    "                               color=subject_colors[subject], \n",
    "                               s=(group['Size'] / MARKER_SIZE_DIV) + DEFAULT_MARKER_SIZE, \n",
    "                               linewidth=0, \n",
    "                               alpha=ALPHA)\n",
    "\n",
    "        ax.set(title=f'{REPRESENTATION_TYPE} t-SNE of HepB sequences')\n",
    "        \n",
    "        # Legend\n",
    "        subjects = sorted(list(tsne_df['Subject'].unique()))\n",
    "        handles = [legend_entry('o', subject_colors[subj]) for subj in subjects]\n",
    "        labels = subjects + datasets\n",
    "    \n",
    "    handles += [legend_entry(dataset_markers[dataset], 'black') for dataset in datasets]\n",
    "    labels.append(f'Size = size/{MARKER_SIZE_DIV} + {DEFAULT_MARKER_SIZE}')\n",
    "    handles.append(legend_entry(None, None))\n",
    "\n",
    "    plt.legend(handles, labels);"
   ]
  },
  {
   "cell_type": "code",
   "execution_count": null,
   "metadata": {},
   "outputs": [],
   "source": [
    "tsne_plot(pos_df)"
   ]
  },
  {
   "cell_type": "markdown",
   "metadata": {},
   "source": [
    "## All sequences - t-SNE"
   ]
  },
  {
   "cell_type": "code",
   "execution_count": null,
   "metadata": {},
   "outputs": [],
   "source": [
    "all_tsne_output = TSNE(n_components=TSNE_COMPONENTS, random_state=RANDOM_STATE, n_jobs=-1).fit_transform(features_data)"
   ]
  },
  {
   "cell_type": "code",
   "execution_count": null,
   "metadata": {},
   "outputs": [],
   "source": [
    "all_df = tsne_data(all_tsne_output, features_data, y_data, len(y_train), len(y_valid))\n",
    "all_df"
   ]
  },
  {
   "cell_type": "code",
   "execution_count": null,
   "metadata": {},
   "outputs": [],
   "source": [
    "tsne_plot(all_df, hepb_grouping=True)"
   ]
  }
 ],
 "metadata": {
  "kernelspec": {
   "display_name": "Python 3",
   "language": "python",
   "name": "python3"
  },
  "language_info": {
   "codemirror_mode": {
    "name": "ipython",
    "version": 3
   },
   "file_extension": ".py",
   "mimetype": "text/x-python",
   "name": "python",
   "nbconvert_exporter": "python",
   "pygments_lexer": "ipython3",
   "version": "3.7.6"
  }
 },
 "nbformat": 4,
 "nbformat_minor": 4
}
